{
 "cells": [
  {
   "cell_type": "markdown",
   "metadata": {},
   "source": [
    "---"
   ]
  },
  {
   "cell_type": "markdown",
   "metadata": {},
   "source": [
    "## Import Libraries and source Data"
   ]
  },
  {
   "cell_type": "markdown",
   "metadata": {},
   "source": [
    "---"
   ]
  },
  {
   "cell_type": "code",
   "execution_count": 162,
   "metadata": {},
   "outputs": [],
   "source": [
    "options(warn=-1)\n",
    "\n",
    "\n",
    "library(ggplot2)\n",
    "library(gridExtra)\n",
    "library(tidyr)\n",
    "library(dplyr)\n",
    "library(caret)\n",
    "library(corrplot)\n",
    "library(readr)\n",
    "library(knitr)\n",
    "library(kableExtra)\n",
    "library(formattable)\n",
    "library(tm)\n",
    "library(wordcloud)\n",
    "library(gridExtra)\n",
    "library(grid)\n",
    "library(leaflet)\n",
    "library(randomForest)\n",
    "options(knitr.table.format = \"html\") "
   ]
  },
  {
   "cell_type": "code",
   "execution_count": 164,
   "metadata": {},
   "outputs": [],
   "source": [
    "df <- suppressMessages(read_csv(\"simpsons_script_lines.csv\"))"
   ]
  },
  {
   "cell_type": "code",
   "execution_count": 139,
   "metadata": {},
   "outputs": [],
   "source": [
    "#function to make html table more readable\n",
    "\n",
    "printable <- function(input){\n",
    "    \n",
    "    X <- input\n",
    "    X$raw_text <- sapply(X$raw_text,truncate)\n",
    "    X$spoken_words <- sapply(X$spoken_words,truncate)\n",
    "    X$normalized_text <- sapply(X$normalized_text,truncate)\n",
    "    return(X)\n",
    "    \n",
    "}\n",
    "\n",
    "truncate <- function(x){\n",
    "    if(nchar(x)>30){\n",
    "        paste(strtrim(x,30),\"...\")\n",
    "    }else{\n",
    "        return(x)\n",
    "    }\n",
    "}\n"
   ]
  },
  {
   "cell_type": "markdown",
   "metadata": {},
   "source": [
    "---"
   ]
  },
  {
   "cell_type": "markdown",
   "metadata": {},
   "source": [
    "## Dataframe Exploration"
   ]
  },
  {
   "cell_type": "markdown",
   "metadata": {},
   "source": [
    "---"
   ]
  },
  {
   "cell_type": "markdown",
   "metadata": {},
   "source": [
    "What does our dataframe look like?"
   ]
  },
  {
   "cell_type": "code",
   "execution_count": 140,
   "metadata": {},
   "outputs": [
    {
     "data": {
      "text/html": [
       "<table>\n",
       "<thead><tr><th scope=col>id</th><th scope=col>episode_id</th><th scope=col>number</th><th scope=col>raw_text</th><th scope=col>timestamp_in_ms</th><th scope=col>speaking_line</th><th scope=col>character_id</th><th scope=col>location_id</th><th scope=col>raw_character_text</th><th scope=col>raw_location_text</th><th scope=col>spoken_words</th><th scope=col>normalized_text</th><th scope=col>word_count</th></tr></thead>\n",
       "<tbody>\n",
       "\t<tr><td>9549                              </td><td>32                                </td><td>209                               </td><td>Miss Hoover: No, actually, it  ...</td><td>848000                            </td><td>true                              </td><td>464                               </td><td>3                                 </td><td>Miss Hoover                       </td><td>Springfield Elementary School     </td><td>No, actually, it was a little  ...</td><td>no actually it was a little of ...</td><td>31                                </td></tr>\n",
       "\t<tr><td>9550                              </td><td>32                                </td><td>210                               </td><td>Lisa Simpson: (NEAR TEARS) Whe ...</td><td>856000                            </td><td>true                              </td><td>  9                               </td><td>3                                 </td><td>Lisa Simpson                      </td><td>Springfield Elementary School     </td><td>Where's Mr. Bergstrom?            </td><td>wheres mr bergstrom               </td><td>3                                 </td></tr>\n",
       "\t<tr><td>9551                              </td><td>32                                </td><td>211                               </td><td>Miss Hoover: I don't know. Alt ...</td><td>856000                            </td><td>true                              </td><td>464                               </td><td>3                                 </td><td>Miss Hoover                       </td><td>Springfield Elementary School     </td><td>I don't know. Although I'd sur ...</td><td>i dont know although id sure l ...</td><td>22                                </td></tr>\n",
       "</tbody>\n",
       "</table>\n"
      ],
      "text/latex": [
       "\\begin{tabular}{r|lllllllllllll}\n",
       " id & episode\\_id & number & raw\\_text & timestamp\\_in\\_ms & speaking\\_line & character\\_id & location\\_id & raw\\_character\\_text & raw\\_location\\_text & spoken\\_words & normalized\\_text & word\\_count\\\\\n",
       "\\hline\n",
       "\t 9549                               & 32                                 & 209                                & Miss Hoover: No, actually, it  ... & 848000                             & true                               & 464                                & 3                                  & Miss Hoover                        & Springfield Elementary School      & No, actually, it was a little  ... & no actually it was a little of ... & 31                                \\\\\n",
       "\t 9550                               & 32                                 & 210                                & Lisa Simpson: (NEAR TEARS) Whe ... & 856000                             & true                               &   9                                & 3                                  & Lisa Simpson                       & Springfield Elementary School      & Where's Mr. Bergstrom?             & wheres mr bergstrom                & 3                                 \\\\\n",
       "\t 9551                               & 32                                 & 211                                & Miss Hoover: I don't know. Alt ... & 856000                             & true                               & 464                                & 3                                  & Miss Hoover                        & Springfield Elementary School      & I don't know. Although I'd sur ... & i dont know although id sure l ... & 22                                \\\\\n",
       "\\end{tabular}\n"
      ],
      "text/markdown": [
       "\n",
       "id | episode_id | number | raw_text | timestamp_in_ms | speaking_line | character_id | location_id | raw_character_text | raw_location_text | spoken_words | normalized_text | word_count | \n",
       "|---|---|---|\n",
       "| 9549                               | 32                                 | 209                                | Miss Hoover: No, actually, it  ... | 848000                             | true                               | 464                                | 3                                  | Miss Hoover                        | Springfield Elementary School      | No, actually, it was a little  ... | no actually it was a little of ... | 31                                 | \n",
       "| 9550                               | 32                                 | 210                                | Lisa Simpson: (NEAR TEARS) Whe ... | 856000                             | true                               |   9                                | 3                                  | Lisa Simpson                       | Springfield Elementary School      | Where's Mr. Bergstrom?             | wheres mr bergstrom                | 3                                  | \n",
       "| 9551                               | 32                                 | 211                                | Miss Hoover: I don't know. Alt ... | 856000                             | true                               | 464                                | 3                                  | Miss Hoover                        | Springfield Elementary School      | I don't know. Although I'd sur ... | i dont know although id sure l ... | 22                                 | \n",
       "\n",
       "\n"
      ],
      "text/plain": [
       "  id   episode_id number raw_text                           timestamp_in_ms\n",
       "1 9549 32         209    Miss Hoover: No, actually, it  ... 848000         \n",
       "2 9550 32         210    Lisa Simpson: (NEAR TEARS) Whe ... 856000         \n",
       "3 9551 32         211    Miss Hoover: I don't know. Alt ... 856000         \n",
       "  speaking_line character_id location_id raw_character_text\n",
       "1 true          464          3           Miss Hoover       \n",
       "2 true            9          3           Lisa Simpson      \n",
       "3 true          464          3           Miss Hoover       \n",
       "  raw_location_text             spoken_words                      \n",
       "1 Springfield Elementary School No, actually, it was a little  ...\n",
       "2 Springfield Elementary School Where's Mr. Bergstrom?            \n",
       "3 Springfield Elementary School I don't know. Although I'd sur ...\n",
       "  normalized_text                    word_count\n",
       "1 no actually it was a little of ... 31        \n",
       "2 wheres mr bergstrom                3         \n",
       "3 i dont know although id sure l ... 22        "
      ]
     },
     "metadata": {},
     "output_type": "display_data"
    }
   ],
   "source": [
    "printable(head(df,n=3))"
   ]
  },
  {
   "cell_type": "markdown",
   "metadata": {},
   "source": [
    "How big is it?"
   ]
  },
  {
   "cell_type": "code",
   "execution_count": 141,
   "metadata": {},
   "outputs": [
    {
     "data": {
      "text/html": [
       "'Rows: 157462'"
      ],
      "text/latex": [
       "'Rows: 157462'"
      ],
      "text/markdown": [
       "'Rows: 157462'"
      ],
      "text/plain": [
       "[1] \"Rows: 157462\""
      ]
     },
     "metadata": {},
     "output_type": "display_data"
    },
    {
     "data": {
      "text/html": [
       "'Cols: 13'"
      ],
      "text/latex": [
       "'Cols: 13'"
      ],
      "text/markdown": [
       "'Cols: 13'"
      ],
      "text/plain": [
       "[1] \"Cols: 13\""
      ]
     },
     "metadata": {},
     "output_type": "display_data"
    }
   ],
   "source": [
    "paste('Rows:',as.character(dim(df)[1]))\n",
    "paste('Cols:',as.character(dim(df)[2]))"
   ]
  },
  {
   "cell_type": "markdown",
   "metadata": {},
   "source": [
    "Column types? "
   ]
  },
  {
   "cell_type": "code",
   "execution_count": 142,
   "metadata": {},
   "outputs": [
    {
     "data": {
      "text/html": [
       "<dl class=dl-horizontal>\n",
       "\t<dt>id</dt>\n",
       "\t\t<dd>'integer'</dd>\n",
       "\t<dt>episode_id</dt>\n",
       "\t\t<dd>'integer'</dd>\n",
       "\t<dt>number</dt>\n",
       "\t\t<dd>'integer'</dd>\n",
       "\t<dt>raw_text</dt>\n",
       "\t\t<dd>'character'</dd>\n",
       "\t<dt>timestamp_in_ms</dt>\n",
       "\t\t<dd>'integer'</dd>\n",
       "\t<dt>speaking_line</dt>\n",
       "\t\t<dd>'character'</dd>\n",
       "\t<dt>character_id</dt>\n",
       "\t\t<dd>'integer'</dd>\n",
       "\t<dt>location_id</dt>\n",
       "\t\t<dd>'integer'</dd>\n",
       "\t<dt>raw_character_text</dt>\n",
       "\t\t<dd>'character'</dd>\n",
       "\t<dt>raw_location_text</dt>\n",
       "\t\t<dd>'character'</dd>\n",
       "\t<dt>spoken_words</dt>\n",
       "\t\t<dd>'character'</dd>\n",
       "\t<dt>normalized_text</dt>\n",
       "\t\t<dd>'character'</dd>\n",
       "\t<dt>word_count</dt>\n",
       "\t\t<dd>'character'</dd>\n",
       "</dl>\n"
      ],
      "text/latex": [
       "\\begin{description*}\n",
       "\\item[id] 'integer'\n",
       "\\item[episode\\textbackslash{}\\_id] 'integer'\n",
       "\\item[number] 'integer'\n",
       "\\item[raw\\textbackslash{}\\_text] 'character'\n",
       "\\item[timestamp\\textbackslash{}\\_in\\textbackslash{}\\_ms] 'integer'\n",
       "\\item[speaking\\textbackslash{}\\_line] 'character'\n",
       "\\item[character\\textbackslash{}\\_id] 'integer'\n",
       "\\item[location\\textbackslash{}\\_id] 'integer'\n",
       "\\item[raw\\textbackslash{}\\_character\\textbackslash{}\\_text] 'character'\n",
       "\\item[raw\\textbackslash{}\\_location\\textbackslash{}\\_text] 'character'\n",
       "\\item[spoken\\textbackslash{}\\_words] 'character'\n",
       "\\item[normalized\\textbackslash{}\\_text] 'character'\n",
       "\\item[word\\textbackslash{}\\_count] 'character'\n",
       "\\end{description*}\n"
      ],
      "text/markdown": [
       "id\n",
       ":   'integer'episode_id\n",
       ":   'integer'number\n",
       ":   'integer'raw_text\n",
       ":   'character'timestamp_in_ms\n",
       ":   'integer'speaking_line\n",
       ":   'character'character_id\n",
       ":   'integer'location_id\n",
       ":   'integer'raw_character_text\n",
       ":   'character'raw_location_text\n",
       ":   'character'spoken_words\n",
       ":   'character'normalized_text\n",
       ":   'character'word_count\n",
       ":   'character'\n",
       "\n"
      ],
      "text/plain": [
       "                id         episode_id             number           raw_text \n",
       "         \"integer\"          \"integer\"          \"integer\"        \"character\" \n",
       "   timestamp_in_ms      speaking_line       character_id        location_id \n",
       "         \"integer\"        \"character\"          \"integer\"          \"integer\" \n",
       "raw_character_text  raw_location_text       spoken_words    normalized_text \n",
       "       \"character\"        \"character\"        \"character\"        \"character\" \n",
       "        word_count \n",
       "       \"character\" "
      ]
     },
     "metadata": {},
     "output_type": "display_data"
    }
   ],
   "source": [
    "sapply(df, class)"
   ]
  },
  {
   "cell_type": "markdown",
   "metadata": {},
   "source": [
    "Let's simplify some column titles,"
   ]
  },
  {
   "cell_type": "code",
   "execution_count": 143,
   "metadata": {},
   "outputs": [],
   "source": [
    "colnames(df)[9] <- \"character_name\""
   ]
  },
  {
   "cell_type": "markdown",
   "metadata": {},
   "source": [
    "Get rid of columns we don't need,"
   ]
  },
  {
   "cell_type": "code",
   "execution_count": 144,
   "metadata": {},
   "outputs": [],
   "source": [
    "df <- subset(df, select = -c(number,timestamp_in_ms, speaking_line, raw_location_text))"
   ]
  },
  {
   "cell_type": "markdown",
   "metadata": {},
   "source": [
    "And convert word_count to a numeric type"
   ]
  },
  {
   "cell_type": "code",
   "execution_count": 145,
   "metadata": {},
   "outputs": [],
   "source": [
    "convert <- function(x){\n",
    "    if(is.na(as.numeric(x))){\n",
    "        return(NA)\n",
    "    }else{\n",
    "        return(as.numeric(x))\n",
    "    }\n",
    "}\n",
    "\n",
    "df$word_count <- sapply(df$word_count,convert)"
   ]
  },
  {
   "cell_type": "markdown",
   "metadata": {},
   "source": [
    "We may need to do some more work later if we find issues during our analysis, but for now we're done!"
   ]
  },
  {
   "cell_type": "markdown",
   "metadata": {},
   "source": [
    "---"
   ]
  },
  {
   "cell_type": "markdown",
   "metadata": {},
   "source": [
    "# Character Line Analysis"
   ]
  },
  {
   "cell_type": "markdown",
   "metadata": {},
   "source": [
    "---"
   ]
  },
  {
   "cell_type": "markdown",
   "metadata": {},
   "source": [
    "Lets get a line count for each of the non-null top characters"
   ]
  },
  {
   "cell_type": "code",
   "execution_count": 146,
   "metadata": {},
   "outputs": [],
   "source": [
    "line_sum <- \n",
    "\n",
    "head(\n",
    "    \n",
    "    (df %>% \n",
    "        filter(character_name != '') %>% \n",
    "        group_by(character_name) %>% \n",
    "        summarise(n=n()) %>% \n",
    "        arrange(desc(n))),\n",
    "    \n",
    "n=10)\n",
    "\n"
   ]
  },
  {
   "cell_type": "code",
   "execution_count": 147,
   "metadata": {},
   "outputs": [
    {
     "data": {},
     "metadata": {},
     "output_type": "display_data"
    },
    {
     "data": {
      "image/png": "[encoded data removed]",
      "text/plain": [
       "plot without title"
      ]
     },
     "metadata": {},
     "output_type": "display_data"
    }
   ],
   "source": [
    "#PLOT\n",
    "\n",
    "theme_set(theme_bw())\n",
    "\n",
    "ggplot(data=line_sum, aes(x=reorder(character_name,-n), y=n)) +\n",
    "\n",
    "    geom_bar(stat=\"identity\", \n",
    "             width=.5, \n",
    "             fill=\"tomato3\")+\n",
    "\n",
    "    labs(x=\"Character\", \n",
    "         y=\"Number of lines\", \n",
    "         title=\"Simpsons Character Importance\",\n",
    "         subtitle=\"(By numer of lines)\") +\n",
    "\n",
    "    theme(axis.text.x = element_text(angle=65, vjust=0.5)) +\n",
    "\n",
    "    theme(aspect.ratio=.5)\n"
   ]
  },
  {
   "cell_type": "markdown",
   "metadata": {},
   "source": [
    "We've already seen these results in Gabriela Preda's report,\n",
    "so instead let's compare line-count with line-length\n",
    "\n",
    "Our goal is to determine if a character has on average shorter lines, thus affecting their \"Importance\""
   ]
  },
  {
   "cell_type": "code",
   "execution_count": 148,
   "metadata": {},
   "outputs": [
    {
     "data": {
      "text/html": [
       "<table>\n",
       "<thead><tr><th scope=col>character_name</th><th scope=col>avg_wordsperline</th></tr></thead>\n",
       "<tbody>\n",
       "\t<tr><td>Ebenezer Urkel  </td><td>3340.0000       </td></tr>\n",
       "\t<tr><td>Neil Gaiman     </td><td> 670.8889       </td></tr>\n",
       "\t<tr><td>Ted Nugent      </td><td> 639.7500       </td></tr>\n",
       "\t<tr><td>Actor           </td><td> 209.8667       </td></tr>\n",
       "\t<tr><td>Greta Wolfcastle</td><td> 173.0000       </td></tr>\n",
       "\t<tr><td>Female Host     </td><td> 109.4000       </td></tr>\n",
       "\t<tr><td>NRBQ            </td><td>  82.0000       </td></tr>\n",
       "\t<tr><td>SIR MIX-A-LOT   </td><td>  72.0000       </td></tr>\n",
       "\t<tr><td>Johnny Bobby    </td><td>  69.0000       </td></tr>\n",
       "\t<tr><td>Jack Black      </td><td>  64.0000       </td></tr>\n",
       "</tbody>\n",
       "</table>\n"
      ],
      "text/latex": [
       "\\begin{tabular}{r|ll}\n",
       " character\\_name & avg\\_wordsperline\\\\\n",
       "\\hline\n",
       "\t Ebenezer Urkel   & 3340.0000       \\\\\n",
       "\t Neil Gaiman      &  670.8889       \\\\\n",
       "\t Ted Nugent       &  639.7500       \\\\\n",
       "\t Actor            &  209.8667       \\\\\n",
       "\t Greta Wolfcastle &  173.0000       \\\\\n",
       "\t Female Host      &  109.4000       \\\\\n",
       "\t NRBQ             &   82.0000       \\\\\n",
       "\t SIR MIX-A-LOT    &   72.0000       \\\\\n",
       "\t Johnny Bobby     &   69.0000       \\\\\n",
       "\t Jack Black       &   64.0000       \\\\\n",
       "\\end{tabular}\n"
      ],
      "text/markdown": [
       "\n",
       "character_name | avg_wordsperline | \n",
       "|---|---|---|---|---|---|---|---|---|---|\n",
       "| Ebenezer Urkel   | 3340.0000        | \n",
       "| Neil Gaiman      |  670.8889        | \n",
       "| Ted Nugent       |  639.7500        | \n",
       "| Actor            |  209.8667        | \n",
       "| Greta Wolfcastle |  173.0000        | \n",
       "| Female Host      |  109.4000        | \n",
       "| NRBQ             |   82.0000        | \n",
       "| SIR MIX-A-LOT    |   72.0000        | \n",
       "| Johnny Bobby     |   69.0000        | \n",
       "| Jack Black       |   64.0000        | \n",
       "\n",
       "\n"
      ],
      "text/plain": [
       "   character_name   avg_wordsperline\n",
       "1  Ebenezer Urkel   3340.0000       \n",
       "2  Neil Gaiman       670.8889       \n",
       "3  Ted Nugent        639.7500       \n",
       "4  Actor             209.8667       \n",
       "5  Greta Wolfcastle  173.0000       \n",
       "6  Female Host       109.4000       \n",
       "7  NRBQ               82.0000       \n",
       "8  SIR MIX-A-LOT      72.0000       \n",
       "9  Johnny Bobby       69.0000       \n",
       "10 Jack Black         64.0000       "
      ]
     },
     "metadata": {},
     "output_type": "display_data"
    }
   ],
   "source": [
    "head(\n",
    "    \n",
    "    (df %>% \n",
    "        filter( character_name != '') %>% \n",
    "        group_by(character_name) %>%\n",
    "        summarise(avg_wordsperline=mean(word_count, na.rm = TRUE )) %>%\n",
    "        arrange(desc(avg_wordsperline))),\n",
    "10)"
   ]
  },
  {
   "cell_type": "markdown",
   "metadata": {},
   "source": [
    "Wow, looks like we might have some false data skewing the results"
   ]
  },
  {
   "cell_type": "markdown",
   "metadata": {},
   "source": [
    "(I don't remember Ebenezer Urkel's lines well, but I'm sure I would if they were 3 THOUSAND words long)"
   ]
  },
  {
   "cell_type": "markdown",
   "metadata": {},
   "source": [
    "Let's check out these long character lines:"
   ]
  },
  {
   "cell_type": "code",
   "execution_count": 149,
   "metadata": {},
   "outputs": [
    {
     "data": {
      "text/html": [
       "<table>\n",
       "<thead><tr><th scope=col>id</th><th scope=col>episode_id</th><th scope=col>raw_text</th><th scope=col>character_id</th><th scope=col>location_id</th><th scope=col>character_name</th><th scope=col>spoken_words</th><th scope=col>normalized_text</th><th scope=col>word_count</th></tr></thead>\n",
       "<tbody>\n",
       "\t<tr><td>152082                            </td><td>544                               </td><td>(\"SIX FLAGS OVER KRUSTY\" AMUSE ...</td><td>  NA                              </td><td>4311                              </td><td>NA                                </td><td>851000                            </td><td>true                              </td><td>6521                              </td></tr>\n",
       "\t<tr><td>138005                            </td><td>492                               </td><td>Neil Gaiman: (CHIMING IN) I la ...</td><td>5932                              </td><td>3975                              </td><td>Neil Gaiman                       </td><td>788000                            </td><td>true                              </td><td>5933                              </td></tr>\n",
       "\t<tr><td>138021                            </td><td>492                               </td><td>(\"TWEEN LIT INC.\" MEETING ROOM ...</td><td>  NA                              </td><td>3975                              </td><td>NA                                </td><td>872000                            </td><td>true                              </td><td>5933                              </td></tr>\n",
       "\t<tr><td>136529                            </td><td>487                               </td><td>(\"top Chef\" Kitchen: Int. \"top ...</td><td>  NA                              </td><td>3934                              </td><td>NA                                </td><td>174000                            </td><td>true                              </td><td>5879                              </td></tr>\n",
       "\t<tr><td>136531                            </td><td>487                               </td><td>Marge Simpson: Thank you! This ...</td><td>   1                              </td><td>3934                              </td><td>Marge Simpson                     </td><td>185000                            </td><td>true                              </td><td>5879                              </td></tr>\n",
       "\t<tr><td>139200                            </td><td>496                               </td><td>Homer Simpson: (PUZZLED NOISE) ...</td><td>   2                              </td><td>4018                              </td><td>Homer Simpson                     </td><td>1180000                           </td><td>true                              </td><td>5014                              </td></tr>\n",
       "\t<tr><td>139208                            </td><td>496                               </td><td>Ted Nugent: HAIL TO ME / I'M T ...</td><td>5014                              </td><td>4018                              </td><td>Ted Nugent                        </td><td>1267000                           </td><td>true                              </td><td>5014                              </td></tr>\n",
       "\t<tr><td> 96297                            </td><td>334                               </td><td>(\"HEADBUTT\" SET: INT. \"HEADBUT ...</td><td>  NA                              </td><td>2804                              </td><td>NA                                </td><td>648000                            </td><td>true                              </td><td>4185                              </td></tr>\n",
       "\t<tr><td> 96304                            </td><td>334                               </td><td>Homer Simpson: (MOUTH FULL GAS ...</td><td>   2                              </td><td>2804                              </td><td>Homer Simpson                     </td><td>694000                            </td><td>true                              </td><td>4185                              </td></tr>\n",
       "\t<tr><td> 96306                            </td><td>334                               </td><td>Marge Simpson: (STILL MAD) I'l ...</td><td>   1                              </td><td>2804                              </td><td>Marge Simpson                     </td><td>701000                            </td><td>true                              </td><td>4185                              </td></tr>\n",
       "\t<tr><td> 92351                            </td><td>320                               </td><td>(\"FAMILY MATTERS\" SET: Int. \"F ...</td><td>  NA                              </td><td>2665                              </td><td>NA                                </td><td>670000                            </td><td>true                              </td><td>3988                              </td></tr>\n",
       "\t<tr><td> 81141                            </td><td>280                               </td><td>Greta Wolfcastle: No.             </td><td>3487                              </td><td>2361                              </td><td>Greta Wolfcastle                  </td><td>1229000                           </td><td>true                              </td><td>3487                              </td></tr>\n",
       "\t<tr><td> 81148                            </td><td>280                               </td><td>Bart Simpson: (FLIRTY) Need a  ...</td><td>   8                              </td><td>2361                              </td><td>Bart Simpson                      </td><td>1254000                           </td><td>true                              </td><td>3487                              </td></tr>\n",
       "\t<tr><td> 92353                            </td><td>320                               </td><td>Ebenezer Urkel: (HIGH-PITCHED  ...</td><td>3989                              </td><td>2665                              </td><td>Ebenezer Urkel                    </td><td>677000                            </td><td>true                              </td><td>3340                              </td></tr>\n",
       "\t<tr><td> 75619                            </td><td>262                               </td><td>(\"MAD\" BUILDING: int. \"MAD\" bu ...</td><td>  NA                              </td><td>2214                              </td><td>NA                                </td><td>1165000                           </td><td>true                              </td><td>3279                              </td></tr>\n",
       "\t<tr><td> 71994                            </td><td>251                               </td><td>Bart Simpson: How did you writ ...</td><td>   8                              </td><td>2131                              </td><td>Bart Simpson                      </td><td>316000                            </td><td>true                              </td><td>3135                              </td></tr>\n",
       "\t<tr><td> 69434                            </td><td>242                               </td><td>Homer Simpson: (DROPS CAN AND  ...</td><td>   2                              </td><td>2073                              </td><td>Homer Simpson                     </td><td>970000                            </td><td>true                              </td><td>3036                              </td></tr>\n",
       "\t<tr><td> 69424                            </td><td>242                               </td><td>(\"IT NEVER ENDS\" SET: Int. \"It ...</td><td>  NA                              </td><td>2073                              </td><td>NA                                </td><td>930000                            </td><td>true                              </td><td>3035                              </td></tr>\n",
       "\t<tr><td> 69427                            </td><td>242                               </td><td>Actor: And another thing -- Yo ...</td><td>1088                              </td><td>2073                              </td><td>Actor                             </td><td>940000                            </td><td>true                              </td><td>3035                              </td></tr>\n",
       "\t<tr><td> 66311                            </td><td>232                               </td><td>Homer Simpson: (HURT) Flavor o ...</td><td>   2                              </td><td>2002                              </td><td>Homer Simpson                     </td><td>677000                            </td><td>true                              </td><td>2580                              </td></tr>\n",
       "\t<tr><td> 50537                            </td><td>179                               </td><td>Bart Simpson: (DISAPPOINTED) O ...</td><td>   8                              </td><td>1663                              </td><td>Bart Simpson                      </td><td>1054000                           </td><td>true                              </td><td>2290                              </td></tr>\n",
       "\t<tr><td> 70494                            </td><td>246                               </td><td>(\"eye Caramba\" Examination Roo ...</td><td>  NA                              </td><td>2098                              </td><td>NA                                </td><td>170000                            </td><td>true                              </td><td>1265                              </td></tr>\n",
       "\t<tr><td> 70497                            </td><td>246                               </td><td>Homer Simpson: (CONFUSED WAKIN ...</td><td>   2                              </td><td>2098                              </td><td>Homer Simpson                     </td><td>176000                            </td><td>true                              </td><td>1265                              </td></tr>\n",
       "\t<tr><td>140653                            </td><td>502                               </td><td>(\"INCEPTION\"-STYLE BEACH: ext. ...</td><td>  NA                              </td><td>4053                              </td><td>NA                                </td><td>800000                            </td><td>true                              </td><td>1167                              </td></tr>\n",
       "\t<tr><td> 69430                            </td><td>242                               </td><td>Moe Szyslak: (EXCITED) Really? ...</td><td>  17                              </td><td>2073                              </td><td>Moe Szyslak                       </td><td>947000                            </td><td>true                              </td><td>1088                              </td></tr>\n",
       "\t<tr><td> 21349                            </td><td> 72                               </td><td>(\"the Lucky Stiff\" Funeral Hom ...</td><td>  NA                              </td><td> 761                              </td><td>NA                                </td><td>321000                            </td><td>true                              </td><td> 990                              </td></tr>\n",
       "\t<tr><td> 81133                            </td><td>280                               </td><td>(\"UNDERCOVER NERD\" SOUNDSTAGE: ...</td><td>  NA                              </td><td>2360                              </td><td>NA                                </td><td>1200000                           </td><td>true                              </td><td> 508                              </td></tr>\n",
       "\t<tr><td> 81138                            </td><td>280                               </td><td>Female Host: What's this? Two  ...</td><td>1546                              </td><td>2361                              </td><td>Female Host                       </td><td>1214000                           </td><td>true                              </td><td> 508                              </td></tr>\n",
       "\t<tr><td>139216                            </td><td>496                               </td><td>Homer Simpson: (SAD MOAN)         </td><td>   2                              </td><td>4018                              </td><td>Homer Simpson                     </td><td>117000                            </td><td>true                              </td><td> 351                              </td></tr>\n",
       "\t<tr><td> 66298                            </td><td>232                               </td><td>Disco Stu: Disco Stu's gonna g ...</td><td>1867                              </td><td>2002                              </td><td>Disco Stu                         </td><td>640000                            </td><td>true                              </td><td> 211                              </td></tr>\n",
       "\t<tr><td> 66300                            </td><td>232                               </td><td>Disco Stu: I can dig it. Hit m ...</td><td>1867                              </td><td>2002                              </td><td>Disco Stu                         </td><td>646000                            </td><td>true                              </td><td> 211                              </td></tr>\n",
       "\t<tr><td> 66313                            </td><td>232                               </td><td>Homer Simpson: I 'unno... (GUE ...</td><td>   2                              </td><td>2002                              </td><td>Homer Simpson                     </td><td>688000                            </td><td>true                              </td><td> 211                              </td></tr>\n",
       "</tbody>\n",
       "</table>\n"
      ],
      "text/latex": [
       "\\begin{tabular}{r|lllllllll}\n",
       " id & episode\\_id & raw\\_text & character\\_id & location\\_id & character\\_name & spoken\\_words & normalized\\_text & word\\_count\\\\\n",
       "\\hline\n",
       "\t 152082                             & 544                                & (\"SIX FLAGS OVER KRUSTY\" AMUSE ... &   NA                               & 4311                               & NA                                 & 851000                             & true                               & 6521                              \\\\\n",
       "\t 138005                             & 492                                & Neil Gaiman: (CHIMING IN) I la ... & 5932                               & 3975                               & Neil Gaiman                        & 788000                             & true                               & 5933                              \\\\\n",
       "\t 138021                             & 492                                & (\"TWEEN LIT INC.\" MEETING ROOM ... &   NA                               & 3975                               & NA                                 & 872000                             & true                               & 5933                              \\\\\n",
       "\t 136529                             & 487                                & (\"top Chef\" Kitchen: Int. \"top ... &   NA                               & 3934                               & NA                                 & 174000                             & true                               & 5879                              \\\\\n",
       "\t 136531                             & 487                                & Marge Simpson: Thank you! This ... &    1                               & 3934                               & Marge Simpson                      & 185000                             & true                               & 5879                              \\\\\n",
       "\t 139200                             & 496                                & Homer Simpson: (PUZZLED NOISE) ... &    2                               & 4018                               & Homer Simpson                      & 1180000                            & true                               & 5014                              \\\\\n",
       "\t 139208                             & 496                                & Ted Nugent: HAIL TO ME / I'M T ... & 5014                               & 4018                               & Ted Nugent                         & 1267000                            & true                               & 5014                              \\\\\n",
       "\t  96297                             & 334                                & (\"HEADBUTT\" SET: INT. \"HEADBUT ... &   NA                               & 2804                               & NA                                 & 648000                             & true                               & 4185                              \\\\\n",
       "\t  96304                             & 334                                & Homer Simpson: (MOUTH FULL GAS ... &    2                               & 2804                               & Homer Simpson                      & 694000                             & true                               & 4185                              \\\\\n",
       "\t  96306                             & 334                                & Marge Simpson: (STILL MAD) I'l ... &    1                               & 2804                               & Marge Simpson                      & 701000                             & true                               & 4185                              \\\\\n",
       "\t  92351                             & 320                                & (\"FAMILY MATTERS\" SET: Int. \"F ... &   NA                               & 2665                               & NA                                 & 670000                             & true                               & 3988                              \\\\\n",
       "\t  81141                             & 280                                & Greta Wolfcastle: No.              & 3487                               & 2361                               & Greta Wolfcastle                   & 1229000                            & true                               & 3487                              \\\\\n",
       "\t  81148                             & 280                                & Bart Simpson: (FLIRTY) Need a  ... &    8                               & 2361                               & Bart Simpson                       & 1254000                            & true                               & 3487                              \\\\\n",
       "\t  92353                             & 320                                & Ebenezer Urkel: (HIGH-PITCHED  ... & 3989                               & 2665                               & Ebenezer Urkel                     & 677000                             & true                               & 3340                              \\\\\n",
       "\t  75619                             & 262                                & (\"MAD\" BUILDING: int. \"MAD\" bu ... &   NA                               & 2214                               & NA                                 & 1165000                            & true                               & 3279                              \\\\\n",
       "\t  71994                             & 251                                & Bart Simpson: How did you writ ... &    8                               & 2131                               & Bart Simpson                       & 316000                             & true                               & 3135                              \\\\\n",
       "\t  69434                             & 242                                & Homer Simpson: (DROPS CAN AND  ... &    2                               & 2073                               & Homer Simpson                      & 970000                             & true                               & 3036                              \\\\\n",
       "\t  69424                             & 242                                & (\"IT NEVER ENDS\" SET: Int. \"It ... &   NA                               & 2073                               & NA                                 & 930000                             & true                               & 3035                              \\\\\n",
       "\t  69427                             & 242                                & Actor: And another thing -- Yo ... & 1088                               & 2073                               & Actor                              & 940000                             & true                               & 3035                              \\\\\n",
       "\t  66311                             & 232                                & Homer Simpson: (HURT) Flavor o ... &    2                               & 2002                               & Homer Simpson                      & 677000                             & true                               & 2580                              \\\\\n",
       "\t  50537                             & 179                                & Bart Simpson: (DISAPPOINTED) O ... &    8                               & 1663                               & Bart Simpson                       & 1054000                            & true                               & 2290                              \\\\\n",
       "\t  70494                             & 246                                & (\"eye Caramba\" Examination Roo ... &   NA                               & 2098                               & NA                                 & 170000                             & true                               & 1265                              \\\\\n",
       "\t  70497                             & 246                                & Homer Simpson: (CONFUSED WAKIN ... &    2                               & 2098                               & Homer Simpson                      & 176000                             & true                               & 1265                              \\\\\n",
       "\t 140653                             & 502                                & (\"INCEPTION\"-STYLE BEACH: ext. ... &   NA                               & 4053                               & NA                                 & 800000                             & true                               & 1167                              \\\\\n",
       "\t  69430                             & 242                                & Moe Szyslak: (EXCITED) Really? ... &   17                               & 2073                               & Moe Szyslak                        & 947000                             & true                               & 1088                              \\\\\n",
       "\t  21349                             &  72                                & (\"the Lucky Stiff\" Funeral Hom ... &   NA                               &  761                               & NA                                 & 321000                             & true                               &  990                              \\\\\n",
       "\t  81133                             & 280                                & (\"UNDERCOVER NERD\" SOUNDSTAGE: ... &   NA                               & 2360                               & NA                                 & 1200000                            & true                               &  508                              \\\\\n",
       "\t  81138                             & 280                                & Female Host: What's this? Two  ... & 1546                               & 2361                               & Female Host                        & 1214000                            & true                               &  508                              \\\\\n",
       "\t 139216                             & 496                                & Homer Simpson: (SAD MOAN)          &    2                               & 4018                               & Homer Simpson                      & 117000                             & true                               &  351                              \\\\\n",
       "\t  66298                             & 232                                & Disco Stu: Disco Stu's gonna g ... & 1867                               & 2002                               & Disco Stu                          & 640000                             & true                               &  211                              \\\\\n",
       "\t  66300                             & 232                                & Disco Stu: I can dig it. Hit m ... & 1867                               & 2002                               & Disco Stu                          & 646000                             & true                               &  211                              \\\\\n",
       "\t  66313                             & 232                                & Homer Simpson: I 'unno... (GUE ... &    2                               & 2002                               & Homer Simpson                      & 688000                             & true                               &  211                              \\\\\n",
       "\\end{tabular}\n"
      ],
      "text/markdown": [
       "\n",
       "id | episode_id | raw_text | character_id | location_id | character_name | spoken_words | normalized_text | word_count | \n",
       "|---|---|---|---|---|---|---|---|---|---|---|---|---|---|---|---|---|---|---|---|---|---|---|---|---|---|---|---|---|---|---|---|\n",
       "| 152082                             | 544                                | (\"SIX FLAGS OVER KRUSTY\" AMUSE ... |   NA                               | 4311                               | NA                                 | 851000                             | true                               | 6521                               | \n",
       "| 138005                             | 492                                | Neil Gaiman: (CHIMING IN) I la ... | 5932                               | 3975                               | Neil Gaiman                        | 788000                             | true                               | 5933                               | \n",
       "| 138021                             | 492                                | (\"TWEEN LIT INC.\" MEETING ROOM ... |   NA                               | 3975                               | NA                                 | 872000                             | true                               | 5933                               | \n",
       "| 136529                             | 487                                | (\"top Chef\" Kitchen: Int. \"top ... |   NA                               | 3934                               | NA                                 | 174000                             | true                               | 5879                               | \n",
       "| 136531                             | 487                                | Marge Simpson: Thank you! This ... |    1                               | 3934                               | Marge Simpson                      | 185000                             | true                               | 5879                               | \n",
       "| 139200                             | 496                                | Homer Simpson: (PUZZLED NOISE) ... |    2                               | 4018                               | Homer Simpson                      | 1180000                            | true                               | 5014                               | \n",
       "| 139208                             | 496                                | Ted Nugent: HAIL TO ME / I'M T ... | 5014                               | 4018                               | Ted Nugent                         | 1267000                            | true                               | 5014                               | \n",
       "|  96297                             | 334                                | (\"HEADBUTT\" SET: INT. \"HEADBUT ... |   NA                               | 2804                               | NA                                 | 648000                             | true                               | 4185                               | \n",
       "|  96304                             | 334                                | Homer Simpson: (MOUTH FULL GAS ... |    2                               | 2804                               | Homer Simpson                      | 694000                             | true                               | 4185                               | \n",
       "|  96306                             | 334                                | Marge Simpson: (STILL MAD) I'l ... |    1                               | 2804                               | Marge Simpson                      | 701000                             | true                               | 4185                               | \n",
       "|  92351                             | 320                                | (\"FAMILY MATTERS\" SET: Int. \"F ... |   NA                               | 2665                               | NA                                 | 670000                             | true                               | 3988                               | \n",
       "|  81141                             | 280                                | Greta Wolfcastle: No.              | 3487                               | 2361                               | Greta Wolfcastle                   | 1229000                            | true                               | 3487                               | \n",
       "|  81148                             | 280                                | Bart Simpson: (FLIRTY) Need a  ... |    8                               | 2361                               | Bart Simpson                       | 1254000                            | true                               | 3487                               | \n",
       "|  92353                             | 320                                | Ebenezer Urkel: (HIGH-PITCHED  ... | 3989                               | 2665                               | Ebenezer Urkel                     | 677000                             | true                               | 3340                               | \n",
       "|  75619                             | 262                                | (\"MAD\" BUILDING: int. \"MAD\" bu ... |   NA                               | 2214                               | NA                                 | 1165000                            | true                               | 3279                               | \n",
       "|  71994                             | 251                                | Bart Simpson: How did you writ ... |    8                               | 2131                               | Bart Simpson                       | 316000                             | true                               | 3135                               | \n",
       "|  69434                             | 242                                | Homer Simpson: (DROPS CAN AND  ... |    2                               | 2073                               | Homer Simpson                      | 970000                             | true                               | 3036                               | \n",
       "|  69424                             | 242                                | (\"IT NEVER ENDS\" SET: Int. \"It ... |   NA                               | 2073                               | NA                                 | 930000                             | true                               | 3035                               | \n",
       "|  69427                             | 242                                | Actor: And another thing -- Yo ... | 1088                               | 2073                               | Actor                              | 940000                             | true                               | 3035                               | \n",
       "|  66311                             | 232                                | Homer Simpson: (HURT) Flavor o ... |    2                               | 2002                               | Homer Simpson                      | 677000                             | true                               | 2580                               | \n",
       "|  50537                             | 179                                | Bart Simpson: (DISAPPOINTED) O ... |    8                               | 1663                               | Bart Simpson                       | 1054000                            | true                               | 2290                               | \n",
       "|  70494                             | 246                                | (\"eye Caramba\" Examination Roo ... |   NA                               | 2098                               | NA                                 | 170000                             | true                               | 1265                               | \n",
       "|  70497                             | 246                                | Homer Simpson: (CONFUSED WAKIN ... |    2                               | 2098                               | Homer Simpson                      | 176000                             | true                               | 1265                               | \n",
       "| 140653                             | 502                                | (\"INCEPTION\"-STYLE BEACH: ext. ... |   NA                               | 4053                               | NA                                 | 800000                             | true                               | 1167                               | \n",
       "|  69430                             | 242                                | Moe Szyslak: (EXCITED) Really? ... |   17                               | 2073                               | Moe Szyslak                        | 947000                             | true                               | 1088                               | \n",
       "|  21349                             |  72                                | (\"the Lucky Stiff\" Funeral Hom ... |   NA                               |  761                               | NA                                 | 321000                             | true                               |  990                               | \n",
       "|  81133                             | 280                                | (\"UNDERCOVER NERD\" SOUNDSTAGE: ... |   NA                               | 2360                               | NA                                 | 1200000                            | true                               |  508                               | \n",
       "|  81138                             | 280                                | Female Host: What's this? Two  ... | 1546                               | 2361                               | Female Host                        | 1214000                            | true                               |  508                               | \n",
       "| 139216                             | 496                                | Homer Simpson: (SAD MOAN)          |    2                               | 4018                               | Homer Simpson                      | 117000                             | true                               |  351                               | \n",
       "|  66298                             | 232                                | Disco Stu: Disco Stu's gonna g ... | 1867                               | 2002                               | Disco Stu                          | 640000                             | true                               |  211                               | \n",
       "|  66300                             | 232                                | Disco Stu: I can dig it. Hit m ... | 1867                               | 2002                               | Disco Stu                          | 646000                             | true                               |  211                               | \n",
       "|  66313                             | 232                                | Homer Simpson: I 'unno... (GUE ... |    2                               | 2002                               | Homer Simpson                      | 688000                             | true                               |  211                               | \n",
       "\n",
       "\n"
      ],
      "text/plain": [
       "   id     episode_id raw_text                           character_id\n",
       "1  152082 544        (\"SIX FLAGS OVER KRUSTY\" AMUSE ...   NA        \n",
       "2  138005 492        Neil Gaiman: (CHIMING IN) I la ... 5932        \n",
       "3  138021 492        (\"TWEEN LIT INC.\" MEETING ROOM ...   NA        \n",
       "4  136529 487        (\"top Chef\" Kitchen: Int. \"top ...   NA        \n",
       "5  136531 487        Marge Simpson: Thank you! This ...    1        \n",
       "6  139200 496        Homer Simpson: (PUZZLED NOISE) ...    2        \n",
       "7  139208 496        Ted Nugent: HAIL TO ME / I'M T ... 5014        \n",
       "8   96297 334        (\"HEADBUTT\" SET: INT. \"HEADBUT ...   NA        \n",
       "9   96304 334        Homer Simpson: (MOUTH FULL GAS ...    2        \n",
       "10  96306 334        Marge Simpson: (STILL MAD) I'l ...    1        \n",
       "11  92351 320        (\"FAMILY MATTERS\" SET: Int. \"F ...   NA        \n",
       "12  81141 280        Greta Wolfcastle: No.              3487        \n",
       "13  81148 280        Bart Simpson: (FLIRTY) Need a  ...    8        \n",
       "14  92353 320        Ebenezer Urkel: (HIGH-PITCHED  ... 3989        \n",
       "15  75619 262        (\"MAD\" BUILDING: int. \"MAD\" bu ...   NA        \n",
       "16  71994 251        Bart Simpson: How did you writ ...    8        \n",
       "17  69434 242        Homer Simpson: (DROPS CAN AND  ...    2        \n",
       "18  69424 242        (\"IT NEVER ENDS\" SET: Int. \"It ...   NA        \n",
       "19  69427 242        Actor: And another thing -- Yo ... 1088        \n",
       "20  66311 232        Homer Simpson: (HURT) Flavor o ...    2        \n",
       "21  50537 179        Bart Simpson: (DISAPPOINTED) O ...    8        \n",
       "22  70494 246        (\"eye Caramba\" Examination Roo ...   NA        \n",
       "23  70497 246        Homer Simpson: (CONFUSED WAKIN ...    2        \n",
       "24 140653 502        (\"INCEPTION\"-STYLE BEACH: ext. ...   NA        \n",
       "25  69430 242        Moe Szyslak: (EXCITED) Really? ...   17        \n",
       "26  21349  72        (\"the Lucky Stiff\" Funeral Hom ...   NA        \n",
       "27  81133 280        (\"UNDERCOVER NERD\" SOUNDSTAGE: ...   NA        \n",
       "28  81138 280        Female Host: What's this? Two  ... 1546        \n",
       "29 139216 496        Homer Simpson: (SAD MOAN)             2        \n",
       "30  66298 232        Disco Stu: Disco Stu's gonna g ... 1867        \n",
       "31  66300 232        Disco Stu: I can dig it. Hit m ... 1867        \n",
       "32  66313 232        Homer Simpson: I 'unno... (GUE ...    2        \n",
       "   location_id character_name   spoken_words normalized_text word_count\n",
       "1  4311        NA               851000       true            6521      \n",
       "2  3975        Neil Gaiman      788000       true            5933      \n",
       "3  3975        NA               872000       true            5933      \n",
       "4  3934        NA               174000       true            5879      \n",
       "5  3934        Marge Simpson    185000       true            5879      \n",
       "6  4018        Homer Simpson    1180000      true            5014      \n",
       "7  4018        Ted Nugent       1267000      true            5014      \n",
       "8  2804        NA               648000       true            4185      \n",
       "9  2804        Homer Simpson    694000       true            4185      \n",
       "10 2804        Marge Simpson    701000       true            4185      \n",
       "11 2665        NA               670000       true            3988      \n",
       "12 2361        Greta Wolfcastle 1229000      true            3487      \n",
       "13 2361        Bart Simpson     1254000      true            3487      \n",
       "14 2665        Ebenezer Urkel   677000       true            3340      \n",
       "15 2214        NA               1165000      true            3279      \n",
       "16 2131        Bart Simpson     316000       true            3135      \n",
       "17 2073        Homer Simpson    970000       true            3036      \n",
       "18 2073        NA               930000       true            3035      \n",
       "19 2073        Actor            940000       true            3035      \n",
       "20 2002        Homer Simpson    677000       true            2580      \n",
       "21 1663        Bart Simpson     1054000      true            2290      \n",
       "22 2098        NA               170000       true            1265      \n",
       "23 2098        Homer Simpson    176000       true            1265      \n",
       "24 4053        NA               800000       true            1167      \n",
       "25 2073        Moe Szyslak      947000       true            1088      \n",
       "26  761        NA               321000       true             990      \n",
       "27 2360        NA               1200000      true             508      \n",
       "28 2361        Female Host      1214000      true             508      \n",
       "29 4018        Homer Simpson    117000       true             351      \n",
       "30 2002        Disco Stu        640000       true             211      \n",
       "31 2002        Disco Stu        646000       true             211      \n",
       "32 2002        Homer Simpson    688000       true             211      "
      ]
     },
     "metadata": {},
     "output_type": "display_data"
    }
   ],
   "source": [
    "printable(df %>% filter(word_count>200) %>% arrange(desc(word_count)))"
   ]
  },
  {
   "cell_type": "markdown",
   "metadata": {},
   "source": [
    "Ah, look at the word counts.  This is all incorrect data, and it explains the high averages for Ebenezer Urkel, Neil Gaiman, Ted Nugent and others, especially since the average is being take over so few lines."
   ]
  },
  {
   "cell_type": "markdown",
   "metadata": {},
   "source": [
    "I see a patern: all rows say \"true\" under normalized_text.   Let's see if my speculation is correct:"
   ]
  },
  {
   "cell_type": "code",
   "execution_count": 150,
   "metadata": {},
   "outputs": [
    {
     "data": {
      "text/html": [
       "<table>\n",
       "<thead><tr><th scope=col>id</th><th scope=col>episode_id</th><th scope=col>raw_text</th><th scope=col>character_id</th><th scope=col>location_id</th><th scope=col>character_name</th><th scope=col>spoken_words</th><th scope=col>normalized_text</th><th scope=col>word_count</th></tr></thead>\n",
       "<tbody>\n",
       "\t<tr><td>21349                             </td><td> 72                               </td><td>(\"the Lucky Stiff\" Funeral Hom ...</td><td>  NA                              </td><td> 761                              </td><td>NA                                </td><td>321000                            </td><td>true                              </td><td> 990                              </td></tr>\n",
       "\t<tr><td>21353                             </td><td> 72                               </td><td>Patty Bouvier: I'll keep this  ...</td><td>  10                              </td><td> 761                              </td><td>Patty Bouvier                     </td><td>513000                            </td><td>true                              </td><td>  22                              </td></tr>\n",
       "\t<tr><td>23210                             </td><td> 78                               </td><td>Homer Simpson: True.              </td><td>   2                              </td><td> 826                              </td><td>Homer Simpson                     </td><td>True.                             </td><td>true                              </td><td>   1                              </td></tr>\n",
       "\t<tr><td>23212                             </td><td> 78                               </td><td>Homer Simpson: True.              </td><td>   2                              </td><td> 826                              </td><td>Homer Simpson                     </td><td>True.                             </td><td>true                              </td><td>   1                              </td></tr>\n",
       "\t<tr><td>50532                             </td><td>179                               </td><td>(\"MAD\" RECEPTION AREA: Int. \"M ...</td><td>  NA                              </td><td>1663                              </td><td>NA                                </td><td>1004000                           </td><td>true                              </td><td>   8                              </td></tr>\n",
       "\t<tr><td>50537                             </td><td>179                               </td><td>Bart Simpson: (DISAPPOINTED) O ...</td><td>   8                              </td><td>1663                              </td><td>Bart Simpson                      </td><td>1054000                           </td><td>true                              </td><td>2290                              </td></tr>\n",
       "\t<tr><td>66294                             </td><td>232                               </td><td>(\"SPRINGFIELD SQUARES\" GAMESHO ...</td><td>  NA                              </td><td>2002                              </td><td>NA                                </td><td>617000                            </td><td>true                              </td><td>  33                              </td></tr>\n",
       "\t<tr><td>66298                             </td><td>232                               </td><td>Disco Stu: Disco Stu's gonna g ...</td><td>1867                              </td><td>2002                              </td><td>Disco Stu                         </td><td>640000                            </td><td>true                              </td><td> 211                              </td></tr>\n",
       "\t<tr><td>66300                             </td><td>232                               </td><td>Disco Stu: I can dig it. Hit m ...</td><td>1867                              </td><td>2002                              </td><td>Disco Stu                         </td><td>646000                            </td><td>true                              </td><td> 211                              </td></tr>\n",
       "\t<tr><td>66311                             </td><td>232                               </td><td>Homer Simpson: (HURT) Flavor o ...</td><td>   2                              </td><td>2002                              </td><td>Homer Simpson                     </td><td>677000                            </td><td>true                              </td><td>2580                              </td></tr>\n",
       "\t<tr><td>66313                             </td><td>232                               </td><td>Homer Simpson: I 'unno... (GUE ...</td><td>   2                              </td><td>2002                              </td><td>Homer Simpson                     </td><td>688000                            </td><td>true                              </td><td> 211                              </td></tr>\n",
       "\t<tr><td>66316                             </td><td>232                               </td><td>Homer Simpson: (CHOKING NOISES ...</td><td>   2                              </td><td>2002                              </td><td>Homer Simpson                     </td><td>265000                            </td><td>true                              </td><td>   2                              </td></tr>\n",
       "\t<tr><td>69424                             </td><td>242                               </td><td>(\"IT NEVER ENDS\" SET: Int. \"It ...</td><td>  NA                              </td><td>2073                              </td><td>NA                                </td><td>930000                            </td><td>true                              </td><td>3035                              </td></tr>\n",
       "\t<tr><td>69427                             </td><td>242                               </td><td>Actor: And another thing -- Yo ...</td><td>1088                              </td><td>2073                              </td><td>Actor                             </td><td>940000                            </td><td>true                              </td><td>3035                              </td></tr>\n",
       "\t<tr><td>69430                             </td><td>242                               </td><td>Moe Szyslak: (EXCITED) Really? ...</td><td>  17                              </td><td>2073                              </td><td>Moe Szyslak                       </td><td>947000                            </td><td>true                              </td><td>1088                              </td></tr>\n",
       "\t<tr><td>69434                             </td><td>242                               </td><td>Homer Simpson: (DROPS CAN AND  ...</td><td>   2                              </td><td>2073                              </td><td>Homer Simpson                     </td><td>970000                            </td><td>true                              </td><td>3036                              </td></tr>\n",
       "\t<tr><td>69436                             </td><td>242                               </td><td>Soap Announcer: With Gabriella ...</td><td>3036                              </td><td>2073                              </td><td>Soap Announcer                    </td><td>991000                            </td><td>true                              </td><td>   1                              </td></tr>\n",
       "\t<tr><td>70494                             </td><td>246                               </td><td>(\"eye Caramba\" Examination Roo ...</td><td>  NA                              </td><td>2098                              </td><td>NA                                </td><td>170000                            </td><td>true                              </td><td>1265                              </td></tr>\n",
       "\t<tr><td>70497                             </td><td>246                               </td><td>Homer Simpson: (CONFUSED WAKIN ...</td><td>   2                              </td><td>2098                              </td><td>Homer Simpson                     </td><td>176000                            </td><td>true                              </td><td>1265                              </td></tr>\n",
       "\t<tr><td>70499                             </td><td>246                               </td><td>Homer Simpson: (READING) I...  ...</td><td>   2                              </td><td>2098                              </td><td>Homer Simpson                     </td><td>198000                            </td><td>true                              </td><td>   2                              </td></tr>\n",
       "\t<tr><td>70518                             </td><td>246                               </td><td>(\"tommy Hillclimber\" Camping S ...</td><td>  NA                              </td><td>2100                              </td><td>NA                                </td><td>214000                            </td><td>true                              </td><td>   1                              </td></tr>\n",
       "\t<tr><td>70521                             </td><td>246                               </td><td>Lisa Simpson: (LOOKING AT POST ...</td><td>   9                              </td><td>2100                              </td><td>Lisa Simpson                      </td><td>240000                            </td><td>true                              </td><td>   2                              </td></tr>\n",
       "\t<tr><td>71992                             </td><td>251                               </td><td>(\"BOOKS FOR DUMMIES\" SECTION:  ...</td><td>  NA                              </td><td>2131                              </td><td>NA                                </td><td>304000                            </td><td>true                              </td><td>   8                              </td></tr>\n",
       "\t<tr><td>71994                             </td><td>251                               </td><td>Bart Simpson: How did you writ ...</td><td>   8                              </td><td>2131                              </td><td>Bart Simpson                      </td><td>316000                            </td><td>true                              </td><td>3135                              </td></tr>\n",
       "\t<tr><td>75312                             </td><td>261                               </td><td>(\"LAUGH IN\" STAGE: Int. \"Laugh ...</td><td>  NA                              </td><td>2203                              </td><td>NA                                </td><td>150000                            </td><td>true                              </td><td>   2                              </td></tr>\n",
       "\t<tr><td>75315                             </td><td>261                               </td><td>Krusty the Clown: Those lousy  ...</td><td> 139                              </td><td>2203                              </td><td>Krusty the Clown                  </td><td>1021000                           </td><td>true                              </td><td> 153                              </td></tr>\n",
       "\t<tr><td>75619                             </td><td>262                               </td><td>(\"MAD\" BUILDING: int. \"MAD\" bu ...</td><td>  NA                              </td><td>2214                              </td><td>NA                                </td><td>1165000                           </td><td>true                              </td><td>3279                              </td></tr>\n",
       "\t<tr><td>81133                             </td><td>280                               </td><td>(\"UNDERCOVER NERD\" SOUNDSTAGE: ...</td><td>  NA                              </td><td>2360                              </td><td>NA                                </td><td>1200000                           </td><td>true                              </td><td> 508                              </td></tr>\n",
       "\t<tr><td>81138                             </td><td>280                               </td><td>Female Host: What's this? Two  ...</td><td>1546                              </td><td>2361                              </td><td>Female Host                       </td><td>1214000                           </td><td>true                              </td><td> 508                              </td></tr>\n",
       "\t<tr><td>81141                             </td><td>280                               </td><td>Greta Wolfcastle: No.             </td><td>3487                              </td><td>2361                              </td><td>Greta Wolfcastle                  </td><td>1229000                           </td><td>true                              </td><td>3487                              </td></tr>\n",
       "\t<tr><td>...</td><td>...</td><td>...</td><td>...</td><td>...</td><td>...</td><td>...</td><td>...</td><td>...</td></tr>\n",
       "\t<tr><td> 92362                            </td><td>320                               </td><td>Marge Simpson: (SHAKES HEAD) Y ...</td><td>   1                              </td><td>2666                              </td><td>Marge Simpson                     </td><td>707000                            </td><td>true                              </td><td>   2                              </td></tr>\n",
       "\t<tr><td> 95555                            </td><td>331                               </td><td>(\"MOON BOUNCE\" CASTLE: Ext. \"M ...</td><td>  NA                              </td><td>2777                              </td><td>NA                                </td><td>1152000                           </td><td>true                              </td><td>   1                              </td></tr>\n",
       "\t<tr><td> 96297                            </td><td>334                               </td><td>(\"HEADBUTT\" SET: INT. \"HEADBUT ...</td><td>  NA                              </td><td>2804                              </td><td>NA                                </td><td>648000                            </td><td>true                              </td><td>4185                              </td></tr>\n",
       "\t<tr><td> 96304                            </td><td>334                               </td><td>Homer Simpson: (MOUTH FULL GAS ...</td><td>   2                              </td><td>2804                              </td><td>Homer Simpson                     </td><td>694000                            </td><td>true                              </td><td>4185                              </td></tr>\n",
       "\t<tr><td> 96306                            </td><td>334                               </td><td>Marge Simpson: (STILL MAD) I'l ...</td><td>   1                              </td><td>2804                              </td><td>Marge Simpson                     </td><td>701000                            </td><td>true                              </td><td>4185                              </td></tr>\n",
       "\t<tr><td>117800                            </td><td>414                               </td><td>(\"mistress-style\" Apartment: I ...</td><td>  NA                              </td><td>3402                              </td><td>NA                                </td><td>940000                            </td><td>true                              </td><td>   2                              </td></tr>\n",
       "\t<tr><td>125797                            </td><td>446                               </td><td>(\"SMOOCHES ON THE BEACH\" HOTEL ...</td><td>  NA                              </td><td>3637                              </td><td>NA                                </td><td>654000                            </td><td>true                              </td><td>   2                              </td></tr>\n",
       "\t<tr><td>130215                            </td><td>463                               </td><td>(\"WALT'S\" CAR: int. \"walt's\" c ...</td><td>  NA                              </td><td>3746                              </td><td>NA                                </td><td>698000                            </td><td>true                              </td><td>   8                              </td></tr>\n",
       "\t<tr><td>136529                            </td><td>487                               </td><td>(\"top Chef\" Kitchen: Int. \"top ...</td><td>  NA                              </td><td>3934                              </td><td>NA                                </td><td>174000                            </td><td>true                              </td><td>5879                              </td></tr>\n",
       "\t<tr><td>136531                            </td><td>487                               </td><td>Marge Simpson: Thank you! This ...</td><td>   1                              </td><td>3934                              </td><td>Marge Simpson                     </td><td>185000                            </td><td>true                              </td><td>5879                              </td></tr>\n",
       "\t<tr><td>136533                            </td><td>487                               </td><td>Tom Colicchio: Ow! Ow! Ow!...  ...</td><td>5879                              </td><td>3934                              </td><td>Tom Colicchio                     </td><td>199000                            </td><td>true                              </td><td>   1                              </td></tr>\n",
       "\t<tr><td>138000                            </td><td>492                               </td><td>(\"TWEEN LIT INC.\" MEETING ROOM ...</td><td>  NA                              </td><td>3975                              </td><td>NA                                </td><td>780000                            </td><td>true                              </td><td>   2                              </td></tr>\n",
       "\t<tr><td>138005                            </td><td>492                               </td><td>Neil Gaiman: (CHIMING IN) I la ...</td><td>5932                              </td><td>3975                              </td><td>Neil Gaiman                       </td><td>788000                            </td><td>true                              </td><td>5933                              </td></tr>\n",
       "\t<tr><td>138021                            </td><td>492                               </td><td>(\"TWEEN LIT INC.\" MEETING ROOM ...</td><td>  NA                              </td><td>3975                              </td><td>NA                                </td><td>872000                            </td><td>true                              </td><td>5933                              </td></tr>\n",
       "\t<tr><td>138026                            </td><td>492                               </td><td>Slick Publisher: Congratulatio ...</td><td>5933                              </td><td>3975                              </td><td>Slick Publisher                   </td><td>888000                            </td><td>true                              </td><td>   2                              </td></tr>\n",
       "\t<tr><td>139103                            </td><td>496                               </td><td>Homer Simpson: (RASPY) Goodnig ...</td><td>   2                              </td><td>4013                              </td><td>Homer Simpson                     </td><td>621000                            </td><td>true                              </td><td>   2                              </td></tr>\n",
       "\t<tr><td>139096                            </td><td>496                               </td><td>(\"GUT CHECK\" SET: int. \"gut ch ...</td><td>  NA                              </td><td>4013                              </td><td>NA                                </td><td>711000                            </td><td>true                              </td><td>   2                              </td></tr>\n",
       "\t<tr><td>139102                            </td><td>496                               </td><td>Homer Simpson: So get on the b ...</td><td>   2                              </td><td>4013                              </td><td>Homer Simpson                     </td><td>770000                            </td><td>true                              </td><td>   2                              </td></tr>\n",
       "\t<tr><td>139106                            </td><td>496                               </td><td>Homer Simpson: Just an innocuo ...</td><td>   2                              </td><td>4013                              </td><td>Homer Simpson                     </td><td>787000                            </td><td>true                              </td><td>   9                              </td></tr>\n",
       "\t<tr><td>139197                            </td><td>496                               </td><td>(\"gut Check With Homer Simpson ...</td><td>  NA                              </td><td>4018                              </td><td>NA                                </td><td>1157000                           </td><td>true                              </td><td>   2                              </td></tr>\n",
       "\t<tr><td>139200                            </td><td>496                               </td><td>Homer Simpson: (PUZZLED NOISE) ...</td><td>   2                              </td><td>4018                              </td><td>Homer Simpson                     </td><td>1180000                           </td><td>true                              </td><td>5014                              </td></tr>\n",
       "\t<tr><td>139202                            </td><td>496                               </td><td>Homer Simpson: It's not workin ...</td><td>   2                              </td><td>4018                              </td><td>Homer Simpson                     </td><td>1191000                           </td><td>true                              </td><td>   9                              </td></tr>\n",
       "\t<tr><td>139205                            </td><td>496                               </td><td>Homer Simpson: My fellow Ameri ...</td><td>   2                              </td><td>4018                              </td><td>Homer Simpson                     </td><td>1211000                           </td><td>true                              </td><td>   9                              </td></tr>\n",
       "\t<tr><td>139208                            </td><td>496                               </td><td>Ted Nugent: HAIL TO ME / I'M T ...</td><td>5014                              </td><td>4018                              </td><td>Ted Nugent                        </td><td>1267000                           </td><td>true                              </td><td>5014                              </td></tr>\n",
       "\t<tr><td>139212                            </td><td>496                               </td><td>Homer Simpson: I GOT THIS SONG ...</td><td>   2                              </td><td>4018                              </td><td>Homer Simpson                     </td><td>1278000                           </td><td>true                              </td><td>   2                              </td></tr>\n",
       "\t<tr><td>139216                            </td><td>496                               </td><td>Homer Simpson: (SAD MOAN)         </td><td>   2                              </td><td>4018                              </td><td>Homer Simpson                     </td><td>117000                            </td><td>true                              </td><td> 351                              </td></tr>\n",
       "\t<tr><td>140653                            </td><td>502                               </td><td>(\"INCEPTION\"-STYLE BEACH: ext. ...</td><td>  NA                              </td><td>4053                              </td><td>NA                                </td><td>800000                            </td><td>true                              </td><td>1167                              </td></tr>\n",
       "\t<tr><td>152082                            </td><td>544                               </td><td>(\"SIX FLAGS OVER KRUSTY\" AMUSE ...</td><td>  NA                              </td><td>4311                              </td><td>NA                                </td><td>851000                            </td><td>true                              </td><td>6521                              </td></tr>\n",
       "\t<tr><td>152283                                                 </td><td>545                                                    </td><td>(\"PAY &amp; LEAVE\" SUPERMARKET: in ...                 </td><td><span style=white-space:pre-wrap>  NA</span>           </td><td>4320                                                   </td><td><span style=white-space:pre-wrap>NA             </span></td><td>558000                                                 </td><td>true                                                   </td><td><span style=white-space:pre-wrap>   2</span>           </td></tr>\n",
       "\t<tr><td>  5617                            </td><td> 19                               </td><td>Bart Simpson: True.               </td><td>   8                              </td><td> 250                              </td><td>Bart Simpson                      </td><td>True.                             </td><td>true                              </td><td>   1                              </td></tr>\n",
       "</tbody>\n",
       "</table>\n"
      ],
      "text/latex": [
       "\\begin{tabular}{r|lllllllll}\n",
       " id & episode\\_id & raw\\_text & character\\_id & location\\_id & character\\_name & spoken\\_words & normalized\\_text & word\\_count\\\\\n",
       "\\hline\n",
       "\t 21349                              &  72                                & (\"the Lucky Stiff\" Funeral Hom ... &   NA                               &  761                               & NA                                 & 321000                             & true                               &  990                              \\\\\n",
       "\t 21353                              &  72                                & Patty Bouvier: I'll keep this  ... &   10                               &  761                               & Patty Bouvier                      & 513000                             & true                               &   22                              \\\\\n",
       "\t 23210                              &  78                                & Homer Simpson: True.               &    2                               &  826                               & Homer Simpson                      & True.                              & true                               &    1                              \\\\\n",
       "\t 23212                              &  78                                & Homer Simpson: True.               &    2                               &  826                               & Homer Simpson                      & True.                              & true                               &    1                              \\\\\n",
       "\t 50532                              & 179                                & (\"MAD\" RECEPTION AREA: Int. \"M ... &   NA                               & 1663                               & NA                                 & 1004000                            & true                               &    8                              \\\\\n",
       "\t 50537                              & 179                                & Bart Simpson: (DISAPPOINTED) O ... &    8                               & 1663                               & Bart Simpson                       & 1054000                            & true                               & 2290                              \\\\\n",
       "\t 66294                              & 232                                & (\"SPRINGFIELD SQUARES\" GAMESHO ... &   NA                               & 2002                               & NA                                 & 617000                             & true                               &   33                              \\\\\n",
       "\t 66298                              & 232                                & Disco Stu: Disco Stu's gonna g ... & 1867                               & 2002                               & Disco Stu                          & 640000                             & true                               &  211                              \\\\\n",
       "\t 66300                              & 232                                & Disco Stu: I can dig it. Hit m ... & 1867                               & 2002                               & Disco Stu                          & 646000                             & true                               &  211                              \\\\\n",
       "\t 66311                              & 232                                & Homer Simpson: (HURT) Flavor o ... &    2                               & 2002                               & Homer Simpson                      & 677000                             & true                               & 2580                              \\\\\n",
       "\t 66313                              & 232                                & Homer Simpson: I 'unno... (GUE ... &    2                               & 2002                               & Homer Simpson                      & 688000                             & true                               &  211                              \\\\\n",
       "\t 66316                              & 232                                & Homer Simpson: (CHOKING NOISES ... &    2                               & 2002                               & Homer Simpson                      & 265000                             & true                               &    2                              \\\\\n",
       "\t 69424                              & 242                                & (\"IT NEVER ENDS\" SET: Int. \"It ... &   NA                               & 2073                               & NA                                 & 930000                             & true                               & 3035                              \\\\\n",
       "\t 69427                              & 242                                & Actor: And another thing -- Yo ... & 1088                               & 2073                               & Actor                              & 940000                             & true                               & 3035                              \\\\\n",
       "\t 69430                              & 242                                & Moe Szyslak: (EXCITED) Really? ... &   17                               & 2073                               & Moe Szyslak                        & 947000                             & true                               & 1088                              \\\\\n",
       "\t 69434                              & 242                                & Homer Simpson: (DROPS CAN AND  ... &    2                               & 2073                               & Homer Simpson                      & 970000                             & true                               & 3036                              \\\\\n",
       "\t 69436                              & 242                                & Soap Announcer: With Gabriella ... & 3036                               & 2073                               & Soap Announcer                     & 991000                             & true                               &    1                              \\\\\n",
       "\t 70494                              & 246                                & (\"eye Caramba\" Examination Roo ... &   NA                               & 2098                               & NA                                 & 170000                             & true                               & 1265                              \\\\\n",
       "\t 70497                              & 246                                & Homer Simpson: (CONFUSED WAKIN ... &    2                               & 2098                               & Homer Simpson                      & 176000                             & true                               & 1265                              \\\\\n",
       "\t 70499                              & 246                                & Homer Simpson: (READING) I...  ... &    2                               & 2098                               & Homer Simpson                      & 198000                             & true                               &    2                              \\\\\n",
       "\t 70518                              & 246                                & (\"tommy Hillclimber\" Camping S ... &   NA                               & 2100                               & NA                                 & 214000                             & true                               &    1                              \\\\\n",
       "\t 70521                              & 246                                & Lisa Simpson: (LOOKING AT POST ... &    9                               & 2100                               & Lisa Simpson                       & 240000                             & true                               &    2                              \\\\\n",
       "\t 71992                              & 251                                & (\"BOOKS FOR DUMMIES\" SECTION:  ... &   NA                               & 2131                               & NA                                 & 304000                             & true                               &    8                              \\\\\n",
       "\t 71994                              & 251                                & Bart Simpson: How did you writ ... &    8                               & 2131                               & Bart Simpson                       & 316000                             & true                               & 3135                              \\\\\n",
       "\t 75312                              & 261                                & (\"LAUGH IN\" STAGE: Int. \"Laugh ... &   NA                               & 2203                               & NA                                 & 150000                             & true                               &    2                              \\\\\n",
       "\t 75315                              & 261                                & Krusty the Clown: Those lousy  ... &  139                               & 2203                               & Krusty the Clown                   & 1021000                            & true                               &  153                              \\\\\n",
       "\t 75619                              & 262                                & (\"MAD\" BUILDING: int. \"MAD\" bu ... &   NA                               & 2214                               & NA                                 & 1165000                            & true                               & 3279                              \\\\\n",
       "\t 81133                              & 280                                & (\"UNDERCOVER NERD\" SOUNDSTAGE: ... &   NA                               & 2360                               & NA                                 & 1200000                            & true                               &  508                              \\\\\n",
       "\t 81138                              & 280                                & Female Host: What's this? Two  ... & 1546                               & 2361                               & Female Host                        & 1214000                            & true                               &  508                              \\\\\n",
       "\t 81141                              & 280                                & Greta Wolfcastle: No.              & 3487                               & 2361                               & Greta Wolfcastle                   & 1229000                            & true                               & 3487                              \\\\\n",
       "\t ... & ... & ... & ... & ... & ... & ... & ... & ...\\\\\n",
       "\t  92362                             & 320                                & Marge Simpson: (SHAKES HEAD) Y ... &    1                               & 2666                               & Marge Simpson                      & 707000                             & true                               &    2                              \\\\\n",
       "\t  95555                             & 331                                & (\"MOON BOUNCE\" CASTLE: Ext. \"M ... &   NA                               & 2777                               & NA                                 & 1152000                            & true                               &    1                              \\\\\n",
       "\t  96297                             & 334                                & (\"HEADBUTT\" SET: INT. \"HEADBUT ... &   NA                               & 2804                               & NA                                 & 648000                             & true                               & 4185                              \\\\\n",
       "\t  96304                             & 334                                & Homer Simpson: (MOUTH FULL GAS ... &    2                               & 2804                               & Homer Simpson                      & 694000                             & true                               & 4185                              \\\\\n",
       "\t  96306                             & 334                                & Marge Simpson: (STILL MAD) I'l ... &    1                               & 2804                               & Marge Simpson                      & 701000                             & true                               & 4185                              \\\\\n",
       "\t 117800                             & 414                                & (\"mistress-style\" Apartment: I ... &   NA                               & 3402                               & NA                                 & 940000                             & true                               &    2                              \\\\\n",
       "\t 125797                             & 446                                & (\"SMOOCHES ON THE BEACH\" HOTEL ... &   NA                               & 3637                               & NA                                 & 654000                             & true                               &    2                              \\\\\n",
       "\t 130215                             & 463                                & (\"WALT'S\" CAR: int. \"walt's\" c ... &   NA                               & 3746                               & NA                                 & 698000                             & true                               &    8                              \\\\\n",
       "\t 136529                             & 487                                & (\"top Chef\" Kitchen: Int. \"top ... &   NA                               & 3934                               & NA                                 & 174000                             & true                               & 5879                              \\\\\n",
       "\t 136531                             & 487                                & Marge Simpson: Thank you! This ... &    1                               & 3934                               & Marge Simpson                      & 185000                             & true                               & 5879                              \\\\\n",
       "\t 136533                             & 487                                & Tom Colicchio: Ow! Ow! Ow!...  ... & 5879                               & 3934                               & Tom Colicchio                      & 199000                             & true                               &    1                              \\\\\n",
       "\t 138000                             & 492                                & (\"TWEEN LIT INC.\" MEETING ROOM ... &   NA                               & 3975                               & NA                                 & 780000                             & true                               &    2                              \\\\\n",
       "\t 138005                             & 492                                & Neil Gaiman: (CHIMING IN) I la ... & 5932                               & 3975                               & Neil Gaiman                        & 788000                             & true                               & 5933                              \\\\\n",
       "\t 138021                             & 492                                & (\"TWEEN LIT INC.\" MEETING ROOM ... &   NA                               & 3975                               & NA                                 & 872000                             & true                               & 5933                              \\\\\n",
       "\t 138026                             & 492                                & Slick Publisher: Congratulatio ... & 5933                               & 3975                               & Slick Publisher                    & 888000                             & true                               &    2                              \\\\\n",
       "\t 139103                             & 496                                & Homer Simpson: (RASPY) Goodnig ... &    2                               & 4013                               & Homer Simpson                      & 621000                             & true                               &    2                              \\\\\n",
       "\t 139096                             & 496                                & (\"GUT CHECK\" SET: int. \"gut ch ... &   NA                               & 4013                               & NA                                 & 711000                             & true                               &    2                              \\\\\n",
       "\t 139102                             & 496                                & Homer Simpson: So get on the b ... &    2                               & 4013                               & Homer Simpson                      & 770000                             & true                               &    2                              \\\\\n",
       "\t 139106                             & 496                                & Homer Simpson: Just an innocuo ... &    2                               & 4013                               & Homer Simpson                      & 787000                             & true                               &    9                              \\\\\n",
       "\t 139197                             & 496                                & (\"gut Check With Homer Simpson ... &   NA                               & 4018                               & NA                                 & 1157000                            & true                               &    2                              \\\\\n",
       "\t 139200                             & 496                                & Homer Simpson: (PUZZLED NOISE) ... &    2                               & 4018                               & Homer Simpson                      & 1180000                            & true                               & 5014                              \\\\\n",
       "\t 139202                             & 496                                & Homer Simpson: It's not workin ... &    2                               & 4018                               & Homer Simpson                      & 1191000                            & true                               &    9                              \\\\\n",
       "\t 139205                             & 496                                & Homer Simpson: My fellow Ameri ... &    2                               & 4018                               & Homer Simpson                      & 1211000                            & true                               &    9                              \\\\\n",
       "\t 139208                             & 496                                & Ted Nugent: HAIL TO ME / I'M T ... & 5014                               & 4018                               & Ted Nugent                         & 1267000                            & true                               & 5014                              \\\\\n",
       "\t 139212                             & 496                                & Homer Simpson: I GOT THIS SONG ... &    2                               & 4018                               & Homer Simpson                      & 1278000                            & true                               &    2                              \\\\\n",
       "\t 139216                             & 496                                & Homer Simpson: (SAD MOAN)          &    2                               & 4018                               & Homer Simpson                      & 117000                             & true                               &  351                              \\\\\n",
       "\t 140653                             & 502                                & (\"INCEPTION\"-STYLE BEACH: ext. ... &   NA                               & 4053                               & NA                                 & 800000                             & true                               & 1167                              \\\\\n",
       "\t 152082                             & 544                                & (\"SIX FLAGS OVER KRUSTY\" AMUSE ... &   NA                               & 4311                               & NA                                 & 851000                             & true                               & 6521                              \\\\\n",
       "\t 152283                               & 545                                  & (\"PAY \\& LEAVE\" SUPERMARKET: in ... &   NA                                 & 4320                                 & NA                                   & 558000                               & true                                 &    2                                \\\\\n",
       "\t   5617                             &  19                                & Bart Simpson: True.                &    8                               &  250                               & Bart Simpson                       & True.                              & true                               &    1                              \\\\\n",
       "\\end{tabular}\n"
      ],
      "text/markdown": [
       "\n",
       "id | episode_id | raw_text | character_id | location_id | character_name | spoken_words | normalized_text | word_count | \n",
       "|---|---|---|---|---|---|---|---|---|---|---|---|---|---|---|---|---|---|---|---|---|---|---|---|---|---|---|---|---|---|---|---|---|---|---|---|---|---|---|---|---|---|---|---|---|---|---|---|---|---|---|---|---|---|---|---|---|---|---|---|---|\n",
       "| 21349                              |  72                                | (\"the Lucky Stiff\" Funeral Hom ... |   NA                               |  761                               | NA                                 | 321000                             | true                               |  990                               | \n",
       "| 21353                              |  72                                | Patty Bouvier: I'll keep this  ... |   10                               |  761                               | Patty Bouvier                      | 513000                             | true                               |   22                               | \n",
       "| 23210                              |  78                                | Homer Simpson: True.               |    2                               |  826                               | Homer Simpson                      | True.                              | true                               |    1                               | \n",
       "| 23212                              |  78                                | Homer Simpson: True.               |    2                               |  826                               | Homer Simpson                      | True.                              | true                               |    1                               | \n",
       "| 50532                              | 179                                | (\"MAD\" RECEPTION AREA: Int. \"M ... |   NA                               | 1663                               | NA                                 | 1004000                            | true                               |    8                               | \n",
       "| 50537                              | 179                                | Bart Simpson: (DISAPPOINTED) O ... |    8                               | 1663                               | Bart Simpson                       | 1054000                            | true                               | 2290                               | \n",
       "| 66294                              | 232                                | (\"SPRINGFIELD SQUARES\" GAMESHO ... |   NA                               | 2002                               | NA                                 | 617000                             | true                               |   33                               | \n",
       "| 66298                              | 232                                | Disco Stu: Disco Stu's gonna g ... | 1867                               | 2002                               | Disco Stu                          | 640000                             | true                               |  211                               | \n",
       "| 66300                              | 232                                | Disco Stu: I can dig it. Hit m ... | 1867                               | 2002                               | Disco Stu                          | 646000                             | true                               |  211                               | \n",
       "| 66311                              | 232                                | Homer Simpson: (HURT) Flavor o ... |    2                               | 2002                               | Homer Simpson                      | 677000                             | true                               | 2580                               | \n",
       "| 66313                              | 232                                | Homer Simpson: I 'unno... (GUE ... |    2                               | 2002                               | Homer Simpson                      | 688000                             | true                               |  211                               | \n",
       "| 66316                              | 232                                | Homer Simpson: (CHOKING NOISES ... |    2                               | 2002                               | Homer Simpson                      | 265000                             | true                               |    2                               | \n",
       "| 69424                              | 242                                | (\"IT NEVER ENDS\" SET: Int. \"It ... |   NA                               | 2073                               | NA                                 | 930000                             | true                               | 3035                               | \n",
       "| 69427                              | 242                                | Actor: And another thing -- Yo ... | 1088                               | 2073                               | Actor                              | 940000                             | true                               | 3035                               | \n",
       "| 69430                              | 242                                | Moe Szyslak: (EXCITED) Really? ... |   17                               | 2073                               | Moe Szyslak                        | 947000                             | true                               | 1088                               | \n",
       "| 69434                              | 242                                | Homer Simpson: (DROPS CAN AND  ... |    2                               | 2073                               | Homer Simpson                      | 970000                             | true                               | 3036                               | \n",
       "| 69436                              | 242                                | Soap Announcer: With Gabriella ... | 3036                               | 2073                               | Soap Announcer                     | 991000                             | true                               |    1                               | \n",
       "| 70494                              | 246                                | (\"eye Caramba\" Examination Roo ... |   NA                               | 2098                               | NA                                 | 170000                             | true                               | 1265                               | \n",
       "| 70497                              | 246                                | Homer Simpson: (CONFUSED WAKIN ... |    2                               | 2098                               | Homer Simpson                      | 176000                             | true                               | 1265                               | \n",
       "| 70499                              | 246                                | Homer Simpson: (READING) I...  ... |    2                               | 2098                               | Homer Simpson                      | 198000                             | true                               |    2                               | \n",
       "| 70518                              | 246                                | (\"tommy Hillclimber\" Camping S ... |   NA                               | 2100                               | NA                                 | 214000                             | true                               |    1                               | \n",
       "| 70521                              | 246                                | Lisa Simpson: (LOOKING AT POST ... |    9                               | 2100                               | Lisa Simpson                       | 240000                             | true                               |    2                               | \n",
       "| 71992                              | 251                                | (\"BOOKS FOR DUMMIES\" SECTION:  ... |   NA                               | 2131                               | NA                                 | 304000                             | true                               |    8                               | \n",
       "| 71994                              | 251                                | Bart Simpson: How did you writ ... |    8                               | 2131                               | Bart Simpson                       | 316000                             | true                               | 3135                               | \n",
       "| 75312                              | 261                                | (\"LAUGH IN\" STAGE: Int. \"Laugh ... |   NA                               | 2203                               | NA                                 | 150000                             | true                               |    2                               | \n",
       "| 75315                              | 261                                | Krusty the Clown: Those lousy  ... |  139                               | 2203                               | Krusty the Clown                   | 1021000                            | true                               |  153                               | \n",
       "| 75619                              | 262                                | (\"MAD\" BUILDING: int. \"MAD\" bu ... |   NA                               | 2214                               | NA                                 | 1165000                            | true                               | 3279                               | \n",
       "| 81133                              | 280                                | (\"UNDERCOVER NERD\" SOUNDSTAGE: ... |   NA                               | 2360                               | NA                                 | 1200000                            | true                               |  508                               | \n",
       "| 81138                              | 280                                | Female Host: What's this? Two  ... | 1546                               | 2361                               | Female Host                        | 1214000                            | true                               |  508                               | \n",
       "| 81141                              | 280                                | Greta Wolfcastle: No.              | 3487                               | 2361                               | Greta Wolfcastle                   | 1229000                            | true                               | 3487                               | \n",
       "| ... | ... | ... | ... | ... | ... | ... | ... | ... | \n",
       "|  92362                             | 320                                | Marge Simpson: (SHAKES HEAD) Y ... |    1                               | 2666                               | Marge Simpson                      | 707000                             | true                               |    2                               | \n",
       "|  95555                             | 331                                | (\"MOON BOUNCE\" CASTLE: Ext. \"M ... |   NA                               | 2777                               | NA                                 | 1152000                            | true                               |    1                               | \n",
       "|  96297                             | 334                                | (\"HEADBUTT\" SET: INT. \"HEADBUT ... |   NA                               | 2804                               | NA                                 | 648000                             | true                               | 4185                               | \n",
       "|  96304                             | 334                                | Homer Simpson: (MOUTH FULL GAS ... |    2                               | 2804                               | Homer Simpson                      | 694000                             | true                               | 4185                               | \n",
       "|  96306                             | 334                                | Marge Simpson: (STILL MAD) I'l ... |    1                               | 2804                               | Marge Simpson                      | 701000                             | true                               | 4185                               | \n",
       "| 117800                             | 414                                | (\"mistress-style\" Apartment: I ... |   NA                               | 3402                               | NA                                 | 940000                             | true                               |    2                               | \n",
       "| 125797                             | 446                                | (\"SMOOCHES ON THE BEACH\" HOTEL ... |   NA                               | 3637                               | NA                                 | 654000                             | true                               |    2                               | \n",
       "| 130215                             | 463                                | (\"WALT'S\" CAR: int. \"walt's\" c ... |   NA                               | 3746                               | NA                                 | 698000                             | true                               |    8                               | \n",
       "| 136529                             | 487                                | (\"top Chef\" Kitchen: Int. \"top ... |   NA                               | 3934                               | NA                                 | 174000                             | true                               | 5879                               | \n",
       "| 136531                             | 487                                | Marge Simpson: Thank you! This ... |    1                               | 3934                               | Marge Simpson                      | 185000                             | true                               | 5879                               | \n",
       "| 136533                             | 487                                | Tom Colicchio: Ow! Ow! Ow!...  ... | 5879                               | 3934                               | Tom Colicchio                      | 199000                             | true                               |    1                               | \n",
       "| 138000                             | 492                                | (\"TWEEN LIT INC.\" MEETING ROOM ... |   NA                               | 3975                               | NA                                 | 780000                             | true                               |    2                               | \n",
       "| 138005                             | 492                                | Neil Gaiman: (CHIMING IN) I la ... | 5932                               | 3975                               | Neil Gaiman                        | 788000                             | true                               | 5933                               | \n",
       "| 138021                             | 492                                | (\"TWEEN LIT INC.\" MEETING ROOM ... |   NA                               | 3975                               | NA                                 | 872000                             | true                               | 5933                               | \n",
       "| 138026                             | 492                                | Slick Publisher: Congratulatio ... | 5933                               | 3975                               | Slick Publisher                    | 888000                             | true                               |    2                               | \n",
       "| 139103                             | 496                                | Homer Simpson: (RASPY) Goodnig ... |    2                               | 4013                               | Homer Simpson                      | 621000                             | true                               |    2                               | \n",
       "| 139096                             | 496                                | (\"GUT CHECK\" SET: int. \"gut ch ... |   NA                               | 4013                               | NA                                 | 711000                             | true                               |    2                               | \n",
       "| 139102                             | 496                                | Homer Simpson: So get on the b ... |    2                               | 4013                               | Homer Simpson                      | 770000                             | true                               |    2                               | \n",
       "| 139106                             | 496                                | Homer Simpson: Just an innocuo ... |    2                               | 4013                               | Homer Simpson                      | 787000                             | true                               |    9                               | \n",
       "| 139197                             | 496                                | (\"gut Check With Homer Simpson ... |   NA                               | 4018                               | NA                                 | 1157000                            | true                               |    2                               | \n",
       "| 139200                             | 496                                | Homer Simpson: (PUZZLED NOISE) ... |    2                               | 4018                               | Homer Simpson                      | 1180000                            | true                               | 5014                               | \n",
       "| 139202                             | 496                                | Homer Simpson: It's not workin ... |    2                               | 4018                               | Homer Simpson                      | 1191000                            | true                               |    9                               | \n",
       "| 139205                             | 496                                | Homer Simpson: My fellow Ameri ... |    2                               | 4018                               | Homer Simpson                      | 1211000                            | true                               |    9                               | \n",
       "| 139208                             | 496                                | Ted Nugent: HAIL TO ME / I'M T ... | 5014                               | 4018                               | Ted Nugent                         | 1267000                            | true                               | 5014                               | \n",
       "| 139212                             | 496                                | Homer Simpson: I GOT THIS SONG ... |    2                               | 4018                               | Homer Simpson                      | 1278000                            | true                               |    2                               | \n",
       "| 139216                             | 496                                | Homer Simpson: (SAD MOAN)          |    2                               | 4018                               | Homer Simpson                      | 117000                             | true                               |  351                               | \n",
       "| 140653                             | 502                                | (\"INCEPTION\"-STYLE BEACH: ext. ... |   NA                               | 4053                               | NA                                 | 800000                             | true                               | 1167                               | \n",
       "| 152082                             | 544                                | (\"SIX FLAGS OVER KRUSTY\" AMUSE ... |   NA                               | 4311                               | NA                                 | 851000                             | true                               | 6521                               | \n",
       "| 152283                             | 545                                | (\"PAY & LEAVE\" SUPERMARKET: in ... |   NA                               | 4320                               | NA                                 | 558000                             | true                               |    2                               | \n",
       "|   5617                             |  19                                | Bart Simpson: True.                |    8                               |  250                               | Bart Simpson                       | True.                              | true                               |    1                               | \n",
       "\n",
       "\n"
      ],
      "text/plain": [
       "    id     episode_id raw_text                           character_id\n",
       "1   21349   72        (\"the Lucky Stiff\" Funeral Hom ...   NA        \n",
       "2   21353   72        Patty Bouvier: I'll keep this  ...   10        \n",
       "3   23210   78        Homer Simpson: True.                  2        \n",
       "4   23212   78        Homer Simpson: True.                  2        \n",
       "5   50532  179        (\"MAD\" RECEPTION AREA: Int. \"M ...   NA        \n",
       "6   50537  179        Bart Simpson: (DISAPPOINTED) O ...    8        \n",
       "7   66294  232        (\"SPRINGFIELD SQUARES\" GAMESHO ...   NA        \n",
       "8   66298  232        Disco Stu: Disco Stu's gonna g ... 1867        \n",
       "9   66300  232        Disco Stu: I can dig it. Hit m ... 1867        \n",
       "10  66311  232        Homer Simpson: (HURT) Flavor o ...    2        \n",
       "11  66313  232        Homer Simpson: I 'unno... (GUE ...    2        \n",
       "12  66316  232        Homer Simpson: (CHOKING NOISES ...    2        \n",
       "13  69424  242        (\"IT NEVER ENDS\" SET: Int. \"It ...   NA        \n",
       "14  69427  242        Actor: And another thing -- Yo ... 1088        \n",
       "15  69430  242        Moe Szyslak: (EXCITED) Really? ...   17        \n",
       "16  69434  242        Homer Simpson: (DROPS CAN AND  ...    2        \n",
       "17  69436  242        Soap Announcer: With Gabriella ... 3036        \n",
       "18  70494  246        (\"eye Caramba\" Examination Roo ...   NA        \n",
       "19  70497  246        Homer Simpson: (CONFUSED WAKIN ...    2        \n",
       "20  70499  246        Homer Simpson: (READING) I...  ...    2        \n",
       "21  70518  246        (\"tommy Hillclimber\" Camping S ...   NA        \n",
       "22  70521  246        Lisa Simpson: (LOOKING AT POST ...    9        \n",
       "23  71992  251        (\"BOOKS FOR DUMMIES\" SECTION:  ...   NA        \n",
       "24  71994  251        Bart Simpson: How did you writ ...    8        \n",
       "25  75312  261        (\"LAUGH IN\" STAGE: Int. \"Laugh ...   NA        \n",
       "26  75315  261        Krusty the Clown: Those lousy  ...  139        \n",
       "27  75619  262        (\"MAD\" BUILDING: int. \"MAD\" bu ...   NA        \n",
       "28  81133  280        (\"UNDERCOVER NERD\" SOUNDSTAGE: ...   NA        \n",
       "29  81138  280        Female Host: What's this? Two  ... 1546        \n",
       "30  81141  280        Greta Wolfcastle: No.              3487        \n",
       "... ...    ...        ...                                ...         \n",
       "35   92362 320        Marge Simpson: (SHAKES HEAD) Y ...    1        \n",
       "36   95555 331        (\"MOON BOUNCE\" CASTLE: Ext. \"M ...   NA        \n",
       "37   96297 334        (\"HEADBUTT\" SET: INT. \"HEADBUT ...   NA        \n",
       "38   96304 334        Homer Simpson: (MOUTH FULL GAS ...    2        \n",
       "39   96306 334        Marge Simpson: (STILL MAD) I'l ...    1        \n",
       "40  117800 414        (\"mistress-style\" Apartment: I ...   NA        \n",
       "41  125797 446        (\"SMOOCHES ON THE BEACH\" HOTEL ...   NA        \n",
       "42  130215 463        (\"WALT'S\" CAR: int. \"walt's\" c ...   NA        \n",
       "43  136529 487        (\"top Chef\" Kitchen: Int. \"top ...   NA        \n",
       "44  136531 487        Marge Simpson: Thank you! This ...    1        \n",
       "45  136533 487        Tom Colicchio: Ow! Ow! Ow!...  ... 5879        \n",
       "46  138000 492        (\"TWEEN LIT INC.\" MEETING ROOM ...   NA        \n",
       "47  138005 492        Neil Gaiman: (CHIMING IN) I la ... 5932        \n",
       "48  138021 492        (\"TWEEN LIT INC.\" MEETING ROOM ...   NA        \n",
       "49  138026 492        Slick Publisher: Congratulatio ... 5933        \n",
       "50  139103 496        Homer Simpson: (RASPY) Goodnig ...    2        \n",
       "51  139096 496        (\"GUT CHECK\" SET: int. \"gut ch ...   NA        \n",
       "52  139102 496        Homer Simpson: So get on the b ...    2        \n",
       "53  139106 496        Homer Simpson: Just an innocuo ...    2        \n",
       "54  139197 496        (\"gut Check With Homer Simpson ...   NA        \n",
       "55  139200 496        Homer Simpson: (PUZZLED NOISE) ...    2        \n",
       "56  139202 496        Homer Simpson: It's not workin ...    2        \n",
       "57  139205 496        Homer Simpson: My fellow Ameri ...    2        \n",
       "58  139208 496        Ted Nugent: HAIL TO ME / I'M T ... 5014        \n",
       "59  139212 496        Homer Simpson: I GOT THIS SONG ...    2        \n",
       "60  139216 496        Homer Simpson: (SAD MOAN)             2        \n",
       "61  140653 502        (\"INCEPTION\"-STYLE BEACH: ext. ...   NA        \n",
       "62  152082 544        (\"SIX FLAGS OVER KRUSTY\" AMUSE ...   NA        \n",
       "63  152283 545        (\"PAY & LEAVE\" SUPERMARKET: in ...   NA        \n",
       "64    5617  19        Bart Simpson: True.                   8        \n",
       "    location_id character_name   spoken_words normalized_text word_count\n",
       "1    761        NA               321000       true             990      \n",
       "2    761        Patty Bouvier    513000       true              22      \n",
       "3    826        Homer Simpson    True.        true               1      \n",
       "4    826        Homer Simpson    True.        true               1      \n",
       "5   1663        NA               1004000      true               8      \n",
       "6   1663        Bart Simpson     1054000      true            2290      \n",
       "7   2002        NA               617000       true              33      \n",
       "8   2002        Disco Stu        640000       true             211      \n",
       "9   2002        Disco Stu        646000       true             211      \n",
       "10  2002        Homer Simpson    677000       true            2580      \n",
       "11  2002        Homer Simpson    688000       true             211      \n",
       "12  2002        Homer Simpson    265000       true               2      \n",
       "13  2073        NA               930000       true            3035      \n",
       "14  2073        Actor            940000       true            3035      \n",
       "15  2073        Moe Szyslak      947000       true            1088      \n",
       "16  2073        Homer Simpson    970000       true            3036      \n",
       "17  2073        Soap Announcer   991000       true               1      \n",
       "18  2098        NA               170000       true            1265      \n",
       "19  2098        Homer Simpson    176000       true            1265      \n",
       "20  2098        Homer Simpson    198000       true               2      \n",
       "21  2100        NA               214000       true               1      \n",
       "22  2100        Lisa Simpson     240000       true               2      \n",
       "23  2131        NA               304000       true               8      \n",
       "24  2131        Bart Simpson     316000       true            3135      \n",
       "25  2203        NA               150000       true               2      \n",
       "26  2203        Krusty the Clown 1021000      true             153      \n",
       "27  2214        NA               1165000      true            3279      \n",
       "28  2360        NA               1200000      true             508      \n",
       "29  2361        Female Host      1214000      true             508      \n",
       "30  2361        Greta Wolfcastle 1229000      true            3487      \n",
       "... ...         ...              ...          ...             ...       \n",
       "35  2666        Marge Simpson    707000       true               2      \n",
       "36  2777        NA               1152000      true               1      \n",
       "37  2804        NA               648000       true            4185      \n",
       "38  2804        Homer Simpson    694000       true            4185      \n",
       "39  2804        Marge Simpson    701000       true            4185      \n",
       "40  3402        NA               940000       true               2      \n",
       "41  3637        NA               654000       true               2      \n",
       "42  3746        NA               698000       true               8      \n",
       "43  3934        NA               174000       true            5879      \n",
       "44  3934        Marge Simpson    185000       true            5879      \n",
       "45  3934        Tom Colicchio    199000       true               1      \n",
       "46  3975        NA               780000       true               2      \n",
       "47  3975        Neil Gaiman      788000       true            5933      \n",
       "48  3975        NA               872000       true            5933      \n",
       "49  3975        Slick Publisher  888000       true               2      \n",
       "50  4013        Homer Simpson    621000       true               2      \n",
       "51  4013        NA               711000       true               2      \n",
       "52  4013        Homer Simpson    770000       true               2      \n",
       "53  4013        Homer Simpson    787000       true               9      \n",
       "54  4018        NA               1157000      true               2      \n",
       "55  4018        Homer Simpson    1180000      true            5014      \n",
       "56  4018        Homer Simpson    1191000      true               9      \n",
       "57  4018        Homer Simpson    1211000      true               9      \n",
       "58  4018        Ted Nugent       1267000      true            5014      \n",
       "59  4018        Homer Simpson    1278000      true               2      \n",
       "60  4018        Homer Simpson    117000       true             351      \n",
       "61  4053        NA               800000       true            1167      \n",
       "62  4311        NA               851000       true            6521      \n",
       "63  4320        NA               558000       true               2      \n",
       "64   250        Bart Simpson     True.        true               1      "
      ]
     },
     "metadata": {},
     "output_type": "display_data"
    }
   ],
   "source": [
    "printable(df %>% filter(normalized_text==\"true\"))"
   ]
  },
  {
   "cell_type": "markdown",
   "metadata": {},
   "source": [
    "Yep, all false data.  If we dump all of it, how much damage are we doing?"
   ]
  },
  {
   "cell_type": "code",
   "execution_count": 151,
   "metadata": {},
   "outputs": [
    {
     "name": "stdout",
     "output_type": "stream",
     "text": [
      "[1] \"Rows: 64\"\n",
      "[1] \"Percentage of df: 0.04 %\"\n"
     ]
    }
   ],
   "source": [
    "x <- dim(df %>% filter(normalized_text=='true'))[1]\n",
    "\n",
    "print(paste(\"Rows:\",as.character(x)))\n",
    "\n",
    "y <- round((100*(x/157462)),2)\n",
    "\n",
    "print(paste(\"Percentage of df:\",as.character(y),\"%\"))\n"
   ]
  },
  {
   "cell_type": "code",
   "execution_count": null,
   "metadata": {},
   "outputs": [],
   "source": []
  },
  {
   "cell_type": "markdown",
   "metadata": {},
   "source": [
    "*Laaaaaaater*"
   ]
  },
  {
   "cell_type": "markdown",
   "metadata": {},
   "source": [
    "![title](https://assets-cdn.github.com/images/icons/emoji/unicode/270c.png)"
   ]
  },
  {
   "cell_type": "code",
   "execution_count": 152,
   "metadata": {},
   "outputs": [],
   "source": [
    "df <- df %>% filter(normalized_text !='true')"
   ]
  },
  {
   "cell_type": "code",
   "execution_count": 153,
   "metadata": {},
   "outputs": [
    {
     "data": {
      "text/html": [
       "<table>\n",
       "<thead><tr><th scope=col>id</th><th scope=col>episode_id</th><th scope=col>raw_text</th><th scope=col>character_id</th><th scope=col>location_id</th><th scope=col>character_name</th><th scope=col>spoken_words</th><th scope=col>normalized_text</th><th scope=col>word_count</th></tr></thead>\n",
       "<tbody>\n",
       "\t<tr><td> 22701                            </td><td> 76                               </td><td>Grampa Simpson: One trick is t ...</td><td>  31                              </td><td>  51                              </td><td>Grampa Simpson                    </td><td>One trick is to tell them stor ...</td><td>one trick is to tell them stor ...</td><td>122                               </td></tr>\n",
       "\t<tr><td>134211                            </td><td>478                               </td><td>\"Randy Newman\": It was not! Wh ...</td><td>5807                              </td><td>3869                              </td><td>Randy Newman                      </td><td>It was not! Who else in here's ...</td><td>it was not who else in heres g ...</td><td>116                               </td></tr>\n",
       "\t<tr><td>  3069                            </td><td> 10                               </td><td>Homer Simpson: Quiet! I have s ...</td><td>   2                              </td><td> 171                              </td><td>Homer Simpson                     </td><td>Quiet! I have something to say ...</td><td>quiet i have something to say  ...</td><td>114                               </td></tr>\n",
       "\t<tr><td> 52015                            </td><td>184                               </td><td>Homer Simpson: Scully, you're  ...</td><td>   2                              </td><td> 583                              </td><td>Homer Simpson                     </td><td>Scully, you're cut. Ehhh, Broo ...</td><td>scully youre cut ehhh brooks g ...</td><td>111                               </td></tr>\n",
       "\t<tr><td> 99981                            </td><td>347                               </td><td>David Silverman: David Silverm ...</td><td>4349                              </td><td>2906                              </td><td>David Silverman                   </td><td>David Silverman here, Supervis ...</td><td>david silverman here supervisi ...</td><td>111                               </td></tr>\n",
       "\t<tr><td>156167                            </td><td>560                               </td><td>SAMMY HAGAR: So there I am, in ...</td><td>6685                              </td><td>4417                              </td><td>SAMMY HAGAR                       </td><td>So there I am, in Easter Islan ...</td><td>so there i am in easter island ...</td><td>110                               </td></tr>\n",
       "\t<tr><td> 27895                            </td><td> 94                               </td><td>James Woods: (AGITATED) To-Ton ...</td><td>1337                              </td><td> 136                              </td><td>James Woods                       </td><td>To-Toni, Toni, do-- you're my  ...</td><td>to-toni toni do-- youre my age ...</td><td>106                               </td></tr>\n",
       "\t<tr><td> 28412                            </td><td> 96                               </td><td>Kent Brockman: (CALMLY) Ladies ...</td><td> 211                              </td><td>1014                              </td><td>Kent Brockman                     </td><td>Ladies and gentlemen, we've ju ...</td><td>ladies and gentlemen weve just ...</td><td>106                               </td></tr>\n",
       "\t<tr><td>135363                            </td><td>482                               </td><td>Ewell Freestone: (SING) AND TH ...</td><td>5846                              </td><td>3910                              </td><td>Ewell Freestone                   </td><td>AND THE YEAR'S FOURTH PEACH /  ...</td><td>and the years fourth peach is  ...</td><td>105                               </td></tr>\n",
       "\t<tr><td> 15882                            </td><td> 52                               </td><td>Singers: WELL MR. BURNS HAD DO ...</td><td> 276                              </td><td> 572                              </td><td>Singers                           </td><td>WELL MR. BURNS HAD DONE IT / T ...</td><td>well mr burns had done it the  ...</td><td>103                               </td></tr>\n",
       "</tbody>\n",
       "</table>\n"
      ],
      "text/latex": [
       "\\begin{tabular}{r|lllllllll}\n",
       " id & episode\\_id & raw\\_text & character\\_id & location\\_id & character\\_name & spoken\\_words & normalized\\_text & word\\_count\\\\\n",
       "\\hline\n",
       "\t  22701                             &  76                                & Grampa Simpson: One trick is t ... &   31                               &   51                               & Grampa Simpson                     & One trick is to tell them stor ... & one trick is to tell them stor ... & 122                               \\\\\n",
       "\t 134211                             & 478                                & \"Randy Newman\": It was not! Wh ... & 5807                               & 3869                               & Randy Newman                       & It was not! Who else in here's ... & it was not who else in heres g ... & 116                               \\\\\n",
       "\t   3069                             &  10                                & Homer Simpson: Quiet! I have s ... &    2                               &  171                               & Homer Simpson                      & Quiet! I have something to say ... & quiet i have something to say  ... & 114                               \\\\\n",
       "\t  52015                             & 184                                & Homer Simpson: Scully, you're  ... &    2                               &  583                               & Homer Simpson                      & Scully, you're cut. Ehhh, Broo ... & scully youre cut ehhh brooks g ... & 111                               \\\\\n",
       "\t  99981                             & 347                                & David Silverman: David Silverm ... & 4349                               & 2906                               & David Silverman                    & David Silverman here, Supervis ... & david silverman here supervisi ... & 111                               \\\\\n",
       "\t 156167                             & 560                                & SAMMY HAGAR: So there I am, in ... & 6685                               & 4417                               & SAMMY HAGAR                        & So there I am, in Easter Islan ... & so there i am in easter island ... & 110                               \\\\\n",
       "\t  27895                             &  94                                & James Woods: (AGITATED) To-Ton ... & 1337                               &  136                               & James Woods                        & To-Toni, Toni, do-- you're my  ... & to-toni toni do-- youre my age ... & 106                               \\\\\n",
       "\t  28412                             &  96                                & Kent Brockman: (CALMLY) Ladies ... &  211                               & 1014                               & Kent Brockman                      & Ladies and gentlemen, we've ju ... & ladies and gentlemen weve just ... & 106                               \\\\\n",
       "\t 135363                             & 482                                & Ewell Freestone: (SING) AND TH ... & 5846                               & 3910                               & Ewell Freestone                    & AND THE YEAR'S FOURTH PEACH /  ... & and the years fourth peach is  ... & 105                               \\\\\n",
       "\t  15882                             &  52                                & Singers: WELL MR. BURNS HAD DO ... &  276                               &  572                               & Singers                            & WELL MR. BURNS HAD DONE IT / T ... & well mr burns had done it the  ... & 103                               \\\\\n",
       "\\end{tabular}\n"
      ],
      "text/markdown": [
       "\n",
       "id | episode_id | raw_text | character_id | location_id | character_name | spoken_words | normalized_text | word_count | \n",
       "|---|---|---|---|---|---|---|---|---|---|\n",
       "|  22701                             |  76                                | Grampa Simpson: One trick is t ... |   31                               |   51                               | Grampa Simpson                     | One trick is to tell them stor ... | one trick is to tell them stor ... | 122                                | \n",
       "| 134211                             | 478                                | \"Randy Newman\": It was not! Wh ... | 5807                               | 3869                               | Randy Newman                       | It was not! Who else in here's ... | it was not who else in heres g ... | 116                                | \n",
       "|   3069                             |  10                                | Homer Simpson: Quiet! I have s ... |    2                               |  171                               | Homer Simpson                      | Quiet! I have something to say ... | quiet i have something to say  ... | 114                                | \n",
       "|  52015                             | 184                                | Homer Simpson: Scully, you're  ... |    2                               |  583                               | Homer Simpson                      | Scully, you're cut. Ehhh, Broo ... | scully youre cut ehhh brooks g ... | 111                                | \n",
       "|  99981                             | 347                                | David Silverman: David Silverm ... | 4349                               | 2906                               | David Silverman                    | David Silverman here, Supervis ... | david silverman here supervisi ... | 111                                | \n",
       "| 156167                             | 560                                | SAMMY HAGAR: So there I am, in ... | 6685                               | 4417                               | SAMMY HAGAR                        | So there I am, in Easter Islan ... | so there i am in easter island ... | 110                                | \n",
       "|  27895                             |  94                                | James Woods: (AGITATED) To-Ton ... | 1337                               |  136                               | James Woods                        | To-Toni, Toni, do-- you're my  ... | to-toni toni do-- youre my age ... | 106                                | \n",
       "|  28412                             |  96                                | Kent Brockman: (CALMLY) Ladies ... |  211                               | 1014                               | Kent Brockman                      | Ladies and gentlemen, we've ju ... | ladies and gentlemen weve just ... | 106                                | \n",
       "| 135363                             | 482                                | Ewell Freestone: (SING) AND TH ... | 5846                               | 3910                               | Ewell Freestone                    | AND THE YEAR'S FOURTH PEACH /  ... | and the years fourth peach is  ... | 105                                | \n",
       "|  15882                             |  52                                | Singers: WELL MR. BURNS HAD DO ... |  276                               |  572                               | Singers                            | WELL MR. BURNS HAD DONE IT / T ... | well mr burns had done it the  ... | 103                                | \n",
       "\n",
       "\n"
      ],
      "text/plain": [
       "   id     episode_id raw_text                           character_id\n",
       "1   22701  76        Grampa Simpson: One trick is t ...   31        \n",
       "2  134211 478        \"Randy Newman\": It was not! Wh ... 5807        \n",
       "3    3069  10        Homer Simpson: Quiet! I have s ...    2        \n",
       "4   52015 184        Homer Simpson: Scully, you're  ...    2        \n",
       "5   99981 347        David Silverman: David Silverm ... 4349        \n",
       "6  156167 560        SAMMY HAGAR: So there I am, in ... 6685        \n",
       "7   27895  94        James Woods: (AGITATED) To-Ton ... 1337        \n",
       "8   28412  96        Kent Brockman: (CALMLY) Ladies ...  211        \n",
       "9  135363 482        Ewell Freestone: (SING) AND TH ... 5846        \n",
       "10  15882  52        Singers: WELL MR. BURNS HAD DO ...  276        \n",
       "   location_id character_name  spoken_words                      \n",
       "1    51        Grampa Simpson  One trick is to tell them stor ...\n",
       "2  3869        Randy Newman    It was not! Who else in here's ...\n",
       "3   171        Homer Simpson   Quiet! I have something to say ...\n",
       "4   583        Homer Simpson   Scully, you're cut. Ehhh, Broo ...\n",
       "5  2906        David Silverman David Silverman here, Supervis ...\n",
       "6  4417        SAMMY HAGAR     So there I am, in Easter Islan ...\n",
       "7   136        James Woods     To-Toni, Toni, do-- you're my  ...\n",
       "8  1014        Kent Brockman   Ladies and gentlemen, we've ju ...\n",
       "9  3910        Ewell Freestone AND THE YEAR'S FOURTH PEACH /  ...\n",
       "10  572        Singers         WELL MR. BURNS HAD DONE IT / T ...\n",
       "   normalized_text                    word_count\n",
       "1  one trick is to tell them stor ... 122       \n",
       "2  it was not who else in heres g ... 116       \n",
       "3  quiet i have something to say  ... 114       \n",
       "4  scully youre cut ehhh brooks g ... 111       \n",
       "5  david silverman here supervisi ... 111       \n",
       "6  so there i am in easter island ... 110       \n",
       "7  to-toni toni do-- youre my age ... 106       \n",
       "8  ladies and gentlemen weve just ... 106       \n",
       "9  and the years fourth peach is  ... 105       \n",
       "10 well mr burns had done it the  ... 103       "
      ]
     },
     "metadata": {},
     "output_type": "display_data"
    }
   ],
   "source": [
    "printable(head(df %>% arrange(desc(word_count)),10))"
   ]
  },
  {
   "cell_type": "markdown",
   "metadata": {},
   "source": [
    "This looks SO much better.  We're ready to look at some averages!"
   ]
  },
  {
   "cell_type": "code",
   "execution_count": 154,
   "metadata": {},
   "outputs": [
    {
     "data": {
      "text/html": [
       "<table>\n",
       "<thead><tr><th scope=col>character_name</th><th scope=col>avg_wordsperline</th></tr></thead>\n",
       "<tbody>\n",
       "\t<tr><td>NRBQ           </td><td>82.00          </td></tr>\n",
       "\t<tr><td>SIR MIX-A-LOT  </td><td>72.00          </td></tr>\n",
       "\t<tr><td>Johnny Bobby   </td><td>69.00          </td></tr>\n",
       "\t<tr><td>Jack Black     </td><td>64.00          </td></tr>\n",
       "\t<tr><td>David Silverman</td><td>61.00          </td></tr>\n",
       "\t<tr><td>Randy Jackson  </td><td>59.00          </td></tr>\n",
       "\t<tr><td>Ellen DeGeneres</td><td>58.00          </td></tr>\n",
       "\t<tr><td>Randy Newman   </td><td>57.75          </td></tr>\n",
       "\t<tr><td>SAMMY HAGAR    </td><td>52.00          </td></tr>\n",
       "\t<tr><td>TRUONG         </td><td>52.00          </td></tr>\n",
       "</tbody>\n",
       "</table>\n"
      ],
      "text/latex": [
       "\\begin{tabular}{r|ll}\n",
       " character\\_name & avg\\_wordsperline\\\\\n",
       "\\hline\n",
       "\t NRBQ            & 82.00          \\\\\n",
       "\t SIR MIX-A-LOT   & 72.00          \\\\\n",
       "\t Johnny Bobby    & 69.00          \\\\\n",
       "\t Jack Black      & 64.00          \\\\\n",
       "\t David Silverman & 61.00          \\\\\n",
       "\t Randy Jackson   & 59.00          \\\\\n",
       "\t Ellen DeGeneres & 58.00          \\\\\n",
       "\t Randy Newman    & 57.75          \\\\\n",
       "\t SAMMY HAGAR     & 52.00          \\\\\n",
       "\t TRUONG          & 52.00          \\\\\n",
       "\\end{tabular}\n"
      ],
      "text/markdown": [
       "\n",
       "character_name | avg_wordsperline | \n",
       "|---|---|---|---|---|---|---|---|---|---|\n",
       "| NRBQ            | 82.00           | \n",
       "| SIR MIX-A-LOT   | 72.00           | \n",
       "| Johnny Bobby    | 69.00           | \n",
       "| Jack Black      | 64.00           | \n",
       "| David Silverman | 61.00           | \n",
       "| Randy Jackson   | 59.00           | \n",
       "| Ellen DeGeneres | 58.00           | \n",
       "| Randy Newman    | 57.75           | \n",
       "| SAMMY HAGAR     | 52.00           | \n",
       "| TRUONG          | 52.00           | \n",
       "\n",
       "\n"
      ],
      "text/plain": [
       "   character_name  avg_wordsperline\n",
       "1  NRBQ            82.00           \n",
       "2  SIR MIX-A-LOT   72.00           \n",
       "3  Johnny Bobby    69.00           \n",
       "4  Jack Black      64.00           \n",
       "5  David Silverman 61.00           \n",
       "6  Randy Jackson   59.00           \n",
       "7  Ellen DeGeneres 58.00           \n",
       "8  Randy Newman    57.75           \n",
       "9  SAMMY HAGAR     52.00           \n",
       "10 TRUONG          52.00           "
      ]
     },
     "metadata": {},
     "output_type": "display_data"
    }
   ],
   "source": [
    "head(\n",
    "    \n",
    "    (df %>% \n",
    "        filter( character_name != '') %>% \n",
    "        group_by(character_name) %>%\n",
    "        summarise(avg_wordsperline=mean(word_count, na.rm = TRUE )) %>%\n",
    "        arrange(desc(avg_wordsperline))),\n",
    "10)"
   ]
  },
  {
   "cell_type": "markdown",
   "metadata": {},
   "source": [
    "It makes sense that celebrities characters have the longest lines.  Writer's probably to squeeze the most dialog out of their short cameos"
   ]
  },
  {
   "cell_type": "markdown",
   "metadata": {},
   "source": [
    "Now back to the *original question*: what does this mean for our main characters?"
   ]
  },
  {
   "cell_type": "code",
   "execution_count": 155,
   "metadata": {},
   "outputs": [],
   "source": [
    "line_counts <- \n",
    "\n",
    "head(\n",
    "    \n",
    "    (df %>% \n",
    "        filter((character_name != '') & (word_count!= '')) %>% \n",
    "        group_by(character_name) %>% \n",
    "        summarise(total_words = sum(word_count)) %>% \n",
    "        arrange(desc(total_words))),\n",
    " \n",
    " n=10)"
   ]
  },
  {
   "cell_type": "code",
   "execution_count": 156,
   "metadata": {},
   "outputs": [
    {
     "data": {},
     "metadata": {},
     "output_type": "display_data"
    },
    {
     "data": {
      "image/png": "[encoded data removed]",
      "text/plain": [
       "plot without title"
      ]
     },
     "metadata": {},
     "output_type": "display_data"
    }
   ],
   "source": [
    "theme_set(theme_bw())\n",
    "\n",
    "ggplot(data=line_counts, aes(x=reorder(character_name,-total_words), y=total_words)) +\n",
    "\n",
    "    geom_bar(stat=\"identity\", \n",
    "             width=.5, \n",
    "             fill=\"tomato3\")+\n",
    "\n",
    "    labs(x=\"Character\", \n",
    "         y=\"Number of lines\", \n",
    "         title=\"Simpsons Character Importance\",\n",
    "         subtitle=\"(By total words in all lines)\") +\n",
    "\n",
    "    theme(axis.text.x = element_text(angle=65, vjust=0.5)) +\n",
    "\n",
    "    theme(aspect.ratio=.5)"
   ]
  },
  {
   "cell_type": "markdown",
   "metadata": {},
   "source": [
    "Doesn't change much for our top 8 characters, however we have an appearance of 2 new characters: *Krusty* and *Chief Wiggum*.  Maybe they have longer lines than the characters they replaced (Grandpa and Millhouse)"
   ]
  },
  {
   "cell_type": "code",
   "execution_count": 157,
   "metadata": {},
   "outputs": [
    {
     "data": {
      "text/html": [
       "<table>\n",
       "<thead><tr><th scope=col>character_name</th><th scope=col>avg_wordsperline</th></tr></thead>\n",
       "<tbody>\n",
       "\t<tr><td>Krusty the Clown   </td><td>12.146154          </td></tr>\n",
       "\t<tr><td>Chief Wiggum       </td><td>11.162192          </td></tr>\n",
       "\t<tr><td>Grampa Simpson     </td><td>10.801111          </td></tr>\n",
       "\t<tr><td>Milhouse Van Houten</td><td> 8.285879          </td></tr>\n",
       "</tbody>\n",
       "</table>\n"
      ],
      "text/latex": [
       "\\begin{tabular}{r|ll}\n",
       " character\\_name & avg\\_wordsperline\\\\\n",
       "\\hline\n",
       "\t Krusty the Clown    & 12.146154          \\\\\n",
       "\t Chief Wiggum        & 11.162192          \\\\\n",
       "\t Grampa Simpson      & 10.801111          \\\\\n",
       "\t Milhouse Van Houten &  8.285879          \\\\\n",
       "\\end{tabular}\n"
      ],
      "text/markdown": [
       "\n",
       "character_name | avg_wordsperline | \n",
       "|---|---|---|---|\n",
       "| Krusty the Clown    | 12.146154           | \n",
       "| Chief Wiggum        | 11.162192           | \n",
       "| Grampa Simpson      | 10.801111           | \n",
       "| Milhouse Van Houten |  8.285879           | \n",
       "\n",
       "\n"
      ],
      "text/plain": [
       "  character_name      avg_wordsperline\n",
       "1 Krusty the Clown    12.146154       \n",
       "2 Chief Wiggum        11.162192       \n",
       "3 Grampa Simpson      10.801111       \n",
       "4 Milhouse Van Houten  8.285879       "
      ]
     },
     "metadata": {},
     "output_type": "display_data"
    }
   ],
   "source": [
    "df %>% \n",
    "    filter( character_name == \"Krusty the Clown\"| \n",
    "           character_name == \"Chief Wiggum\" | \n",
    "           character_name == \"Grampa Simpson\" | \n",
    "           character_name == 'Milhouse Van Houten' ) %>% \n",
    "    group_by(character_name) %>%\n",
    "    summarise(avg_wordsperline=mean(word_count, na.rm = TRUE )) %>%\n",
    "    arrange(desc(avg_wordsperline))\n"
   ]
  },
  {
   "cell_type": "markdown",
   "metadata": {},
   "source": [
    "We we're right!  Although you would think the longest line in the whole show belonging to Grampa would help is average a little more."
   ]
  },
  {
   "cell_type": "markdown",
   "metadata": {},
   "source": [
    "https://www.youtube.com/watch?v=5Rzao52ndNA"
   ]
  },
  {
   "cell_type": "markdown",
   "metadata": {},
   "source": [
    "This makes me wonder about Grandpa's distribution vs the other's"
   ]
  },
  {
   "cell_type": "code",
   "execution_count": 158,
   "metadata": {},
   "outputs": [],
   "source": [
    "plot1 <- df %>% filter( character_name == \"Grampa Simpson\" & word_count != '' & id != 22701 ) #rid of longest line\n",
    "plot2 <- df %>% filter( character_name == \"Milhouse Van Houten\" & word_count != '')\n",
    "plot3 <- df %>% filter( character_name == \"Krusty the Clown\" & word_count != '')\n",
    "plot4 <- df %>% filter( character_name == \"Chief Wiggum\" & word_count != '')"
   ]
  },
  {
   "cell_type": "code",
   "execution_count": 159,
   "metadata": {},
   "outputs": [
    {
     "data": {
      "image/png": "[encoded data removed]",
      "text/plain": [
       "plot without title"
      ]
     },
     "metadata": {},
     "output_type": "display_data"
    }
   ],
   "source": [
    "require(gridExtra)\n",
    "\n",
    "theme_set(theme_bw())\n",
    "\n",
    "p1 <- ggplot(data=plot1, aes(x=word_count))+\n",
    "    geom_histogram(binwidth=1, fill=\"steelblue\")+\n",
    "    labs(x=\"Number of Words\", \n",
    "         y=\"Frequency\", \n",
    "         title=\"Grampa Simpson\",\n",
    "         subtitle=\"(Frequency of line length > 20)\") +\n",
    "    scale_y_continuous(limits=c(0,35),\n",
    "                       breaks=(5*(0:7)))+\n",
    "    scale_x_continuous(limits=c(20,75),\n",
    "                       breaks=(5*(4:15)))+\n",
    "    theme(aspect.ratio=.7)\n",
    "\n",
    "p2 <- ggplot(data=plot2, aes(x=word_count))+\n",
    "    geom_histogram(binwidth=1, fill=\"steelblue\")+\n",
    "    labs(x=\"Number of Words\", \n",
    "         y=\"Frequency\", \n",
    "         title=\"Milhouse Van Houten\",\n",
    "         subtitle=\"(Frequency of line length > 20)\") +\n",
    "    scale_y_continuous(limits=c(0,35),\n",
    "                       breaks=(5*(0:7)))+\n",
    "    scale_x_continuous(limits=c(20,75),\n",
    "                       breaks=(5*(4:15)))+\n",
    "    theme(aspect.ratio=.7)\n",
    "\n",
    "p3 <- ggplot(data=plot3, aes(x=word_count))+\n",
    "    geom_histogram(binwidth=1, fill=\"steelblue\")+\n",
    "    labs(x=\"Number of Words\", \n",
    "         y=\"Frequency\", \n",
    "         title=\"Krusty the Clown \",\n",
    "         subtitle=\"(Frequency of line length > 20)\") +\n",
    "    scale_y_continuous(limits=c(0,35),\n",
    "                       breaks=(5*(0:7)))+\n",
    "    scale_x_continuous(limits=c(20,75),\n",
    "                       breaks=(5*(4:15)))+\n",
    "    theme(aspect.ratio=.7)\n",
    "\n",
    "p4 <- ggplot(data=plot4, aes(x=word_count))+\n",
    "    geom_histogram(binwidth=1, fill=\"steelblue\")+\n",
    "    labs(x=\"Number of Words\", \n",
    "         y=\"Frequency\", \n",
    "         title=\"Chief Wiggum\",\n",
    "         subtitle=\"(Frequency of line length > 20)\") +\n",
    "    scale_y_continuous(limits=c(0,35),\n",
    "                       breaks=(5*(0:7)))+\n",
    "    scale_x_continuous(limits=c(20,75),\n",
    "                       breaks=(5*(4:15)))+\n",
    "    theme(aspect.ratio=.7)\n",
    "\n",
    "grid.arrange(p1,p2,p3,p4)"
   ]
  },
  {
   "cell_type": "code",
   "execution_count": null,
   "metadata": {},
   "outputs": [],
   "source": []
  },
  {
   "cell_type": "code",
   "execution_count": null,
   "metadata": {},
   "outputs": [],
   "source": []
  },
  {
   "cell_type": "code",
   "execution_count": null,
   "metadata": {},
   "outputs": [],
   "source": []
  }
 ],
 "metadata": {
  "kernelspec": {
   "display_name": "R",
   "language": "R",
   "name": "ir"
  },
  "language_info": {
   "codemirror_mode": "r",
   "file_extension": ".r",
   "mimetype": "text/x-r-source",
   "name": "R",
   "pygments_lexer": "r",
   "version": "3.4.4"
  }
 },
 "nbformat": 4,
 "nbformat_minor": 2
}
