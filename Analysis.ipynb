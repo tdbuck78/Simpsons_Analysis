{
 "cells": [
  {
   "cell_type": "markdown",
   "metadata": {},
   "source": [
    "---"
   ]
  },
  {
   "cell_type": "markdown",
   "metadata": {},
   "source": [
    "## Import Libraries and source Data"
   ]
  },
  {
   "cell_type": "markdown",
   "metadata": {},
   "source": [
    "---"
   ]
  },
  {
   "cell_type": "code",
   "execution_count": 82,
   "metadata": {},
   "outputs": [],
   "source": [
    "options(warn=-1)\n",
    "\n",
    "\n",
    "library(ggplot2)\n",
    "library(gridExtra)\n",
    "library(tidyr)\n",
    "library(dplyr)\n",
    "library(caret)\n",
    "library(corrplot)\n",
    "library(readr)\n",
    "library(knitr)\n",
    "library(kableExtra)\n",
    "library(formattable)\n",
    "library(tm)\n",
    "library(wordcloud)\n",
    "library(gridExtra)\n",
    "library(grid)\n",
    "library(leaflet)\n",
    "library(randomForest)\n",
    "options(knitr.table.format = \"html\") "
   ]
  },
  {
   "cell_type": "code",
   "execution_count": 83,
   "metadata": {},
   "outputs": [],
   "source": [
    "df <- suppressMessages(read_csv(\"simpsons_script_lines.csv\"))"
   ]
  },
  {
   "cell_type": "code",
   "execution_count": 84,
   "metadata": {},
   "outputs": [],
   "source": [
    "#function to make html table more readable\n",
    "\n",
    "printable <- function(input){\n",
    "    \n",
    "    X <- input\n",
    "    X$text <- sapply(X$text,truncate)\n",
    "    X$norm_text <- sapply(X$norm_text,truncate)\n",
    "    X$location <- sapply(X$location,truncate)\n",
    "    return(X)\n",
    "    \n",
    "}\n",
    "\n",
    "truncate <- function(x){\n",
    "    if(nchar(x)>25){\n",
    "        paste(strtrim(x,25),\"...\")\n",
    "    }else{\n",
    "        return(x)\n",
    "    }\n",
    "}\n"
   ]
  },
  {
   "cell_type": "markdown",
   "metadata": {},
   "source": [
    "---"
   ]
  },
  {
   "cell_type": "markdown",
   "metadata": {},
   "source": [
    "## Dataframe Exploration"
   ]
  },
  {
   "cell_type": "markdown",
   "metadata": {},
   "source": [
    "---"
   ]
  },
  {
   "cell_type": "markdown",
   "metadata": {},
   "source": [
    "What does our dataframe look like?"
   ]
  },
  {
   "cell_type": "code",
   "execution_count": 85,
   "metadata": {},
   "outputs": [
    {
     "data": {
      "text/html": [
       "<table>\n",
       "<thead><tr><th scope=col>id</th><th scope=col>episode_id</th><th scope=col>number</th><th scope=col>raw_text</th><th scope=col>timestamp_in_ms</th><th scope=col>speaking_line</th><th scope=col>character_id</th><th scope=col>location_id</th><th scope=col>raw_character_text</th><th scope=col>raw_location_text</th><th scope=col>spoken_words</th><th scope=col>normalized_text</th><th scope=col>word_count</th></tr></thead>\n",
       "<tbody>\n",
       "\t<tr><td>9549                                                                                                                                                                      </td><td>32                                                                                                                                                                        </td><td>209                                                                                                                                                                       </td><td>Miss Hoover: No, actually, it was a little of both. Sometimes when a disease is in all the magazines and all the news shows, it's only natural that you think you have it.</td><td>848000                                                                                                                                                                    </td><td>true                                                                                                                                                                      </td><td>464                                                                                                                                                                       </td><td>3                                                                                                                                                                         </td><td>Miss Hoover                                                                                                                                                               </td><td>Springfield Elementary School                                                                                                                                             </td><td>No, actually, it was a little of both. Sometimes when a disease is in all the magazines and all the news shows, it's only natural that you think you have it.             </td><td>no actually it was a little of both sometimes when a disease is in all the magazines and all the news shows its only natural that you think you have it                   </td><td>31                                                                                                                                                                        </td></tr>\n",
       "\t<tr><td>9550                                                                                                                                                                      </td><td>32                                                                                                                                                                        </td><td>210                                                                                                                                                                       </td><td>Lisa Simpson: (NEAR TEARS) Where's Mr. Bergstrom?                                                                                                                         </td><td>856000                                                                                                                                                                    </td><td>true                                                                                                                                                                      </td><td>  9                                                                                                                                                                       </td><td>3                                                                                                                                                                         </td><td>Lisa Simpson                                                                                                                                                              </td><td>Springfield Elementary School                                                                                                                                             </td><td>Where's Mr. Bergstrom?                                                                                                                                                    </td><td>wheres mr bergstrom                                                                                                                                                       </td><td>3                                                                                                                                                                         </td></tr>\n",
       "\t<tr><td>9551                                                                                                                                                                      </td><td>32                                                                                                                                                                        </td><td>211                                                                                                                                                                       </td><td>Miss Hoover: I don't know. Although I'd sure like to talk to him. He didn't touch my lesson plan. What did he teach you?                                                  </td><td>856000                                                                                                                                                                    </td><td>true                                                                                                                                                                      </td><td>464                                                                                                                                                                       </td><td>3                                                                                                                                                                         </td><td>Miss Hoover                                                                                                                                                               </td><td>Springfield Elementary School                                                                                                                                             </td><td>I don't know. Although I'd sure like to talk to him. He didn't touch my lesson plan. What did he teach you?                                                               </td><td>i dont know although id sure like to talk to him he didnt touch my lesson plan what did he teach you                                                                      </td><td>22                                                                                                                                                                        </td></tr>\n",
       "</tbody>\n",
       "</table>\n"
      ],
      "text/latex": [
       "\\begin{tabular}{r|lllllllllllll}\n",
       " id & episode\\_id & number & raw\\_text & timestamp\\_in\\_ms & speaking\\_line & character\\_id & location\\_id & raw\\_character\\_text & raw\\_location\\_text & spoken\\_words & normalized\\_text & word\\_count\\\\\n",
       "\\hline\n",
       "\t 9549                                                                                                                                                                       & 32                                                                                                                                                                         & 209                                                                                                                                                                        & Miss Hoover: No, actually, it was a little of both. Sometimes when a disease is in all the magazines and all the news shows, it's only natural that you think you have it. & 848000                                                                                                                                                                     & true                                                                                                                                                                       & 464                                                                                                                                                                        & 3                                                                                                                                                                          & Miss Hoover                                                                                                                                                                & Springfield Elementary School                                                                                                                                              & No, actually, it was a little of both. Sometimes when a disease is in all the magazines and all the news shows, it's only natural that you think you have it.              & no actually it was a little of both sometimes when a disease is in all the magazines and all the news shows its only natural that you think you have it                    & 31                                                                                                                                                                        \\\\\n",
       "\t 9550                                                                                                                                                                       & 32                                                                                                                                                                         & 210                                                                                                                                                                        & Lisa Simpson: (NEAR TEARS) Where's Mr. Bergstrom?                                                                                                                          & 856000                                                                                                                                                                     & true                                                                                                                                                                       &   9                                                                                                                                                                        & 3                                                                                                                                                                          & Lisa Simpson                                                                                                                                                               & Springfield Elementary School                                                                                                                                              & Where's Mr. Bergstrom?                                                                                                                                                     & wheres mr bergstrom                                                                                                                                                        & 3                                                                                                                                                                         \\\\\n",
       "\t 9551                                                                                                                                                                       & 32                                                                                                                                                                         & 211                                                                                                                                                                        & Miss Hoover: I don't know. Although I'd sure like to talk to him. He didn't touch my lesson plan. What did he teach you?                                                   & 856000                                                                                                                                                                     & true                                                                                                                                                                       & 464                                                                                                                                                                        & 3                                                                                                                                                                          & Miss Hoover                                                                                                                                                                & Springfield Elementary School                                                                                                                                              & I don't know. Although I'd sure like to talk to him. He didn't touch my lesson plan. What did he teach you?                                                                & i dont know although id sure like to talk to him he didnt touch my lesson plan what did he teach you                                                                       & 22                                                                                                                                                                        \\\\\n",
       "\\end{tabular}\n"
      ],
      "text/markdown": [
       "\n",
       "id | episode_id | number | raw_text | timestamp_in_ms | speaking_line | character_id | location_id | raw_character_text | raw_location_text | spoken_words | normalized_text | word_count | \n",
       "|---|---|---|\n",
       "| 9549                                                                                                                                                                       | 32                                                                                                                                                                         | 209                                                                                                                                                                        | Miss Hoover: No, actually, it was a little of both. Sometimes when a disease is in all the magazines and all the news shows, it's only natural that you think you have it. | 848000                                                                                                                                                                     | true                                                                                                                                                                       | 464                                                                                                                                                                        | 3                                                                                                                                                                          | Miss Hoover                                                                                                                                                                | Springfield Elementary School                                                                                                                                              | No, actually, it was a little of both. Sometimes when a disease is in all the magazines and all the news shows, it's only natural that you think you have it.              | no actually it was a little of both sometimes when a disease is in all the magazines and all the news shows its only natural that you think you have it                    | 31                                                                                                                                                                         | \n",
       "| 9550                                                                                                                                                                       | 32                                                                                                                                                                         | 210                                                                                                                                                                        | Lisa Simpson: (NEAR TEARS) Where's Mr. Bergstrom?                                                                                                                          | 856000                                                                                                                                                                     | true                                                                                                                                                                       |   9                                                                                                                                                                        | 3                                                                                                                                                                          | Lisa Simpson                                                                                                                                                               | Springfield Elementary School                                                                                                                                              | Where's Mr. Bergstrom?                                                                                                                                                     | wheres mr bergstrom                                                                                                                                                        | 3                                                                                                                                                                          | \n",
       "| 9551                                                                                                                                                                       | 32                                                                                                                                                                         | 211                                                                                                                                                                        | Miss Hoover: I don't know. Although I'd sure like to talk to him. He didn't touch my lesson plan. What did he teach you?                                                   | 856000                                                                                                                                                                     | true                                                                                                                                                                       | 464                                                                                                                                                                        | 3                                                                                                                                                                          | Miss Hoover                                                                                                                                                                | Springfield Elementary School                                                                                                                                              | I don't know. Although I'd sure like to talk to him. He didn't touch my lesson plan. What did he teach you?                                                                | i dont know although id sure like to talk to him he didnt touch my lesson plan what did he teach you                                                                       | 22                                                                                                                                                                         | \n",
       "\n",
       "\n"
      ],
      "text/plain": [
       "  id   episode_id number\n",
       "1 9549 32         209   \n",
       "2 9550 32         210   \n",
       "3 9551 32         211   \n",
       "  raw_text                                                                                                                                                                  \n",
       "1 Miss Hoover: No, actually, it was a little of both. Sometimes when a disease is in all the magazines and all the news shows, it's only natural that you think you have it.\n",
       "2 Lisa Simpson: (NEAR TEARS) Where's Mr. Bergstrom?                                                                                                                         \n",
       "3 Miss Hoover: I don't know. Although I'd sure like to talk to him. He didn't touch my lesson plan. What did he teach you?                                                  \n",
       "  timestamp_in_ms speaking_line character_id location_id raw_character_text\n",
       "1 848000          true          464          3           Miss Hoover       \n",
       "2 856000          true            9          3           Lisa Simpson      \n",
       "3 856000          true          464          3           Miss Hoover       \n",
       "  raw_location_text            \n",
       "1 Springfield Elementary School\n",
       "2 Springfield Elementary School\n",
       "3 Springfield Elementary School\n",
       "  spoken_words                                                                                                                                                 \n",
       "1 No, actually, it was a little of both. Sometimes when a disease is in all the magazines and all the news shows, it's only natural that you think you have it.\n",
       "2 Where's Mr. Bergstrom?                                                                                                                                       \n",
       "3 I don't know. Although I'd sure like to talk to him. He didn't touch my lesson plan. What did he teach you?                                                  \n",
       "  normalized_text                                                                                                                                        \n",
       "1 no actually it was a little of both sometimes when a disease is in all the magazines and all the news shows its only natural that you think you have it\n",
       "2 wheres mr bergstrom                                                                                                                                    \n",
       "3 i dont know although id sure like to talk to him he didnt touch my lesson plan what did he teach you                                                   \n",
       "  word_count\n",
       "1 31        \n",
       "2 3         \n",
       "3 22        "
      ]
     },
     "metadata": {},
     "output_type": "display_data"
    }
   ],
   "source": [
    "head(df,n=3)"
   ]
  },
  {
   "cell_type": "markdown",
   "metadata": {},
   "source": [
    "How big is it?"
   ]
  },
  {
   "cell_type": "code",
   "execution_count": 86,
   "metadata": {},
   "outputs": [
    {
     "data": {
      "text/html": [
       "'Rows: 157462'"
      ],
      "text/latex": [
       "'Rows: 157462'"
      ],
      "text/markdown": [
       "'Rows: 157462'"
      ],
      "text/plain": [
       "[1] \"Rows: 157462\""
      ]
     },
     "metadata": {},
     "output_type": "display_data"
    },
    {
     "data": {
      "text/html": [
       "'Cols: 13'"
      ],
      "text/latex": [
       "'Cols: 13'"
      ],
      "text/markdown": [
       "'Cols: 13'"
      ],
      "text/plain": [
       "[1] \"Cols: 13\""
      ]
     },
     "metadata": {},
     "output_type": "display_data"
    }
   ],
   "source": [
    "paste('Rows:',as.character(dim(df)[1]))\n",
    "paste('Cols:',as.character(dim(df)[2]))"
   ]
  },
  {
   "cell_type": "markdown",
   "metadata": {},
   "source": [
    "Column types? "
   ]
  },
  {
   "cell_type": "code",
   "execution_count": 87,
   "metadata": {},
   "outputs": [
    {
     "data": {
      "text/html": [
       "<dl class=dl-horizontal>\n",
       "\t<dt>id</dt>\n",
       "\t\t<dd>'integer'</dd>\n",
       "\t<dt>episode_id</dt>\n",
       "\t\t<dd>'integer'</dd>\n",
       "\t<dt>number</dt>\n",
       "\t\t<dd>'integer'</dd>\n",
       "\t<dt>raw_text</dt>\n",
       "\t\t<dd>'character'</dd>\n",
       "\t<dt>timestamp_in_ms</dt>\n",
       "\t\t<dd>'integer'</dd>\n",
       "\t<dt>speaking_line</dt>\n",
       "\t\t<dd>'character'</dd>\n",
       "\t<dt>character_id</dt>\n",
       "\t\t<dd>'integer'</dd>\n",
       "\t<dt>location_id</dt>\n",
       "\t\t<dd>'integer'</dd>\n",
       "\t<dt>raw_character_text</dt>\n",
       "\t\t<dd>'character'</dd>\n",
       "\t<dt>raw_location_text</dt>\n",
       "\t\t<dd>'character'</dd>\n",
       "\t<dt>spoken_words</dt>\n",
       "\t\t<dd>'character'</dd>\n",
       "\t<dt>normalized_text</dt>\n",
       "\t\t<dd>'character'</dd>\n",
       "\t<dt>word_count</dt>\n",
       "\t\t<dd>'character'</dd>\n",
       "</dl>\n"
      ],
      "text/latex": [
       "\\begin{description*}\n",
       "\\item[id] 'integer'\n",
       "\\item[episode\\textbackslash{}\\_id] 'integer'\n",
       "\\item[number] 'integer'\n",
       "\\item[raw\\textbackslash{}\\_text] 'character'\n",
       "\\item[timestamp\\textbackslash{}\\_in\\textbackslash{}\\_ms] 'integer'\n",
       "\\item[speaking\\textbackslash{}\\_line] 'character'\n",
       "\\item[character\\textbackslash{}\\_id] 'integer'\n",
       "\\item[location\\textbackslash{}\\_id] 'integer'\n",
       "\\item[raw\\textbackslash{}\\_character\\textbackslash{}\\_text] 'character'\n",
       "\\item[raw\\textbackslash{}\\_location\\textbackslash{}\\_text] 'character'\n",
       "\\item[spoken\\textbackslash{}\\_words] 'character'\n",
       "\\item[normalized\\textbackslash{}\\_text] 'character'\n",
       "\\item[word\\textbackslash{}\\_count] 'character'\n",
       "\\end{description*}\n"
      ],
      "text/markdown": [
       "id\n",
       ":   'integer'episode_id\n",
       ":   'integer'number\n",
       ":   'integer'raw_text\n",
       ":   'character'timestamp_in_ms\n",
       ":   'integer'speaking_line\n",
       ":   'character'character_id\n",
       ":   'integer'location_id\n",
       ":   'integer'raw_character_text\n",
       ":   'character'raw_location_text\n",
       ":   'character'spoken_words\n",
       ":   'character'normalized_text\n",
       ":   'character'word_count\n",
       ":   'character'\n",
       "\n"
      ],
      "text/plain": [
       "                id         episode_id             number           raw_text \n",
       "         \"integer\"          \"integer\"          \"integer\"        \"character\" \n",
       "   timestamp_in_ms      speaking_line       character_id        location_id \n",
       "         \"integer\"        \"character\"          \"integer\"          \"integer\" \n",
       "raw_character_text  raw_location_text       spoken_words    normalized_text \n",
       "       \"character\"        \"character\"        \"character\"        \"character\" \n",
       "        word_count \n",
       "       \"character\" "
      ]
     },
     "metadata": {},
     "output_type": "display_data"
    }
   ],
   "source": [
    "sapply(df, class)"
   ]
  },
  {
   "cell_type": "markdown",
   "metadata": {},
   "source": [
    "Let's simplify some column titles,"
   ]
  },
  {
   "cell_type": "code",
   "execution_count": 88,
   "metadata": {},
   "outputs": [],
   "source": [
    "colnames(df)[9] <- \"character\"\n",
    "colnames(df)[10] <- \"location\"\n",
    "colnames(df)[11] <- \"text\"\n",
    "colnames(df)[12] <- \"norm_text\""
   ]
  },
  {
   "cell_type": "markdown",
   "metadata": {},
   "source": [
    "Get rid of columns we don't need,"
   ]
  },
  {
   "cell_type": "code",
   "execution_count": 89,
   "metadata": {},
   "outputs": [],
   "source": [
    "df <- subset(df, select = -c(number,raw_text,timestamp_in_ms, speaking_line))"
   ]
  },
  {
   "cell_type": "markdown",
   "metadata": {},
   "source": [
    "And convert word_count to a numeric type"
   ]
  },
  {
   "cell_type": "code",
   "execution_count": 90,
   "metadata": {},
   "outputs": [],
   "source": [
    "convert <- function(x){\n",
    "    if(is.na(as.numeric(x))){\n",
    "        return(NA)\n",
    "    }else{\n",
    "        return(as.numeric(x))\n",
    "    }\n",
    "}\n",
    "\n",
    "df$word_count <- sapply(df$word_count,convert)"
   ]
  },
  {
   "cell_type": "markdown",
   "metadata": {},
   "source": [
    "Ok now lets recheck the dataframe"
   ]
  },
  {
   "cell_type": "code",
   "execution_count": 91,
   "metadata": {},
   "outputs": [
    {
     "data": {
      "text/html": [
       "<table>\n",
       "<thead><tr><th scope=col>id</th><th scope=col>episode_id</th><th scope=col>character_id</th><th scope=col>location_id</th><th scope=col>character</th><th scope=col>location</th><th scope=col>text</th><th scope=col>norm_text</th><th scope=col>word_count</th></tr></thead>\n",
       "<tbody>\n",
       "\t<tr><td>9549                         </td><td>32                           </td><td>464                          </td><td>3                            </td><td>Miss Hoover                  </td><td>Springfield Elementary Sc ...</td><td>No, actually, it was a li ...</td><td>no actually it was a litt ...</td><td>31                           </td></tr>\n",
       "\t<tr><td>9550                         </td><td>32                           </td><td>  9                          </td><td>3                            </td><td>Lisa Simpson                 </td><td>Springfield Elementary Sc ...</td><td>Where's Mr. Bergstrom?       </td><td>wheres mr bergstrom          </td><td> 3                           </td></tr>\n",
       "\t<tr><td>9551                         </td><td>32                           </td><td>464                          </td><td>3                            </td><td>Miss Hoover                  </td><td>Springfield Elementary Sc ...</td><td>I don't know. Although I' ...</td><td>i dont know although id s ...</td><td>22                           </td></tr>\n",
       "\t<tr><td>9552                         </td><td>32                           </td><td>  9                          </td><td>3                            </td><td>Lisa Simpson                 </td><td>Springfield Elementary Sc ...</td><td>That life is worth living ...</td><td>that life is worth living    </td><td> 5                           </td></tr>\n",
       "\t<tr><td>9553                         </td><td>32                           </td><td> 40                          </td><td>3                            </td><td>Edna Krabappel-Flanders      </td><td>Springfield Elementary Sc ...</td><td>The polls will be open fr ...</td><td>the polls will be open fr ...</td><td>33                           </td></tr>\n",
       "</tbody>\n",
       "</table>\n"
      ],
      "text/latex": [
       "\\begin{tabular}{r|lllllllll}\n",
       " id & episode\\_id & character\\_id & location\\_id & character & location & text & norm\\_text & word\\_count\\\\\n",
       "\\hline\n",
       "\t 9549                          & 32                            & 464                           & 3                             & Miss Hoover                   & Springfield Elementary Sc ... & No, actually, it was a li ... & no actually it was a litt ... & 31                           \\\\\n",
       "\t 9550                          & 32                            &   9                           & 3                             & Lisa Simpson                  & Springfield Elementary Sc ... & Where's Mr. Bergstrom?        & wheres mr bergstrom           &  3                           \\\\\n",
       "\t 9551                          & 32                            & 464                           & 3                             & Miss Hoover                   & Springfield Elementary Sc ... & I don't know. Although I' ... & i dont know although id s ... & 22                           \\\\\n",
       "\t 9552                          & 32                            &   9                           & 3                             & Lisa Simpson                  & Springfield Elementary Sc ... & That life is worth living ... & that life is worth living     &  5                           \\\\\n",
       "\t 9553                          & 32                            &  40                           & 3                             & Edna Krabappel-Flanders       & Springfield Elementary Sc ... & The polls will be open fr ... & the polls will be open fr ... & 33                           \\\\\n",
       "\\end{tabular}\n"
      ],
      "text/markdown": [
       "\n",
       "id | episode_id | character_id | location_id | character | location | text | norm_text | word_count | \n",
       "|---|---|---|---|---|\n",
       "| 9549                          | 32                            | 464                           | 3                             | Miss Hoover                   | Springfield Elementary Sc ... | No, actually, it was a li ... | no actually it was a litt ... | 31                            | \n",
       "| 9550                          | 32                            |   9                           | 3                             | Lisa Simpson                  | Springfield Elementary Sc ... | Where's Mr. Bergstrom?        | wheres mr bergstrom           |  3                            | \n",
       "| 9551                          | 32                            | 464                           | 3                             | Miss Hoover                   | Springfield Elementary Sc ... | I don't know. Although I' ... | i dont know although id s ... | 22                            | \n",
       "| 9552                          | 32                            |   9                           | 3                             | Lisa Simpson                  | Springfield Elementary Sc ... | That life is worth living ... | that life is worth living     |  5                            | \n",
       "| 9553                          | 32                            |  40                           | 3                             | Edna Krabappel-Flanders       | Springfield Elementary Sc ... | The polls will be open fr ... | the polls will be open fr ... | 33                            | \n",
       "\n",
       "\n"
      ],
      "text/plain": [
       "  id   episode_id character_id location_id character              \n",
       "1 9549 32         464          3           Miss Hoover            \n",
       "2 9550 32           9          3           Lisa Simpson           \n",
       "3 9551 32         464          3           Miss Hoover            \n",
       "4 9552 32           9          3           Lisa Simpson           \n",
       "5 9553 32          40          3           Edna Krabappel-Flanders\n",
       "  location                      text                         \n",
       "1 Springfield Elementary Sc ... No, actually, it was a li ...\n",
       "2 Springfield Elementary Sc ... Where's Mr. Bergstrom?       \n",
       "3 Springfield Elementary Sc ... I don't know. Although I' ...\n",
       "4 Springfield Elementary Sc ... That life is worth living ...\n",
       "5 Springfield Elementary Sc ... The polls will be open fr ...\n",
       "  norm_text                     word_count\n",
       "1 no actually it was a litt ... 31        \n",
       "2 wheres mr bergstrom            3        \n",
       "3 i dont know although id s ... 22        \n",
       "4 that life is worth living      5        \n",
       "5 the polls will be open fr ... 33        "
      ]
     },
     "metadata": {},
     "output_type": "display_data"
    }
   ],
   "source": [
    "printable(head(df,5))"
   ]
  },
  {
   "cell_type": "markdown",
   "metadata": {},
   "source": [
    "We may need to do some more work later if we find issues during our analysis, but for now we're done!"
   ]
  },
  {
   "cell_type": "markdown",
   "metadata": {},
   "source": [
    "---"
   ]
  },
  {
   "cell_type": "markdown",
   "metadata": {},
   "source": [
    "# Character Line Analysis"
   ]
  },
  {
   "cell_type": "markdown",
   "metadata": {},
   "source": [
    "---"
   ]
  },
  {
   "cell_type": "markdown",
   "metadata": {},
   "source": [
    "Lets get a line count for each of the non-null top characters"
   ]
  },
  {
   "cell_type": "code",
   "execution_count": 92,
   "metadata": {},
   "outputs": [],
   "source": [
    "line_sum <- \n",
    "\n",
    "head(\n",
    "    \n",
    "    (df %>% \n",
    "        filter(character != '') %>% \n",
    "        group_by(character) %>% \n",
    "        summarise(n=n()) %>% \n",
    "        arrange(desc(n))),\n",
    "    \n",
    "n=10)\n",
    "\n"
   ]
  },
  {
   "cell_type": "code",
   "execution_count": 93,
   "metadata": {},
   "outputs": [
    {
     "data": {},
     "metadata": {},
     "output_type": "display_data"
    },
    {
     "data": {
      "image/png": "[encoded data removed]",
      "text/plain": [
       "plot without title"
      ]
     },
     "metadata": {},
     "output_type": "display_data"
    }
   ],
   "source": [
    "#PLOT\n",
    "\n",
    "theme_set(theme_bw())\n",
    "\n",
    "ggplot(data=line_sum, aes(x=reorder(character,-n), y=n)) +\n",
    "\n",
    "    geom_bar(stat=\"identity\", \n",
    "             width=.5, \n",
    "             fill=\"tomato3\")+\n",
    "\n",
    "    labs(x=\"Character\", \n",
    "         y=\"Number of lines\", \n",
    "         title=\"Simpsons Character Importance\",\n",
    "         subtitle=\"(By number of lines)\") +\n",
    "\n",
    "    theme(axis.text.x = element_text(angle=65, vjust=0.5)) +\n",
    "\n",
    "    theme(aspect.ratio=.5)\n"
   ]
  },
  {
   "cell_type": "markdown",
   "metadata": {},
   "source": [
    "We've already seen these results in Gabriela Preda's report,\n",
    "so instead let's compare line-count with line-length\n",
    "\n",
    "Our goal is to determine if a character has on average shorter lines, thus affecting their \"Importance\""
   ]
  },
  {
   "cell_type": "code",
   "execution_count": 94,
   "metadata": {},
   "outputs": [
    {
     "data": {
      "text/html": [
       "<table>\n",
       "<thead><tr><th scope=col>character</th><th scope=col>avg_wordsperline</th></tr></thead>\n",
       "<tbody>\n",
       "\t<tr><td>Ebenezer Urkel  </td><td>3340.0000       </td></tr>\n",
       "\t<tr><td>Neil Gaiman     </td><td> 670.8889       </td></tr>\n",
       "\t<tr><td>Ted Nugent      </td><td> 639.7500       </td></tr>\n",
       "\t<tr><td>Actor           </td><td> 209.8667       </td></tr>\n",
       "\t<tr><td>Greta Wolfcastle</td><td> 173.0000       </td></tr>\n",
       "\t<tr><td>Female Host     </td><td> 109.4000       </td></tr>\n",
       "\t<tr><td>NRBQ            </td><td>  82.0000       </td></tr>\n",
       "\t<tr><td>SIR MIX-A-LOT   </td><td>  72.0000       </td></tr>\n",
       "\t<tr><td>Johnny Bobby    </td><td>  69.0000       </td></tr>\n",
       "\t<tr><td>Jack Black      </td><td>  64.0000       </td></tr>\n",
       "</tbody>\n",
       "</table>\n"
      ],
      "text/latex": [
       "\\begin{tabular}{r|ll}\n",
       " character & avg\\_wordsperline\\\\\n",
       "\\hline\n",
       "\t Ebenezer Urkel   & 3340.0000       \\\\\n",
       "\t Neil Gaiman      &  670.8889       \\\\\n",
       "\t Ted Nugent       &  639.7500       \\\\\n",
       "\t Actor            &  209.8667       \\\\\n",
       "\t Greta Wolfcastle &  173.0000       \\\\\n",
       "\t Female Host      &  109.4000       \\\\\n",
       "\t NRBQ             &   82.0000       \\\\\n",
       "\t SIR MIX-A-LOT    &   72.0000       \\\\\n",
       "\t Johnny Bobby     &   69.0000       \\\\\n",
       "\t Jack Black       &   64.0000       \\\\\n",
       "\\end{tabular}\n"
      ],
      "text/markdown": [
       "\n",
       "character | avg_wordsperline | \n",
       "|---|---|---|---|---|---|---|---|---|---|\n",
       "| Ebenezer Urkel   | 3340.0000        | \n",
       "| Neil Gaiman      |  670.8889        | \n",
       "| Ted Nugent       |  639.7500        | \n",
       "| Actor            |  209.8667        | \n",
       "| Greta Wolfcastle |  173.0000        | \n",
       "| Female Host      |  109.4000        | \n",
       "| NRBQ             |   82.0000        | \n",
       "| SIR MIX-A-LOT    |   72.0000        | \n",
       "| Johnny Bobby     |   69.0000        | \n",
       "| Jack Black       |   64.0000        | \n",
       "\n",
       "\n"
      ],
      "text/plain": [
       "   character        avg_wordsperline\n",
       "1  Ebenezer Urkel   3340.0000       \n",
       "2  Neil Gaiman       670.8889       \n",
       "3  Ted Nugent        639.7500       \n",
       "4  Actor             209.8667       \n",
       "5  Greta Wolfcastle  173.0000       \n",
       "6  Female Host       109.4000       \n",
       "7  NRBQ               82.0000       \n",
       "8  SIR MIX-A-LOT      72.0000       \n",
       "9  Johnny Bobby       69.0000       \n",
       "10 Jack Black         64.0000       "
      ]
     },
     "metadata": {},
     "output_type": "display_data"
    }
   ],
   "source": [
    "head(\n",
    "    \n",
    "    (df %>% \n",
    "        filter( character != '') %>% \n",
    "        group_by(character) %>%\n",
    "        summarise(avg_wordsperline=mean(word_count, na.rm = TRUE )) %>%\n",
    "        arrange(desc(avg_wordsperline))),\n",
    "10)"
   ]
  },
  {
   "cell_type": "markdown",
   "metadata": {},
   "source": [
    "Wow, looks like we might have some false data skewing the results"
   ]
  },
  {
   "cell_type": "markdown",
   "metadata": {},
   "source": [
    "(I don't remember Ebenezer Urkel's lines well, but I'm sure I would if they were 3 THOUSAND words long)"
   ]
  },
  {
   "cell_type": "markdown",
   "metadata": {},
   "source": [
    "Let's check out these long character lines:"
   ]
  },
  {
   "cell_type": "code",
   "execution_count": 95,
   "metadata": {},
   "outputs": [
    {
     "data": {
      "text/html": [
       "<table>\n",
       "<thead><tr><th scope=col>id</th><th scope=col>episode_id</th><th scope=col>character_id</th><th scope=col>location_id</th><th scope=col>character</th><th scope=col>location</th><th scope=col>text</th><th scope=col>norm_text</th><th scope=col>word_count</th></tr></thead>\n",
       "<tbody>\n",
       "\t<tr><td>152082                        </td><td>544                           </td><td>  NA                          </td><td>4311                          </td><td>NA                            </td><td>SIX FLAGS OVER KRUSTY\" AM ... </td><td>851000                        </td><td>true                          </td><td>6521                          </td></tr>\n",
       "\t<tr><td>138005                        </td><td>492                           </td><td>5932                          </td><td>3975                          </td><td>Neil Gaiman                   </td><td>TWEEN LIT INC.\" MEETING R ... </td><td>788000                        </td><td>true                          </td><td>5933                          </td></tr>\n",
       "\t<tr><td>138021                        </td><td>492                           </td><td>  NA                          </td><td>3975                          </td><td>NA                            </td><td>TWEEN LIT INC. MEETING RO ... </td><td>872000                        </td><td>true                          </td><td>5933                          </td></tr>\n",
       "\t<tr><td>136529                        </td><td>487                           </td><td>  NA                          </td><td>3934                          </td><td>NA                            </td><td>top Chef\" Kitchen,,,\n",
       "1365 ...</td><td>174000                        </td><td>true                          </td><td>5879                          </td></tr>\n",
       "\t<tr><td>136531                        </td><td>487                           </td><td>   1                          </td><td>3934                          </td><td>Marge Simpson                 </td><td>top Chef\" Kitchen,Thank y ... </td><td>185000                        </td><td>true                          </td><td>5879                          </td></tr>\n",
       "\t<tr><td>139200                        </td><td>496                           </td><td>   2                          </td><td>4018                          </td><td>Homer Simpson                 </td><td>gut Check With Homer Simp ... </td><td>1180000                       </td><td>true                          </td><td>5014                          </td></tr>\n",
       "\t<tr><td>139208                        </td><td>496                           </td><td>5014                          </td><td>4018                          </td><td>Ted Nugent                    </td><td>gut Check With Homer Simp ... </td><td>1267000                       </td><td>true                          </td><td>5014                          </td></tr>\n",
       "\t<tr><td> 96297                        </td><td>334                           </td><td>  NA                          </td><td>2804                          </td><td>NA                            </td><td>HEADBUTT\" SET,,,\n",
       "96298,33 ...</td><td>648000                        </td><td>true                          </td><td>4185                          </td></tr>\n",
       "\t<tr><td> 96304                        </td><td>334                           </td><td>   2                          </td><td>2804                          </td><td>Homer Simpson                 </td><td>HEADBUTT\" SET,What'd you  ... </td><td>694000                        </td><td>true                          </td><td>4185                          </td></tr>\n",
       "\t<tr><td> 96306                        </td><td>334                           </td><td>   1                          </td><td>2804                          </td><td>Marge Simpson                 </td><td>HEADBUTT\" SET,I'll have y ... </td><td>701000                        </td><td>true                          </td><td>4185                          </td></tr>\n",
       "\t<tr><td> 92351                        </td><td>320                           </td><td>  NA                          </td><td>2665                          </td><td>NA                            </td><td>FAMILY MATTERS\" SET,,,\n",
       "92 ...</td><td>670000                        </td><td>true                          </td><td>3988                          </td></tr>\n",
       "\t<tr><td> 81141                        </td><td>280                           </td><td>3487                          </td><td>2361                          </td><td>Greta Wolfcastle              </td><td>CURLING FOR LOONIES\" SET, ... </td><td>1229000                       </td><td>true                          </td><td>3487                          </td></tr>\n",
       "\t<tr><td> 81148                        </td><td>280                           </td><td>   8                          </td><td>2361                          </td><td>Bart Simpson                  </td><td>CURLING FOR LOONIES\" SET, ... </td><td>1254000                       </td><td>true                          </td><td>3487                          </td></tr>\n",
       "\t<tr><td> 92353                        </td><td>320                           </td><td>3989                          </td><td>2665                          </td><td>Ebenezer Urkel                </td><td>FAMILY MATTERS SET,Did I  ... </td><td>677000                        </td><td>true                          </td><td>3340                          </td></tr>\n",
       "\t<tr><td> 75619                        </td><td>262                           </td><td>  NA                          </td><td>2214                          </td><td>NA                            </td><td>MAD\" BUILDING,,,\n",
       "75620,26 ...</td><td>1165000                       </td><td>true                          </td><td>3279                          </td></tr>\n",
       "\t<tr><td> 71994                        </td><td>251                           </td><td>   8                          </td><td>2131                          </td><td>Bart Simpson                  </td><td>BOOKS FOR DUMMIES SECTION ... </td><td>316000                        </td><td>true                          </td><td>3135                          </td></tr>\n",
       "\t<tr><td> 69434                        </td><td>242                           </td><td>   2                          </td><td>2073                          </td><td>Homer Simpson                 </td><td>IT NEVER ENDS\" SET,Whatev ... </td><td>970000                        </td><td>true                          </td><td>3036                          </td></tr>\n",
       "\t<tr><td> 69424                        </td><td>242                           </td><td>  NA                          </td><td>2073                          </td><td>NA                            </td><td>IT NEVER ENDS\" SET,,,\n",
       "694 ...</td><td>930000                        </td><td>true                          </td><td>3035                          </td></tr>\n",
       "\t<tr><td> 69427                        </td><td>242                           </td><td>1088                          </td><td>2073                          </td><td>Actor                         </td><td>IT NEVER ENDS\" SET,And an ... </td><td>940000                        </td><td>true                          </td><td>3035                          </td></tr>\n",
       "\t<tr><td> 66311                        </td><td>232                           </td><td>   2                          </td><td>2002                          </td><td>Homer Simpson                 </td><td>SPRINGFIELD SQUARES\" GAME ... </td><td>677000                        </td><td>true                          </td><td>2580                          </td></tr>\n",
       "\t<tr><td> 50537                        </td><td>179                           </td><td>   8                          </td><td>1663                          </td><td>Bart Simpson                  </td><td>MAD\" RECEPTION AREA,Oh. O ... </td><td>1054000                       </td><td>true                          </td><td>2290                          </td></tr>\n",
       "\t<tr><td> 70494                        </td><td>246                           </td><td>  NA                          </td><td>2098                          </td><td>NA                            </td><td>eye Caramba\" Examination  ... </td><td>170000                        </td><td>true                          </td><td>1265                          </td></tr>\n",
       "\t<tr><td> 70497                        </td><td>246                           </td><td>   2                          </td><td>2098                          </td><td>Homer Simpson                 </td><td>eye Caramba\" Examination  ... </td><td>176000                        </td><td>true                          </td><td>1265                          </td></tr>\n",
       "\t<tr><td>140653                        </td><td>502                           </td><td>  NA                          </td><td>4053                          </td><td>NA                            </td><td>INCEPTION\"-STYLE BEACH,,, ... </td><td>800000                        </td><td>true                          </td><td>1167                          </td></tr>\n",
       "\t<tr><td> 69430                        </td><td>242                           </td><td>  17                          </td><td>2073                          </td><td>Moe Szyslak                   </td><td>IT NEVER ENDS\" SET,Really ... </td><td>947000                        </td><td>true                          </td><td>1088                          </td></tr>\n",
       "\t<tr><td> 21349                        </td><td> 72                           </td><td>  NA                          </td><td> 761                          </td><td>NA                            </td><td>the Lucky Stiff\" Funeral  ... </td><td>321000                        </td><td>true                          </td><td> 990                          </td></tr>\n",
       "\t<tr><td> 81133                        </td><td>280                           </td><td>  NA                          </td><td>2360                          </td><td>NA                            </td><td>UNDERCOVER NERD\" SOUNDSTA ... </td><td>1200000                       </td><td>true                          </td><td> 508                          </td></tr>\n",
       "\t<tr><td> 81138                        </td><td>280                           </td><td>1546                          </td><td>2361                          </td><td>Female Host                   </td><td>CURLING FOR LOONIES\" SET, ... </td><td>1214000                       </td><td>true                          </td><td> 508                          </td></tr>\n",
       "\t<tr><td>139216                        </td><td>496                           </td><td>   2                          </td><td>4018                          </td><td>Homer Simpson                 </td><td>gut Check With Homer Simp ... </td><td>117000                        </td><td>true                          </td><td> 351                          </td></tr>\n",
       "\t<tr><td> 66298                        </td><td>232                           </td><td>1867                          </td><td>2002                          </td><td>Disco Stu                     </td><td>SPRINGFIELD SQUARES GAMES ... </td><td>640000                        </td><td>true                          </td><td> 211                          </td></tr>\n",
       "\t<tr><td> 66300                        </td><td>232                           </td><td>1867                          </td><td>2002                          </td><td>Disco Stu                     </td><td>SPRINGFIELD SQUARES\" GAME ... </td><td>646000                        </td><td>true                          </td><td> 211                          </td></tr>\n",
       "\t<tr><td> 66313                        </td><td>232                           </td><td>   2                          </td><td>2002                          </td><td>Homer Simpson                 </td><td>SPRINGFIELD SQUARES\" GAME ... </td><td>688000                        </td><td>true                          </td><td> 211                          </td></tr>\n",
       "</tbody>\n",
       "</table>\n"
      ],
      "text/latex": [
       "\\begin{tabular}{r|lllllllll}\n",
       " id & episode\\_id & character\\_id & location\\_id & character & location & text & norm\\_text & word\\_count\\\\\n",
       "\\hline\n",
       "\t 152082                         & 544                            &   NA                           & 4311                           & NA                             & SIX FLAGS OVER KRUSTY\" AM ...  & 851000                         & true                           & 6521                          \\\\\n",
       "\t 138005                         & 492                            & 5932                           & 3975                           & Neil Gaiman                    & TWEEN LIT INC.\" MEETING R ...  & 788000                         & true                           & 5933                          \\\\\n",
       "\t 138021                         & 492                            &   NA                           & 3975                           & NA                             & TWEEN LIT INC. MEETING RO ...  & 872000                         & true                           & 5933                          \\\\\n",
       "\t 136529                         & 487                            &   NA                           & 3934                           & NA                             & top Chef\" Kitchen,,,\n",
       "1365 ... & 174000                         & true                           & 5879                          \\\\\n",
       "\t 136531                         & 487                            &    1                           & 3934                           & Marge Simpson                  & top Chef\" Kitchen,Thank y ...  & 185000                         & true                           & 5879                          \\\\\n",
       "\t 139200                         & 496                            &    2                           & 4018                           & Homer Simpson                  & gut Check With Homer Simp ...  & 1180000                        & true                           & 5014                          \\\\\n",
       "\t 139208                         & 496                            & 5014                           & 4018                           & Ted Nugent                     & gut Check With Homer Simp ...  & 1267000                        & true                           & 5014                          \\\\\n",
       "\t  96297                         & 334                            &   NA                           & 2804                           & NA                             & HEADBUTT\" SET,,,\n",
       "96298,33 ... & 648000                         & true                           & 4185                          \\\\\n",
       "\t  96304                         & 334                            &    2                           & 2804                           & Homer Simpson                  & HEADBUTT\" SET,What'd you  ...  & 694000                         & true                           & 4185                          \\\\\n",
       "\t  96306                         & 334                            &    1                           & 2804                           & Marge Simpson                  & HEADBUTT\" SET,I'll have y ...  & 701000                         & true                           & 4185                          \\\\\n",
       "\t  92351                         & 320                            &   NA                           & 2665                           & NA                             & FAMILY MATTERS\" SET,,,\n",
       "92 ... & 670000                         & true                           & 3988                          \\\\\n",
       "\t  81141                         & 280                            & 3487                           & 2361                           & Greta Wolfcastle               & CURLING FOR LOONIES\" SET, ...  & 1229000                        & true                           & 3487                          \\\\\n",
       "\t  81148                         & 280                            &    8                           & 2361                           & Bart Simpson                   & CURLING FOR LOONIES\" SET, ...  & 1254000                        & true                           & 3487                          \\\\\n",
       "\t  92353                         & 320                            & 3989                           & 2665                           & Ebenezer Urkel                 & FAMILY MATTERS SET,Did I  ...  & 677000                         & true                           & 3340                          \\\\\n",
       "\t  75619                         & 262                            &   NA                           & 2214                           & NA                             & MAD\" BUILDING,,,\n",
       "75620,26 ... & 1165000                        & true                           & 3279                          \\\\\n",
       "\t  71994                         & 251                            &    8                           & 2131                           & Bart Simpson                   & BOOKS FOR DUMMIES SECTION ...  & 316000                         & true                           & 3135                          \\\\\n",
       "\t  69434                         & 242                            &    2                           & 2073                           & Homer Simpson                  & IT NEVER ENDS\" SET,Whatev ...  & 970000                         & true                           & 3036                          \\\\\n",
       "\t  69424                         & 242                            &   NA                           & 2073                           & NA                             & IT NEVER ENDS\" SET,,,\n",
       "694 ... & 930000                         & true                           & 3035                          \\\\\n",
       "\t  69427                         & 242                            & 1088                           & 2073                           & Actor                          & IT NEVER ENDS\" SET,And an ...  & 940000                         & true                           & 3035                          \\\\\n",
       "\t  66311                         & 232                            &    2                           & 2002                           & Homer Simpson                  & SPRINGFIELD SQUARES\" GAME ...  & 677000                         & true                           & 2580                          \\\\\n",
       "\t  50537                         & 179                            &    8                           & 1663                           & Bart Simpson                   & MAD\" RECEPTION AREA,Oh. O ...  & 1054000                        & true                           & 2290                          \\\\\n",
       "\t  70494                         & 246                            &   NA                           & 2098                           & NA                             & eye Caramba\" Examination  ...  & 170000                         & true                           & 1265                          \\\\\n",
       "\t  70497                         & 246                            &    2                           & 2098                           & Homer Simpson                  & eye Caramba\" Examination  ...  & 176000                         & true                           & 1265                          \\\\\n",
       "\t 140653                         & 502                            &   NA                           & 4053                           & NA                             & INCEPTION\"-STYLE BEACH,,, ...  & 800000                         & true                           & 1167                          \\\\\n",
       "\t  69430                         & 242                            &   17                           & 2073                           & Moe Szyslak                    & IT NEVER ENDS\" SET,Really ...  & 947000                         & true                           & 1088                          \\\\\n",
       "\t  21349                         &  72                            &   NA                           &  761                           & NA                             & the Lucky Stiff\" Funeral  ...  & 321000                         & true                           &  990                          \\\\\n",
       "\t  81133                         & 280                            &   NA                           & 2360                           & NA                             & UNDERCOVER NERD\" SOUNDSTA ...  & 1200000                        & true                           &  508                          \\\\\n",
       "\t  81138                         & 280                            & 1546                           & 2361                           & Female Host                    & CURLING FOR LOONIES\" SET, ...  & 1214000                        & true                           &  508                          \\\\\n",
       "\t 139216                         & 496                            &    2                           & 4018                           & Homer Simpson                  & gut Check With Homer Simp ...  & 117000                         & true                           &  351                          \\\\\n",
       "\t  66298                         & 232                            & 1867                           & 2002                           & Disco Stu                      & SPRINGFIELD SQUARES GAMES ...  & 640000                         & true                           &  211                          \\\\\n",
       "\t  66300                         & 232                            & 1867                           & 2002                           & Disco Stu                      & SPRINGFIELD SQUARES\" GAME ...  & 646000                         & true                           &  211                          \\\\\n",
       "\t  66313                         & 232                            &    2                           & 2002                           & Homer Simpson                  & SPRINGFIELD SQUARES\" GAME ...  & 688000                         & true                           &  211                          \\\\\n",
       "\\end{tabular}\n"
      ],
      "text/markdown": [
       "\n",
       "id | episode_id | character_id | location_id | character | location | text | norm_text | word_count | \n",
       "|---|---|---|---|---|---|---|---|---|---|---|---|---|---|---|---|---|---|---|---|---|---|---|---|---|---|---|---|---|---|---|---|\n",
       "| 152082                         | 544                            |   NA                           | 4311                           | NA                             | SIX FLAGS OVER KRUSTY\" AM ...  | 851000                         | true                           | 6521                           | \n",
       "| 138005                         | 492                            | 5932                           | 3975                           | Neil Gaiman                    | TWEEN LIT INC.\" MEETING R ...  | 788000                         | true                           | 5933                           | \n",
       "| 138021                         | 492                            |   NA                           | 3975                           | NA                             | TWEEN LIT INC. MEETING RO ...  | 872000                         | true                           | 5933                           | \n",
       "| 136529                         | 487                            |   NA                           | 3934                           | NA                             | top Chef\" Kitchen,,,\n",
       "1365 ... | 174000                         | true                           | 5879                           | \n",
       "| 136531                         | 487                            |    1                           | 3934                           | Marge Simpson                  | top Chef\" Kitchen,Thank y ...  | 185000                         | true                           | 5879                           | \n",
       "| 139200                         | 496                            |    2                           | 4018                           | Homer Simpson                  | gut Check With Homer Simp ...  | 1180000                        | true                           | 5014                           | \n",
       "| 139208                         | 496                            | 5014                           | 4018                           | Ted Nugent                     | gut Check With Homer Simp ...  | 1267000                        | true                           | 5014                           | \n",
       "|  96297                         | 334                            |   NA                           | 2804                           | NA                             | HEADBUTT\" SET,,,\n",
       "96298,33 ... | 648000                         | true                           | 4185                           | \n",
       "|  96304                         | 334                            |    2                           | 2804                           | Homer Simpson                  | HEADBUTT\" SET,What'd you  ...  | 694000                         | true                           | 4185                           | \n",
       "|  96306                         | 334                            |    1                           | 2804                           | Marge Simpson                  | HEADBUTT\" SET,I'll have y ...  | 701000                         | true                           | 4185                           | \n",
       "|  92351                         | 320                            |   NA                           | 2665                           | NA                             | FAMILY MATTERS\" SET,,,\n",
       "92 ... | 670000                         | true                           | 3988                           | \n",
       "|  81141                         | 280                            | 3487                           | 2361                           | Greta Wolfcastle               | CURLING FOR LOONIES\" SET, ...  | 1229000                        | true                           | 3487                           | \n",
       "|  81148                         | 280                            |    8                           | 2361                           | Bart Simpson                   | CURLING FOR LOONIES\" SET, ...  | 1254000                        | true                           | 3487                           | \n",
       "|  92353                         | 320                            | 3989                           | 2665                           | Ebenezer Urkel                 | FAMILY MATTERS SET,Did I  ...  | 677000                         | true                           | 3340                           | \n",
       "|  75619                         | 262                            |   NA                           | 2214                           | NA                             | MAD\" BUILDING,,,\n",
       "75620,26 ... | 1165000                        | true                           | 3279                           | \n",
       "|  71994                         | 251                            |    8                           | 2131                           | Bart Simpson                   | BOOKS FOR DUMMIES SECTION ...  | 316000                         | true                           | 3135                           | \n",
       "|  69434                         | 242                            |    2                           | 2073                           | Homer Simpson                  | IT NEVER ENDS\" SET,Whatev ...  | 970000                         | true                           | 3036                           | \n",
       "|  69424                         | 242                            |   NA                           | 2073                           | NA                             | IT NEVER ENDS\" SET,,,\n",
       "694 ... | 930000                         | true                           | 3035                           | \n",
       "|  69427                         | 242                            | 1088                           | 2073                           | Actor                          | IT NEVER ENDS\" SET,And an ...  | 940000                         | true                           | 3035                           | \n",
       "|  66311                         | 232                            |    2                           | 2002                           | Homer Simpson                  | SPRINGFIELD SQUARES\" GAME ...  | 677000                         | true                           | 2580                           | \n",
       "|  50537                         | 179                            |    8                           | 1663                           | Bart Simpson                   | MAD\" RECEPTION AREA,Oh. O ...  | 1054000                        | true                           | 2290                           | \n",
       "|  70494                         | 246                            |   NA                           | 2098                           | NA                             | eye Caramba\" Examination  ...  | 170000                         | true                           | 1265                           | \n",
       "|  70497                         | 246                            |    2                           | 2098                           | Homer Simpson                  | eye Caramba\" Examination  ...  | 176000                         | true                           | 1265                           | \n",
       "| 140653                         | 502                            |   NA                           | 4053                           | NA                             | INCEPTION\"-STYLE BEACH,,, ...  | 800000                         | true                           | 1167                           | \n",
       "|  69430                         | 242                            |   17                           | 2073                           | Moe Szyslak                    | IT NEVER ENDS\" SET,Really ...  | 947000                         | true                           | 1088                           | \n",
       "|  21349                         |  72                            |   NA                           |  761                           | NA                             | the Lucky Stiff\" Funeral  ...  | 321000                         | true                           |  990                           | \n",
       "|  81133                         | 280                            |   NA                           | 2360                           | NA                             | UNDERCOVER NERD\" SOUNDSTA ...  | 1200000                        | true                           |  508                           | \n",
       "|  81138                         | 280                            | 1546                           | 2361                           | Female Host                    | CURLING FOR LOONIES\" SET, ...  | 1214000                        | true                           |  508                           | \n",
       "| 139216                         | 496                            |    2                           | 4018                           | Homer Simpson                  | gut Check With Homer Simp ...  | 117000                         | true                           |  351                           | \n",
       "|  66298                         | 232                            | 1867                           | 2002                           | Disco Stu                      | SPRINGFIELD SQUARES GAMES ...  | 640000                         | true                           |  211                           | \n",
       "|  66300                         | 232                            | 1867                           | 2002                           | Disco Stu                      | SPRINGFIELD SQUARES\" GAME ...  | 646000                         | true                           |  211                           | \n",
       "|  66313                         | 232                            |    2                           | 2002                           | Homer Simpson                  | SPRINGFIELD SQUARES\" GAME ...  | 688000                         | true                           |  211                           | \n",
       "\n",
       "\n"
      ],
      "text/plain": [
       "   id     episode_id character_id location_id character       \n",
       "1  152082 544          NA         4311        NA              \n",
       "2  138005 492        5932         3975        Neil Gaiman     \n",
       "3  138021 492          NA         3975        NA              \n",
       "4  136529 487          NA         3934        NA              \n",
       "5  136531 487           1         3934        Marge Simpson   \n",
       "6  139200 496           2         4018        Homer Simpson   \n",
       "7  139208 496        5014         4018        Ted Nugent      \n",
       "8   96297 334          NA         2804        NA              \n",
       "9   96304 334           2         2804        Homer Simpson   \n",
       "10  96306 334           1         2804        Marge Simpson   \n",
       "11  92351 320          NA         2665        NA              \n",
       "12  81141 280        3487         2361        Greta Wolfcastle\n",
       "13  81148 280           8         2361        Bart Simpson    \n",
       "14  92353 320        3989         2665        Ebenezer Urkel  \n",
       "15  75619 262          NA         2214        NA              \n",
       "16  71994 251           8         2131        Bart Simpson    \n",
       "17  69434 242           2         2073        Homer Simpson   \n",
       "18  69424 242          NA         2073        NA              \n",
       "19  69427 242        1088         2073        Actor           \n",
       "20  66311 232           2         2002        Homer Simpson   \n",
       "21  50537 179           8         1663        Bart Simpson    \n",
       "22  70494 246          NA         2098        NA              \n",
       "23  70497 246           2         2098        Homer Simpson   \n",
       "24 140653 502          NA         4053        NA              \n",
       "25  69430 242          17         2073        Moe Szyslak     \n",
       "26  21349  72          NA          761        NA              \n",
       "27  81133 280          NA         2360        NA              \n",
       "28  81138 280        1546         2361        Female Host     \n",
       "29 139216 496           2         4018        Homer Simpson   \n",
       "30  66298 232        1867         2002        Disco Stu       \n",
       "31  66300 232        1867         2002        Disco Stu       \n",
       "32  66313 232           2         2002        Homer Simpson   \n",
       "   location                       text    norm_text word_count\n",
       "1  SIX FLAGS OVER KRUSTY\" AM ...  851000  true      6521      \n",
       "2  TWEEN LIT INC.\" MEETING R ...  788000  true      5933      \n",
       "3  TWEEN LIT INC. MEETING RO ...  872000  true      5933      \n",
       "4  top Chef\" Kitchen,,,\\n1365 ... 174000  true      5879      \n",
       "5  top Chef\" Kitchen,Thank y ...  185000  true      5879      \n",
       "6  gut Check With Homer Simp ...  1180000 true      5014      \n",
       "7  gut Check With Homer Simp ...  1267000 true      5014      \n",
       "8  HEADBUTT\" SET,,,\\n96298,33 ... 648000  true      4185      \n",
       "9  HEADBUTT\" SET,What'd you  ...  694000  true      4185      \n",
       "10 HEADBUTT\" SET,I'll have y ...  701000  true      4185      \n",
       "11 FAMILY MATTERS\" SET,,,\\n92 ... 670000  true      3988      \n",
       "12 CURLING FOR LOONIES\" SET, ...  1229000 true      3487      \n",
       "13 CURLING FOR LOONIES\" SET, ...  1254000 true      3487      \n",
       "14 FAMILY MATTERS SET,Did I  ...  677000  true      3340      \n",
       "15 MAD\" BUILDING,,,\\n75620,26 ... 1165000 true      3279      \n",
       "16 BOOKS FOR DUMMIES SECTION ...  316000  true      3135      \n",
       "17 IT NEVER ENDS\" SET,Whatev ...  970000  true      3036      \n",
       "18 IT NEVER ENDS\" SET,,,\\n694 ... 930000  true      3035      \n",
       "19 IT NEVER ENDS\" SET,And an ...  940000  true      3035      \n",
       "20 SPRINGFIELD SQUARES\" GAME ...  677000  true      2580      \n",
       "21 MAD\" RECEPTION AREA,Oh. O ...  1054000 true      2290      \n",
       "22 eye Caramba\" Examination  ...  170000  true      1265      \n",
       "23 eye Caramba\" Examination  ...  176000  true      1265      \n",
       "24 INCEPTION\"-STYLE BEACH,,, ...  800000  true      1167      \n",
       "25 IT NEVER ENDS\" SET,Really ...  947000  true      1088      \n",
       "26 the Lucky Stiff\" Funeral  ...  321000  true       990      \n",
       "27 UNDERCOVER NERD\" SOUNDSTA ...  1200000 true       508      \n",
       "28 CURLING FOR LOONIES\" SET, ...  1214000 true       508      \n",
       "29 gut Check With Homer Simp ...  117000  true       351      \n",
       "30 SPRINGFIELD SQUARES GAMES ...  640000  true       211      \n",
       "31 SPRINGFIELD SQUARES\" GAME ...  646000  true       211      \n",
       "32 SPRINGFIELD SQUARES\" GAME ...  688000  true       211      "
      ]
     },
     "metadata": {},
     "output_type": "display_data"
    }
   ],
   "source": [
    "printable(df %>% filter(word_count>200) %>% arrange(desc(word_count)))"
   ]
  },
  {
   "cell_type": "markdown",
   "metadata": {},
   "source": [
    "Ah, look at the word counts.  This is all incorrect data, and it explains the high averages for Ebenezer Urkel, Neil Gaiman, Ted Nugent and others, especially since the average is being take over so few lines."
   ]
  },
  {
   "cell_type": "markdown",
   "metadata": {},
   "source": [
    "I see a patern: all rows say \"true\" under normalized_text.   Let's see if my speculation is correct:"
   ]
  },
  {
   "cell_type": "code",
   "execution_count": 96,
   "metadata": {},
   "outputs": [
    {
     "data": {
      "text/html": [
       "<table>\n",
       "<thead><tr><th scope=col>id</th><th scope=col>episode_id</th><th scope=col>character_id</th><th scope=col>location_id</th><th scope=col>character</th><th scope=col>location</th><th scope=col>text</th><th scope=col>norm_text</th><th scope=col>word_count</th></tr></thead>\n",
       "<tbody>\n",
       "\t<tr><td>21349                         </td><td> 72                           </td><td>  NA                          </td><td> 761                          </td><td>NA                            </td><td>the Lucky Stiff\" Funeral  ... </td><td>321000                        </td><td>true                          </td><td> 990                          </td></tr>\n",
       "\t<tr><td>21353                         </td><td> 72                           </td><td>  10                          </td><td> 761                          </td><td>Patty Bouvier                 </td><td>the Lucky Stiff\" Funeral  ... </td><td>513000                        </td><td>true                          </td><td>  22                          </td></tr>\n",
       "\t<tr><td>23210                         </td><td> 78                           </td><td>   2                          </td><td> 826                          </td><td>Homer Simpson                 </td><td>Springfield High School C ... </td><td>True.                         </td><td>true                          </td><td>   1                          </td></tr>\n",
       "\t<tr><td>23212                         </td><td> 78                           </td><td>   2                          </td><td> 826                          </td><td>Homer Simpson                 </td><td>Springfield High School C ... </td><td>True.                         </td><td>true                          </td><td>   1                          </td></tr>\n",
       "\t<tr><td>50532                         </td><td>179                           </td><td>  NA                          </td><td>1663                          </td><td>NA                            </td><td>MAD\" RECEPTION AREA,,,\n",
       "50 ...</td><td>1004000                       </td><td>true                          </td><td>   8                          </td></tr>\n",
       "\t<tr><td>50537                         </td><td>179                           </td><td>   8                          </td><td>1663                          </td><td>Bart Simpson                  </td><td>MAD\" RECEPTION AREA,Oh. O ... </td><td>1054000                       </td><td>true                          </td><td>2290                          </td></tr>\n",
       "\t<tr><td>66294                         </td><td>232                           </td><td>  NA                          </td><td>2002                          </td><td>NA                            </td><td>SPRINGFIELD SQUARES GAMES ... </td><td>617000                        </td><td>true                          </td><td>  33                          </td></tr>\n",
       "\t<tr><td>66298                         </td><td>232                           </td><td>1867                          </td><td>2002                          </td><td>Disco Stu                     </td><td>SPRINGFIELD SQUARES GAMES ... </td><td>640000                        </td><td>true                          </td><td> 211                          </td></tr>\n",
       "\t<tr><td>66300                         </td><td>232                           </td><td>1867                          </td><td>2002                          </td><td>Disco Stu                     </td><td>SPRINGFIELD SQUARES\" GAME ... </td><td>646000                        </td><td>true                          </td><td> 211                          </td></tr>\n",
       "\t<tr><td>66311                         </td><td>232                           </td><td>   2                          </td><td>2002                          </td><td>Homer Simpson                 </td><td>SPRINGFIELD SQUARES\" GAME ... </td><td>677000                        </td><td>true                          </td><td>2580                          </td></tr>\n",
       "\t<tr><td>66313                         </td><td>232                           </td><td>   2                          </td><td>2002                          </td><td>Homer Simpson                 </td><td>SPRINGFIELD SQUARES\" GAME ... </td><td>688000                        </td><td>true                          </td><td> 211                          </td></tr>\n",
       "\t<tr><td>66316                         </td><td>232                           </td><td>   2                          </td><td>2002                          </td><td>Homer Simpson                 </td><td>SPRINGFIELD SQUARES\" GAME ... </td><td>265000                        </td><td>true                          </td><td>   2                          </td></tr>\n",
       "\t<tr><td>69424                         </td><td>242                           </td><td>  NA                          </td><td>2073                          </td><td>NA                            </td><td>IT NEVER ENDS\" SET,,,\n",
       "694 ...</td><td>930000                        </td><td>true                          </td><td>3035                          </td></tr>\n",
       "\t<tr><td>69427                         </td><td>242                           </td><td>1088                          </td><td>2073                          </td><td>Actor                         </td><td>IT NEVER ENDS\" SET,And an ... </td><td>940000                        </td><td>true                          </td><td>3035                          </td></tr>\n",
       "\t<tr><td>69430                         </td><td>242                           </td><td>  17                          </td><td>2073                          </td><td>Moe Szyslak                   </td><td>IT NEVER ENDS\" SET,Really ... </td><td>947000                        </td><td>true                          </td><td>1088                          </td></tr>\n",
       "\t<tr><td>69434                         </td><td>242                           </td><td>   2                          </td><td>2073                          </td><td>Homer Simpson                 </td><td>IT NEVER ENDS\" SET,Whatev ... </td><td>970000                        </td><td>true                          </td><td>3036                          </td></tr>\n",
       "\t<tr><td>69436                         </td><td>242                           </td><td>3036                          </td><td>2073                          </td><td>Soap Announcer                </td><td>IT NEVER ENDS\" SET,With G ... </td><td>991000                        </td><td>true                          </td><td>   1                          </td></tr>\n",
       "\t<tr><td>70494                         </td><td>246                           </td><td>  NA                          </td><td>2098                          </td><td>NA                            </td><td>eye Caramba\" Examination  ... </td><td>170000                        </td><td>true                          </td><td>1265                          </td></tr>\n",
       "\t<tr><td>70497                         </td><td>246                           </td><td>   2                          </td><td>2098                          </td><td>Homer Simpson                 </td><td>eye Caramba\" Examination  ... </td><td>176000                        </td><td>true                          </td><td>1265                          </td></tr>\n",
       "\t<tr><td>70499                         </td><td>246                           </td><td>   2                          </td><td>2098                          </td><td>Homer Simpson                 </td><td>eye Caramba\" Examination  ... </td><td>198000                        </td><td>true                          </td><td>   2                          </td></tr>\n",
       "\t<tr><td>70518                         </td><td>246                           </td><td>  NA                          </td><td>2100                          </td><td>NA                            </td><td>tommy Hillclimber\" Campin ... </td><td>214000                        </td><td>true                          </td><td>   1                          </td></tr>\n",
       "\t<tr><td>70521                         </td><td>246                           </td><td>   9                          </td><td>2100                          </td><td>Lisa Simpson                  </td><td>tommy Hillclimber\" Campin ... </td><td>240000                        </td><td>true                          </td><td>   2                          </td></tr>\n",
       "\t<tr><td>71992                         </td><td>251                           </td><td>  NA                          </td><td>2131                          </td><td>NA                            </td><td>BOOKS FOR DUMMIES SECTION ... </td><td>304000                        </td><td>true                          </td><td>   8                          </td></tr>\n",
       "\t<tr><td>71994                         </td><td>251                           </td><td>   8                          </td><td>2131                          </td><td>Bart Simpson                  </td><td>BOOKS FOR DUMMIES SECTION ... </td><td>316000                        </td><td>true                          </td><td>3135                          </td></tr>\n",
       "\t<tr><td>75312                         </td><td>261                           </td><td>  NA                          </td><td>2203                          </td><td>NA                            </td><td>LAUGH IN\" STAGE,,,\n",
       "75093, ...</td><td>150000                        </td><td>true                          </td><td>   2                          </td></tr>\n",
       "\t<tr><td>75315                         </td><td>261                           </td><td> 139                          </td><td>2203                          </td><td>Krusty the Clown              </td><td>LAUGH IN\" STAGE,Those lou ... </td><td>1021000                       </td><td>true                          </td><td> 153                          </td></tr>\n",
       "\t<tr><td>75619                         </td><td>262                           </td><td>  NA                          </td><td>2214                          </td><td>NA                            </td><td>MAD\" BUILDING,,,\n",
       "75620,26 ...</td><td>1165000                       </td><td>true                          </td><td>3279                          </td></tr>\n",
       "\t<tr><td>81133                         </td><td>280                           </td><td>  NA                          </td><td>2360                          </td><td>NA                            </td><td>UNDERCOVER NERD\" SOUNDSTA ... </td><td>1200000                       </td><td>true                          </td><td> 508                          </td></tr>\n",
       "\t<tr><td>81138                         </td><td>280                           </td><td>1546                          </td><td>2361                          </td><td>Female Host                   </td><td>CURLING FOR LOONIES\" SET, ... </td><td>1214000                       </td><td>true                          </td><td> 508                          </td></tr>\n",
       "\t<tr><td>81141                         </td><td>280                           </td><td>3487                          </td><td>2361                          </td><td>Greta Wolfcastle              </td><td>CURLING FOR LOONIES\" SET, ... </td><td>1229000                       </td><td>true                          </td><td>3487                          </td></tr>\n",
       "\t<tr><td>...</td><td>...</td><td>...</td><td>...</td><td>...</td><td>...</td><td>...</td><td>...</td><td>...</td></tr>\n",
       "\t<tr><td> 92362                        </td><td>320                           </td><td>   1                          </td><td>2666                          </td><td>Marge Simpson                 </td><td>STAR TREK\" SET,You've mad ... </td><td>707000                        </td><td>true                          </td><td>   2                          </td></tr>\n",
       "\t<tr><td> 95555                        </td><td>331                           </td><td>  NA                          </td><td>2777                          </td><td>NA                            </td><td>MOON BOUNCE\" CASTLE,,,\n",
       "95 ...</td><td>1152000                       </td><td>true                          </td><td>   1                          </td></tr>\n",
       "\t<tr><td> 96297                        </td><td>334                           </td><td>  NA                          </td><td>2804                          </td><td>NA                            </td><td>HEADBUTT\" SET,,,\n",
       "96298,33 ...</td><td>648000                        </td><td>true                          </td><td>4185                          </td></tr>\n",
       "\t<tr><td> 96304                        </td><td>334                           </td><td>   2                          </td><td>2804                          </td><td>Homer Simpson                 </td><td>HEADBUTT\" SET,What'd you  ... </td><td>694000                        </td><td>true                          </td><td>4185                          </td></tr>\n",
       "\t<tr><td> 96306                        </td><td>334                           </td><td>   1                          </td><td>2804                          </td><td>Marge Simpson                 </td><td>HEADBUTT\" SET,I'll have y ... </td><td>701000                        </td><td>true                          </td><td>4185                          </td></tr>\n",
       "\t<tr><td>117800                        </td><td>414                           </td><td>  NA                          </td><td>3402                          </td><td>NA                            </td><td>mistress-style\" Apartment ... </td><td>940000                        </td><td>true                          </td><td>   2                          </td></tr>\n",
       "\t<tr><td>125797                        </td><td>446                           </td><td>  NA                          </td><td>3637                          </td><td>NA                            </td><td>SMOOCHES ON THE BEACH\" HO ... </td><td>654000                        </td><td>true                          </td><td>   2                          </td></tr>\n",
       "\t<tr><td>130215                        </td><td>463                           </td><td>  NA                          </td><td>3746                          </td><td>NA                            </td><td>WALT'S\" CAR,,,\n",
       "130216,463 ...</td><td>698000                        </td><td>true                          </td><td>   8                          </td></tr>\n",
       "\t<tr><td>136529                        </td><td>487                           </td><td>  NA                          </td><td>3934                          </td><td>NA                            </td><td>top Chef\" Kitchen,,,\n",
       "1365 ...</td><td>174000                        </td><td>true                          </td><td>5879                          </td></tr>\n",
       "\t<tr><td>136531                        </td><td>487                           </td><td>   1                          </td><td>3934                          </td><td>Marge Simpson                 </td><td>top Chef\" Kitchen,Thank y ... </td><td>185000                        </td><td>true                          </td><td>5879                          </td></tr>\n",
       "\t<tr><td>136533                        </td><td>487                           </td><td>5879                          </td><td>3934                          </td><td>Tom Colicchio                 </td><td>top Chef\" Kitchen,Ow! Ow! ... </td><td>199000                        </td><td>true                          </td><td>   1                          </td></tr>\n",
       "\t<tr><td>138000                        </td><td>492                           </td><td>  NA                          </td><td>3975                          </td><td>NA                            </td><td>TWEEN LIT INC.\" MEETING R ... </td><td>780000                        </td><td>true                          </td><td>   2                          </td></tr>\n",
       "\t<tr><td>138005                        </td><td>492                           </td><td>5932                          </td><td>3975                          </td><td>Neil Gaiman                   </td><td>TWEEN LIT INC.\" MEETING R ... </td><td>788000                        </td><td>true                          </td><td>5933                          </td></tr>\n",
       "\t<tr><td>138021                        </td><td>492                           </td><td>  NA                          </td><td>3975                          </td><td>NA                            </td><td>TWEEN LIT INC. MEETING RO ... </td><td>872000                        </td><td>true                          </td><td>5933                          </td></tr>\n",
       "\t<tr><td>138026                        </td><td>492                           </td><td>5933                          </td><td>3975                          </td><td>Slick Publisher               </td><td>TWEEN LIT INC.\" MEETING R ... </td><td>888000                        </td><td>true                          </td><td>   2                          </td></tr>\n",
       "\t<tr><td>139103                        </td><td>496                           </td><td>   2                          </td><td>4013                          </td><td>Homer Simpson                 </td><td>GUT CHECK SET,Goodnight a ... </td><td>621000                        </td><td>true                          </td><td>   2                          </td></tr>\n",
       "\t<tr><td>139096                        </td><td>496                           </td><td>  NA                          </td><td>4013                          </td><td>NA                            </td><td>GUT CHECK SET,,,\n",
       "139097,4 ...</td><td>711000                        </td><td>true                          </td><td>   2                          </td></tr>\n",
       "\t<tr><td>139102                        </td><td>496                           </td><td>   2                          </td><td>4013                          </td><td>Homer Simpson                 </td><td>GUT CHECK\" SET,So get on  ... </td><td>770000                        </td><td>true                          </td><td>   2                          </td></tr>\n",
       "\t<tr><td>139106                        </td><td>496                           </td><td>   2                          </td><td>4013                          </td><td>Homer Simpson                 </td><td>GUT CHECK\" SET,Just an in ... </td><td>787000                        </td><td>true                          </td><td>   9                          </td></tr>\n",
       "\t<tr><td>139197                        </td><td>496                           </td><td>  NA                          </td><td>4018                          </td><td>NA                            </td><td>gut Check With Homer Simp ... </td><td>1157000                       </td><td>true                          </td><td>   2                          </td></tr>\n",
       "\t<tr><td>139200                        </td><td>496                           </td><td>   2                          </td><td>4018                          </td><td>Homer Simpson                 </td><td>gut Check With Homer Simp ... </td><td>1180000                       </td><td>true                          </td><td>5014                          </td></tr>\n",
       "\t<tr><td>139202                        </td><td>496                           </td><td>   2                          </td><td>4018                          </td><td>Homer Simpson                 </td><td>gut Check With Homer Simp ... </td><td>1191000                       </td><td>true                          </td><td>   9                          </td></tr>\n",
       "\t<tr><td>139205                        </td><td>496                           </td><td>   2                          </td><td>4018                          </td><td>Homer Simpson                 </td><td>gut Check With Homer Simp ... </td><td>1211000                       </td><td>true                          </td><td>   9                          </td></tr>\n",
       "\t<tr><td>139208                        </td><td>496                           </td><td>5014                          </td><td>4018                          </td><td>Ted Nugent                    </td><td>gut Check With Homer Simp ... </td><td>1267000                       </td><td>true                          </td><td>5014                          </td></tr>\n",
       "\t<tr><td>139212                        </td><td>496                           </td><td>   2                          </td><td>4018                          </td><td>Homer Simpson                 </td><td>gut Check With Homer Simp ... </td><td>1278000                       </td><td>true                          </td><td>   2                          </td></tr>\n",
       "\t<tr><td>139216                        </td><td>496                           </td><td>   2                          </td><td>4018                          </td><td>Homer Simpson                 </td><td>gut Check With Homer Simp ... </td><td>117000                        </td><td>true                          </td><td> 351                          </td></tr>\n",
       "\t<tr><td>140653                        </td><td>502                           </td><td>  NA                          </td><td>4053                          </td><td>NA                            </td><td>INCEPTION\"-STYLE BEACH,,, ... </td><td>800000                        </td><td>true                          </td><td>1167                          </td></tr>\n",
       "\t<tr><td>152082                        </td><td>544                           </td><td>  NA                          </td><td>4311                          </td><td>NA                            </td><td>SIX FLAGS OVER KRUSTY\" AM ... </td><td>851000                        </td><td>true                          </td><td>6521                          </td></tr>\n",
       "\t<tr><td>152283                                                 </td><td>545                                                    </td><td><span style=white-space:pre-wrap>  NA</span>           </td><td>4320                                                   </td><td><span style=white-space:pre-wrap>NA             </span></td><td>PAY &amp; LEAVE\" SUPERMARKET, ...                      </td><td>558000                                                 </td><td>true                                                   </td><td><span style=white-space:pre-wrap>   2</span>           </td></tr>\n",
       "\t<tr><td>  5617                        </td><td> 19                           </td><td>   8                          </td><td> 250                          </td><td>Bart Simpson                  </td><td>Lake Springfield              </td><td>True.                         </td><td>true                          </td><td>   1                          </td></tr>\n",
       "</tbody>\n",
       "</table>\n"
      ],
      "text/latex": [
       "\\begin{tabular}{r|lllllllll}\n",
       " id & episode\\_id & character\\_id & location\\_id & character & location & text & norm\\_text & word\\_count\\\\\n",
       "\\hline\n",
       "\t 21349                          &  72                            &   NA                           &  761                           & NA                             & the Lucky Stiff\" Funeral  ...  & 321000                         & true                           &  990                          \\\\\n",
       "\t 21353                          &  72                            &   10                           &  761                           & Patty Bouvier                  & the Lucky Stiff\" Funeral  ...  & 513000                         & true                           &   22                          \\\\\n",
       "\t 23210                          &  78                            &    2                           &  826                           & Homer Simpson                  & Springfield High School C ...  & True.                          & true                           &    1                          \\\\\n",
       "\t 23212                          &  78                            &    2                           &  826                           & Homer Simpson                  & Springfield High School C ...  & True.                          & true                           &    1                          \\\\\n",
       "\t 50532                          & 179                            &   NA                           & 1663                           & NA                             & MAD\" RECEPTION AREA,,,\n",
       "50 ... & 1004000                        & true                           &    8                          \\\\\n",
       "\t 50537                          & 179                            &    8                           & 1663                           & Bart Simpson                   & MAD\" RECEPTION AREA,Oh. O ...  & 1054000                        & true                           & 2290                          \\\\\n",
       "\t 66294                          & 232                            &   NA                           & 2002                           & NA                             & SPRINGFIELD SQUARES GAMES ...  & 617000                         & true                           &   33                          \\\\\n",
       "\t 66298                          & 232                            & 1867                           & 2002                           & Disco Stu                      & SPRINGFIELD SQUARES GAMES ...  & 640000                         & true                           &  211                          \\\\\n",
       "\t 66300                          & 232                            & 1867                           & 2002                           & Disco Stu                      & SPRINGFIELD SQUARES\" GAME ...  & 646000                         & true                           &  211                          \\\\\n",
       "\t 66311                          & 232                            &    2                           & 2002                           & Homer Simpson                  & SPRINGFIELD SQUARES\" GAME ...  & 677000                         & true                           & 2580                          \\\\\n",
       "\t 66313                          & 232                            &    2                           & 2002                           & Homer Simpson                  & SPRINGFIELD SQUARES\" GAME ...  & 688000                         & true                           &  211                          \\\\\n",
       "\t 66316                          & 232                            &    2                           & 2002                           & Homer Simpson                  & SPRINGFIELD SQUARES\" GAME ...  & 265000                         & true                           &    2                          \\\\\n",
       "\t 69424                          & 242                            &   NA                           & 2073                           & NA                             & IT NEVER ENDS\" SET,,,\n",
       "694 ... & 930000                         & true                           & 3035                          \\\\\n",
       "\t 69427                          & 242                            & 1088                           & 2073                           & Actor                          & IT NEVER ENDS\" SET,And an ...  & 940000                         & true                           & 3035                          \\\\\n",
       "\t 69430                          & 242                            &   17                           & 2073                           & Moe Szyslak                    & IT NEVER ENDS\" SET,Really ...  & 947000                         & true                           & 1088                          \\\\\n",
       "\t 69434                          & 242                            &    2                           & 2073                           & Homer Simpson                  & IT NEVER ENDS\" SET,Whatev ...  & 970000                         & true                           & 3036                          \\\\\n",
       "\t 69436                          & 242                            & 3036                           & 2073                           & Soap Announcer                 & IT NEVER ENDS\" SET,With G ...  & 991000                         & true                           &    1                          \\\\\n",
       "\t 70494                          & 246                            &   NA                           & 2098                           & NA                             & eye Caramba\" Examination  ...  & 170000                         & true                           & 1265                          \\\\\n",
       "\t 70497                          & 246                            &    2                           & 2098                           & Homer Simpson                  & eye Caramba\" Examination  ...  & 176000                         & true                           & 1265                          \\\\\n",
       "\t 70499                          & 246                            &    2                           & 2098                           & Homer Simpson                  & eye Caramba\" Examination  ...  & 198000                         & true                           &    2                          \\\\\n",
       "\t 70518                          & 246                            &   NA                           & 2100                           & NA                             & tommy Hillclimber\" Campin ...  & 214000                         & true                           &    1                          \\\\\n",
       "\t 70521                          & 246                            &    9                           & 2100                           & Lisa Simpson                   & tommy Hillclimber\" Campin ...  & 240000                         & true                           &    2                          \\\\\n",
       "\t 71992                          & 251                            &   NA                           & 2131                           & NA                             & BOOKS FOR DUMMIES SECTION ...  & 304000                         & true                           &    8                          \\\\\n",
       "\t 71994                          & 251                            &    8                           & 2131                           & Bart Simpson                   & BOOKS FOR DUMMIES SECTION ...  & 316000                         & true                           & 3135                          \\\\\n",
       "\t 75312                          & 261                            &   NA                           & 2203                           & NA                             & LAUGH IN\" STAGE,,,\n",
       "75093, ... & 150000                         & true                           &    2                          \\\\\n",
       "\t 75315                          & 261                            &  139                           & 2203                           & Krusty the Clown               & LAUGH IN\" STAGE,Those lou ...  & 1021000                        & true                           &  153                          \\\\\n",
       "\t 75619                          & 262                            &   NA                           & 2214                           & NA                             & MAD\" BUILDING,,,\n",
       "75620,26 ... & 1165000                        & true                           & 3279                          \\\\\n",
       "\t 81133                          & 280                            &   NA                           & 2360                           & NA                             & UNDERCOVER NERD\" SOUNDSTA ...  & 1200000                        & true                           &  508                          \\\\\n",
       "\t 81138                          & 280                            & 1546                           & 2361                           & Female Host                    & CURLING FOR LOONIES\" SET, ...  & 1214000                        & true                           &  508                          \\\\\n",
       "\t 81141                          & 280                            & 3487                           & 2361                           & Greta Wolfcastle               & CURLING FOR LOONIES\" SET, ...  & 1229000                        & true                           & 3487                          \\\\\n",
       "\t ... & ... & ... & ... & ... & ... & ... & ... & ...\\\\\n",
       "\t  92362                         & 320                            &    1                           & 2666                           & Marge Simpson                  & STAR TREK\" SET,You've mad ...  & 707000                         & true                           &    2                          \\\\\n",
       "\t  95555                         & 331                            &   NA                           & 2777                           & NA                             & MOON BOUNCE\" CASTLE,,,\n",
       "95 ... & 1152000                        & true                           &    1                          \\\\\n",
       "\t  96297                         & 334                            &   NA                           & 2804                           & NA                             & HEADBUTT\" SET,,,\n",
       "96298,33 ... & 648000                         & true                           & 4185                          \\\\\n",
       "\t  96304                         & 334                            &    2                           & 2804                           & Homer Simpson                  & HEADBUTT\" SET,What'd you  ...  & 694000                         & true                           & 4185                          \\\\\n",
       "\t  96306                         & 334                            &    1                           & 2804                           & Marge Simpson                  & HEADBUTT\" SET,I'll have y ...  & 701000                         & true                           & 4185                          \\\\\n",
       "\t 117800                         & 414                            &   NA                           & 3402                           & NA                             & mistress-style\" Apartment ...  & 940000                         & true                           &    2                          \\\\\n",
       "\t 125797                         & 446                            &   NA                           & 3637                           & NA                             & SMOOCHES ON THE BEACH\" HO ...  & 654000                         & true                           &    2                          \\\\\n",
       "\t 130215                         & 463                            &   NA                           & 3746                           & NA                             & WALT'S\" CAR,,,\n",
       "130216,463 ... & 698000                         & true                           &    8                          \\\\\n",
       "\t 136529                         & 487                            &   NA                           & 3934                           & NA                             & top Chef\" Kitchen,,,\n",
       "1365 ... & 174000                         & true                           & 5879                          \\\\\n",
       "\t 136531                         & 487                            &    1                           & 3934                           & Marge Simpson                  & top Chef\" Kitchen,Thank y ...  & 185000                         & true                           & 5879                          \\\\\n",
       "\t 136533                         & 487                            & 5879                           & 3934                           & Tom Colicchio                  & top Chef\" Kitchen,Ow! Ow! ...  & 199000                         & true                           &    1                          \\\\\n",
       "\t 138000                         & 492                            &   NA                           & 3975                           & NA                             & TWEEN LIT INC.\" MEETING R ...  & 780000                         & true                           &    2                          \\\\\n",
       "\t 138005                         & 492                            & 5932                           & 3975                           & Neil Gaiman                    & TWEEN LIT INC.\" MEETING R ...  & 788000                         & true                           & 5933                          \\\\\n",
       "\t 138021                         & 492                            &   NA                           & 3975                           & NA                             & TWEEN LIT INC. MEETING RO ...  & 872000                         & true                           & 5933                          \\\\\n",
       "\t 138026                         & 492                            & 5933                           & 3975                           & Slick Publisher                & TWEEN LIT INC.\" MEETING R ...  & 888000                         & true                           &    2                          \\\\\n",
       "\t 139103                         & 496                            &    2                           & 4013                           & Homer Simpson                  & GUT CHECK SET,Goodnight a ...  & 621000                         & true                           &    2                          \\\\\n",
       "\t 139096                         & 496                            &   NA                           & 4013                           & NA                             & GUT CHECK SET,,,\n",
       "139097,4 ... & 711000                         & true                           &    2                          \\\\\n",
       "\t 139102                         & 496                            &    2                           & 4013                           & Homer Simpson                  & GUT CHECK\" SET,So get on  ...  & 770000                         & true                           &    2                          \\\\\n",
       "\t 139106                         & 496                            &    2                           & 4013                           & Homer Simpson                  & GUT CHECK\" SET,Just an in ...  & 787000                         & true                           &    9                          \\\\\n",
       "\t 139197                         & 496                            &   NA                           & 4018                           & NA                             & gut Check With Homer Simp ...  & 1157000                        & true                           &    2                          \\\\\n",
       "\t 139200                         & 496                            &    2                           & 4018                           & Homer Simpson                  & gut Check With Homer Simp ...  & 1180000                        & true                           & 5014                          \\\\\n",
       "\t 139202                         & 496                            &    2                           & 4018                           & Homer Simpson                  & gut Check With Homer Simp ...  & 1191000                        & true                           &    9                          \\\\\n",
       "\t 139205                         & 496                            &    2                           & 4018                           & Homer Simpson                  & gut Check With Homer Simp ...  & 1211000                        & true                           &    9                          \\\\\n",
       "\t 139208                         & 496                            & 5014                           & 4018                           & Ted Nugent                     & gut Check With Homer Simp ...  & 1267000                        & true                           & 5014                          \\\\\n",
       "\t 139212                         & 496                            &    2                           & 4018                           & Homer Simpson                  & gut Check With Homer Simp ...  & 1278000                        & true                           &    2                          \\\\\n",
       "\t 139216                         & 496                            &    2                           & 4018                           & Homer Simpson                  & gut Check With Homer Simp ...  & 117000                         & true                           &  351                          \\\\\n",
       "\t 140653                         & 502                            &   NA                           & 4053                           & NA                             & INCEPTION\"-STYLE BEACH,,, ...  & 800000                         & true                           & 1167                          \\\\\n",
       "\t 152082                         & 544                            &   NA                           & 4311                           & NA                             & SIX FLAGS OVER KRUSTY\" AM ...  & 851000                         & true                           & 6521                          \\\\\n",
       "\t 152283                           & 545                              &   NA                             & 4320                             & NA                               & PAY \\& LEAVE\" SUPERMARKET, ...  & 558000                           & true                             &    2                            \\\\\n",
       "\t   5617                         &  19                            &    8                           &  250                           & Bart Simpson                   & Lake Springfield               & True.                          & true                           &    1                          \\\\\n",
       "\\end{tabular}\n"
      ],
      "text/markdown": [
       "\n",
       "id | episode_id | character_id | location_id | character | location | text | norm_text | word_count | \n",
       "|---|---|---|---|---|---|---|---|---|---|---|---|---|---|---|---|---|---|---|---|---|---|---|---|---|---|---|---|---|---|---|---|---|---|---|---|---|---|---|---|---|---|---|---|---|---|---|---|---|---|---|---|---|---|---|---|---|---|---|---|---|\n",
       "| 21349                          |  72                            |   NA                           |  761                           | NA                             | the Lucky Stiff\" Funeral  ...  | 321000                         | true                           |  990                           | \n",
       "| 21353                          |  72                            |   10                           |  761                           | Patty Bouvier                  | the Lucky Stiff\" Funeral  ...  | 513000                         | true                           |   22                           | \n",
       "| 23210                          |  78                            |    2                           |  826                           | Homer Simpson                  | Springfield High School C ...  | True.                          | true                           |    1                           | \n",
       "| 23212                          |  78                            |    2                           |  826                           | Homer Simpson                  | Springfield High School C ...  | True.                          | true                           |    1                           | \n",
       "| 50532                          | 179                            |   NA                           | 1663                           | NA                             | MAD\" RECEPTION AREA,,,\n",
       "50 ... | 1004000                        | true                           |    8                           | \n",
       "| 50537                          | 179                            |    8                           | 1663                           | Bart Simpson                   | MAD\" RECEPTION AREA,Oh. O ...  | 1054000                        | true                           | 2290                           | \n",
       "| 66294                          | 232                            |   NA                           | 2002                           | NA                             | SPRINGFIELD SQUARES GAMES ...  | 617000                         | true                           |   33                           | \n",
       "| 66298                          | 232                            | 1867                           | 2002                           | Disco Stu                      | SPRINGFIELD SQUARES GAMES ...  | 640000                         | true                           |  211                           | \n",
       "| 66300                          | 232                            | 1867                           | 2002                           | Disco Stu                      | SPRINGFIELD SQUARES\" GAME ...  | 646000                         | true                           |  211                           | \n",
       "| 66311                          | 232                            |    2                           | 2002                           | Homer Simpson                  | SPRINGFIELD SQUARES\" GAME ...  | 677000                         | true                           | 2580                           | \n",
       "| 66313                          | 232                            |    2                           | 2002                           | Homer Simpson                  | SPRINGFIELD SQUARES\" GAME ...  | 688000                         | true                           |  211                           | \n",
       "| 66316                          | 232                            |    2                           | 2002                           | Homer Simpson                  | SPRINGFIELD SQUARES\" GAME ...  | 265000                         | true                           |    2                           | \n",
       "| 69424                          | 242                            |   NA                           | 2073                           | NA                             | IT NEVER ENDS\" SET,,,\n",
       "694 ... | 930000                         | true                           | 3035                           | \n",
       "| 69427                          | 242                            | 1088                           | 2073                           | Actor                          | IT NEVER ENDS\" SET,And an ...  | 940000                         | true                           | 3035                           | \n",
       "| 69430                          | 242                            |   17                           | 2073                           | Moe Szyslak                    | IT NEVER ENDS\" SET,Really ...  | 947000                         | true                           | 1088                           | \n",
       "| 69434                          | 242                            |    2                           | 2073                           | Homer Simpson                  | IT NEVER ENDS\" SET,Whatev ...  | 970000                         | true                           | 3036                           | \n",
       "| 69436                          | 242                            | 3036                           | 2073                           | Soap Announcer                 | IT NEVER ENDS\" SET,With G ...  | 991000                         | true                           |    1                           | \n",
       "| 70494                          | 246                            |   NA                           | 2098                           | NA                             | eye Caramba\" Examination  ...  | 170000                         | true                           | 1265                           | \n",
       "| 70497                          | 246                            |    2                           | 2098                           | Homer Simpson                  | eye Caramba\" Examination  ...  | 176000                         | true                           | 1265                           | \n",
       "| 70499                          | 246                            |    2                           | 2098                           | Homer Simpson                  | eye Caramba\" Examination  ...  | 198000                         | true                           |    2                           | \n",
       "| 70518                          | 246                            |   NA                           | 2100                           | NA                             | tommy Hillclimber\" Campin ...  | 214000                         | true                           |    1                           | \n",
       "| 70521                          | 246                            |    9                           | 2100                           | Lisa Simpson                   | tommy Hillclimber\" Campin ...  | 240000                         | true                           |    2                           | \n",
       "| 71992                          | 251                            |   NA                           | 2131                           | NA                             | BOOKS FOR DUMMIES SECTION ...  | 304000                         | true                           |    8                           | \n",
       "| 71994                          | 251                            |    8                           | 2131                           | Bart Simpson                   | BOOKS FOR DUMMIES SECTION ...  | 316000                         | true                           | 3135                           | \n",
       "| 75312                          | 261                            |   NA                           | 2203                           | NA                             | LAUGH IN\" STAGE,,,\n",
       "75093, ... | 150000                         | true                           |    2                           | \n",
       "| 75315                          | 261                            |  139                           | 2203                           | Krusty the Clown               | LAUGH IN\" STAGE,Those lou ...  | 1021000                        | true                           |  153                           | \n",
       "| 75619                          | 262                            |   NA                           | 2214                           | NA                             | MAD\" BUILDING,,,\n",
       "75620,26 ... | 1165000                        | true                           | 3279                           | \n",
       "| 81133                          | 280                            |   NA                           | 2360                           | NA                             | UNDERCOVER NERD\" SOUNDSTA ...  | 1200000                        | true                           |  508                           | \n",
       "| 81138                          | 280                            | 1546                           | 2361                           | Female Host                    | CURLING FOR LOONIES\" SET, ...  | 1214000                        | true                           |  508                           | \n",
       "| 81141                          | 280                            | 3487                           | 2361                           | Greta Wolfcastle               | CURLING FOR LOONIES\" SET, ...  | 1229000                        | true                           | 3487                           | \n",
       "| ... | ... | ... | ... | ... | ... | ... | ... | ... | \n",
       "|  92362                         | 320                            |    1                           | 2666                           | Marge Simpson                  | STAR TREK\" SET,You've mad ...  | 707000                         | true                           |    2                           | \n",
       "|  95555                         | 331                            |   NA                           | 2777                           | NA                             | MOON BOUNCE\" CASTLE,,,\n",
       "95 ... | 1152000                        | true                           |    1                           | \n",
       "|  96297                         | 334                            |   NA                           | 2804                           | NA                             | HEADBUTT\" SET,,,\n",
       "96298,33 ... | 648000                         | true                           | 4185                           | \n",
       "|  96304                         | 334                            |    2                           | 2804                           | Homer Simpson                  | HEADBUTT\" SET,What'd you  ...  | 694000                         | true                           | 4185                           | \n",
       "|  96306                         | 334                            |    1                           | 2804                           | Marge Simpson                  | HEADBUTT\" SET,I'll have y ...  | 701000                         | true                           | 4185                           | \n",
       "| 117800                         | 414                            |   NA                           | 3402                           | NA                             | mistress-style\" Apartment ...  | 940000                         | true                           |    2                           | \n",
       "| 125797                         | 446                            |   NA                           | 3637                           | NA                             | SMOOCHES ON THE BEACH\" HO ...  | 654000                         | true                           |    2                           | \n",
       "| 130215                         | 463                            |   NA                           | 3746                           | NA                             | WALT'S\" CAR,,,\n",
       "130216,463 ... | 698000                         | true                           |    8                           | \n",
       "| 136529                         | 487                            |   NA                           | 3934                           | NA                             | top Chef\" Kitchen,,,\n",
       "1365 ... | 174000                         | true                           | 5879                           | \n",
       "| 136531                         | 487                            |    1                           | 3934                           | Marge Simpson                  | top Chef\" Kitchen,Thank y ...  | 185000                         | true                           | 5879                           | \n",
       "| 136533                         | 487                            | 5879                           | 3934                           | Tom Colicchio                  | top Chef\" Kitchen,Ow! Ow! ...  | 199000                         | true                           |    1                           | \n",
       "| 138000                         | 492                            |   NA                           | 3975                           | NA                             | TWEEN LIT INC.\" MEETING R ...  | 780000                         | true                           |    2                           | \n",
       "| 138005                         | 492                            | 5932                           | 3975                           | Neil Gaiman                    | TWEEN LIT INC.\" MEETING R ...  | 788000                         | true                           | 5933                           | \n",
       "| 138021                         | 492                            |   NA                           | 3975                           | NA                             | TWEEN LIT INC. MEETING RO ...  | 872000                         | true                           | 5933                           | \n",
       "| 138026                         | 492                            | 5933                           | 3975                           | Slick Publisher                | TWEEN LIT INC.\" MEETING R ...  | 888000                         | true                           |    2                           | \n",
       "| 139103                         | 496                            |    2                           | 4013                           | Homer Simpson                  | GUT CHECK SET,Goodnight a ...  | 621000                         | true                           |    2                           | \n",
       "| 139096                         | 496                            |   NA                           | 4013                           | NA                             | GUT CHECK SET,,,\n",
       "139097,4 ... | 711000                         | true                           |    2                           | \n",
       "| 139102                         | 496                            |    2                           | 4013                           | Homer Simpson                  | GUT CHECK\" SET,So get on  ...  | 770000                         | true                           |    2                           | \n",
       "| 139106                         | 496                            |    2                           | 4013                           | Homer Simpson                  | GUT CHECK\" SET,Just an in ...  | 787000                         | true                           |    9                           | \n",
       "| 139197                         | 496                            |   NA                           | 4018                           | NA                             | gut Check With Homer Simp ...  | 1157000                        | true                           |    2                           | \n",
       "| 139200                         | 496                            |    2                           | 4018                           | Homer Simpson                  | gut Check With Homer Simp ...  | 1180000                        | true                           | 5014                           | \n",
       "| 139202                         | 496                            |    2                           | 4018                           | Homer Simpson                  | gut Check With Homer Simp ...  | 1191000                        | true                           |    9                           | \n",
       "| 139205                         | 496                            |    2                           | 4018                           | Homer Simpson                  | gut Check With Homer Simp ...  | 1211000                        | true                           |    9                           | \n",
       "| 139208                         | 496                            | 5014                           | 4018                           | Ted Nugent                     | gut Check With Homer Simp ...  | 1267000                        | true                           | 5014                           | \n",
       "| 139212                         | 496                            |    2                           | 4018                           | Homer Simpson                  | gut Check With Homer Simp ...  | 1278000                        | true                           |    2                           | \n",
       "| 139216                         | 496                            |    2                           | 4018                           | Homer Simpson                  | gut Check With Homer Simp ...  | 117000                         | true                           |  351                           | \n",
       "| 140653                         | 502                            |   NA                           | 4053                           | NA                             | INCEPTION\"-STYLE BEACH,,, ...  | 800000                         | true                           | 1167                           | \n",
       "| 152082                         | 544                            |   NA                           | 4311                           | NA                             | SIX FLAGS OVER KRUSTY\" AM ...  | 851000                         | true                           | 6521                           | \n",
       "| 152283                         | 545                            |   NA                           | 4320                           | NA                             | PAY & LEAVE\" SUPERMARKET, ...  | 558000                         | true                           |    2                           | \n",
       "|   5617                         |  19                            |    8                           |  250                           | Bart Simpson                   | Lake Springfield               | True.                          | true                           |    1                           | \n",
       "\n",
       "\n"
      ],
      "text/plain": [
       "    id     episode_id character_id location_id character       \n",
       "1   21349   72          NA          761        NA              \n",
       "2   21353   72          10          761        Patty Bouvier   \n",
       "3   23210   78           2          826        Homer Simpson   \n",
       "4   23212   78           2          826        Homer Simpson   \n",
       "5   50532  179          NA         1663        NA              \n",
       "6   50537  179           8         1663        Bart Simpson    \n",
       "7   66294  232          NA         2002        NA              \n",
       "8   66298  232        1867         2002        Disco Stu       \n",
       "9   66300  232        1867         2002        Disco Stu       \n",
       "10  66311  232           2         2002        Homer Simpson   \n",
       "11  66313  232           2         2002        Homer Simpson   \n",
       "12  66316  232           2         2002        Homer Simpson   \n",
       "13  69424  242          NA         2073        NA              \n",
       "14  69427  242        1088         2073        Actor           \n",
       "15  69430  242          17         2073        Moe Szyslak     \n",
       "16  69434  242           2         2073        Homer Simpson   \n",
       "17  69436  242        3036         2073        Soap Announcer  \n",
       "18  70494  246          NA         2098        NA              \n",
       "19  70497  246           2         2098        Homer Simpson   \n",
       "20  70499  246           2         2098        Homer Simpson   \n",
       "21  70518  246          NA         2100        NA              \n",
       "22  70521  246           9         2100        Lisa Simpson    \n",
       "23  71992  251          NA         2131        NA              \n",
       "24  71994  251           8         2131        Bart Simpson    \n",
       "25  75312  261          NA         2203        NA              \n",
       "26  75315  261         139         2203        Krusty the Clown\n",
       "27  75619  262          NA         2214        NA              \n",
       "28  81133  280          NA         2360        NA              \n",
       "29  81138  280        1546         2361        Female Host     \n",
       "30  81141  280        3487         2361        Greta Wolfcastle\n",
       "... ...    ...        ...          ...         ...             \n",
       "35   92362 320           1         2666        Marge Simpson   \n",
       "36   95555 331          NA         2777        NA              \n",
       "37   96297 334          NA         2804        NA              \n",
       "38   96304 334           2         2804        Homer Simpson   \n",
       "39   96306 334           1         2804        Marge Simpson   \n",
       "40  117800 414          NA         3402        NA              \n",
       "41  125797 446          NA         3637        NA              \n",
       "42  130215 463          NA         3746        NA              \n",
       "43  136529 487          NA         3934        NA              \n",
       "44  136531 487           1         3934        Marge Simpson   \n",
       "45  136533 487        5879         3934        Tom Colicchio   \n",
       "46  138000 492          NA         3975        NA              \n",
       "47  138005 492        5932         3975        Neil Gaiman     \n",
       "48  138021 492          NA         3975        NA              \n",
       "49  138026 492        5933         3975        Slick Publisher \n",
       "50  139103 496           2         4013        Homer Simpson   \n",
       "51  139096 496          NA         4013        NA              \n",
       "52  139102 496           2         4013        Homer Simpson   \n",
       "53  139106 496           2         4013        Homer Simpson   \n",
       "54  139197 496          NA         4018        NA              \n",
       "55  139200 496           2         4018        Homer Simpson   \n",
       "56  139202 496           2         4018        Homer Simpson   \n",
       "57  139205 496           2         4018        Homer Simpson   \n",
       "58  139208 496        5014         4018        Ted Nugent      \n",
       "59  139212 496           2         4018        Homer Simpson   \n",
       "60  139216 496           2         4018        Homer Simpson   \n",
       "61  140653 502          NA         4053        NA              \n",
       "62  152082 544          NA         4311        NA              \n",
       "63  152283 545          NA         4320        NA              \n",
       "64    5617  19           8          250        Bart Simpson    \n",
       "    location                       text    norm_text word_count\n",
       "1   the Lucky Stiff\" Funeral  ...  321000  true       990      \n",
       "2   the Lucky Stiff\" Funeral  ...  513000  true        22      \n",
       "3   Springfield High School C ...  True.   true         1      \n",
       "4   Springfield High School C ...  True.   true         1      \n",
       "5   MAD\" RECEPTION AREA,,,\\n50 ... 1004000 true         8      \n",
       "6   MAD\" RECEPTION AREA,Oh. O ...  1054000 true      2290      \n",
       "7   SPRINGFIELD SQUARES GAMES ...  617000  true        33      \n",
       "8   SPRINGFIELD SQUARES GAMES ...  640000  true       211      \n",
       "9   SPRINGFIELD SQUARES\" GAME ...  646000  true       211      \n",
       "10  SPRINGFIELD SQUARES\" GAME ...  677000  true      2580      \n",
       "11  SPRINGFIELD SQUARES\" GAME ...  688000  true       211      \n",
       "12  SPRINGFIELD SQUARES\" GAME ...  265000  true         2      \n",
       "13  IT NEVER ENDS\" SET,,,\\n694 ... 930000  true      3035      \n",
       "14  IT NEVER ENDS\" SET,And an ...  940000  true      3035      \n",
       "15  IT NEVER ENDS\" SET,Really ...  947000  true      1088      \n",
       "16  IT NEVER ENDS\" SET,Whatev ...  970000  true      3036      \n",
       "17  IT NEVER ENDS\" SET,With G ...  991000  true         1      \n",
       "18  eye Caramba\" Examination  ...  170000  true      1265      \n",
       "19  eye Caramba\" Examination  ...  176000  true      1265      \n",
       "20  eye Caramba\" Examination  ...  198000  true         2      \n",
       "21  tommy Hillclimber\" Campin ...  214000  true         1      \n",
       "22  tommy Hillclimber\" Campin ...  240000  true         2      \n",
       "23  BOOKS FOR DUMMIES SECTION ...  304000  true         8      \n",
       "24  BOOKS FOR DUMMIES SECTION ...  316000  true      3135      \n",
       "25  LAUGH IN\" STAGE,,,\\n75093, ... 150000  true         2      \n",
       "26  LAUGH IN\" STAGE,Those lou ...  1021000 true       153      \n",
       "27  MAD\" BUILDING,,,\\n75620,26 ... 1165000 true      3279      \n",
       "28  UNDERCOVER NERD\" SOUNDSTA ...  1200000 true       508      \n",
       "29  CURLING FOR LOONIES\" SET, ...  1214000 true       508      \n",
       "30  CURLING FOR LOONIES\" SET, ...  1229000 true      3487      \n",
       "... ...                            ...     ...       ...       \n",
       "35  STAR TREK\" SET,You've mad ...  707000  true         2      \n",
       "36  MOON BOUNCE\" CASTLE,,,\\n95 ... 1152000 true         1      \n",
       "37  HEADBUTT\" SET,,,\\n96298,33 ... 648000  true      4185      \n",
       "38  HEADBUTT\" SET,What'd you  ...  694000  true      4185      \n",
       "39  HEADBUTT\" SET,I'll have y ...  701000  true      4185      \n",
       "40  mistress-style\" Apartment ...  940000  true         2      \n",
       "41  SMOOCHES ON THE BEACH\" HO ...  654000  true         2      \n",
       "42  WALT'S\" CAR,,,\\n130216,463 ... 698000  true         8      \n",
       "43  top Chef\" Kitchen,,,\\n1365 ... 174000  true      5879      \n",
       "44  top Chef\" Kitchen,Thank y ...  185000  true      5879      \n",
       "45  top Chef\" Kitchen,Ow! Ow! ...  199000  true         1      \n",
       "46  TWEEN LIT INC.\" MEETING R ...  780000  true         2      \n",
       "47  TWEEN LIT INC.\" MEETING R ...  788000  true      5933      \n",
       "48  TWEEN LIT INC. MEETING RO ...  872000  true      5933      \n",
       "49  TWEEN LIT INC.\" MEETING R ...  888000  true         2      \n",
       "50  GUT CHECK SET,Goodnight a ...  621000  true         2      \n",
       "51  GUT CHECK SET,,,\\n139097,4 ... 711000  true         2      \n",
       "52  GUT CHECK\" SET,So get on  ...  770000  true         2      \n",
       "53  GUT CHECK\" SET,Just an in ...  787000  true         9      \n",
       "54  gut Check With Homer Simp ...  1157000 true         2      \n",
       "55  gut Check With Homer Simp ...  1180000 true      5014      \n",
       "56  gut Check With Homer Simp ...  1191000 true         9      \n",
       "57  gut Check With Homer Simp ...  1211000 true         9      \n",
       "58  gut Check With Homer Simp ...  1267000 true      5014      \n",
       "59  gut Check With Homer Simp ...  1278000 true         2      \n",
       "60  gut Check With Homer Simp ...  117000  true       351      \n",
       "61  INCEPTION\"-STYLE BEACH,,, ...  800000  true      1167      \n",
       "62  SIX FLAGS OVER KRUSTY\" AM ...  851000  true      6521      \n",
       "63  PAY & LEAVE\" SUPERMARKET, ...  558000  true         2      \n",
       "64  Lake Springfield               True.   true         1      "
      ]
     },
     "metadata": {},
     "output_type": "display_data"
    }
   ],
   "source": [
    "printable(df %>% filter(norm_text==\"true\"))"
   ]
  },
  {
   "cell_type": "markdown",
   "metadata": {},
   "source": [
    "Yep, all false data.  If we dump all of it, how much damage are we doing?"
   ]
  },
  {
   "cell_type": "code",
   "execution_count": 97,
   "metadata": {},
   "outputs": [
    {
     "name": "stdout",
     "output_type": "stream",
     "text": [
      "[1] \"Rows: 64\"\n",
      "[1] \"Percentage of df: 0.04 %\"\n"
     ]
    }
   ],
   "source": [
    "x <- dim(df %>% filter(norm_text=='true'))[1]\n",
    "\n",
    "print(paste(\"Rows:\",as.character(x)))\n",
    "\n",
    "y <- round((100*(x/157462)),2)\n",
    "\n",
    "print(paste(\"Percentage of df:\",as.character(y),\"%\"))\n"
   ]
  },
  {
   "cell_type": "code",
   "execution_count": null,
   "metadata": {},
   "outputs": [],
   "source": []
  },
  {
   "cell_type": "markdown",
   "metadata": {},
   "source": [
    "*Laaaaaaater*"
   ]
  },
  {
   "cell_type": "markdown",
   "metadata": {},
   "source": [
    "![title](https://assets-cdn.github.com/images/icons/emoji/unicode/270c.png)"
   ]
  },
  {
   "cell_type": "code",
   "execution_count": 98,
   "metadata": {},
   "outputs": [],
   "source": [
    "df <- df %>% filter(norm_text !='true')"
   ]
  },
  {
   "cell_type": "code",
   "execution_count": 99,
   "metadata": {},
   "outputs": [
    {
     "data": {
      "text/html": [
       "<table>\n",
       "<thead><tr><th scope=col>id</th><th scope=col>episode_id</th><th scope=col>character_id</th><th scope=col>location_id</th><th scope=col>character</th><th scope=col>location</th><th scope=col>text</th><th scope=col>norm_text</th><th scope=col>word_count</th></tr></thead>\n",
       "<tbody>\n",
       "\t<tr><td> 22701                       </td><td> 76                          </td><td>  31                         </td><td>  51                         </td><td>Grampa Simpson               </td><td>Burns's Office               </td><td>One trick is to tell them ...</td><td>one trick is to tell them ...</td><td>122                          </td></tr>\n",
       "\t<tr><td>134211                       </td><td>478                          </td><td>5807                         </td><td>3869                         </td><td>Randy Newman                 </td><td>BEVERLY HILTON-TYPE HOTEL    </td><td>It was not! Who else in h ...</td><td>it was not who else in he ...</td><td>116                          </td></tr>\n",
       "\t<tr><td>  3069                       </td><td> 10                          </td><td>   2                         </td><td> 171                         </td><td>Homer Simpson                </td><td>Sapphire Lounge              </td><td>Quiet! I have something t ...</td><td>quiet i have something to ...</td><td>114                          </td></tr>\n",
       "\t<tr><td> 52015                       </td><td>184                          </td><td>   2                         </td><td> 583                         </td><td>Homer Simpson                </td><td>Police Car                   </td><td>Scully, you're cut. Ehhh, ...</td><td>scully youre cut ehhh bro ...</td><td>111                          </td></tr>\n",
       "\t<tr><td> 99981                       </td><td>347                          </td><td>4349                         </td><td>2906                         </td><td>David Silverman              </td><td>FISHING WHARF                </td><td>David Silverman here, Sup ...</td><td>david silverman here supe ...</td><td>111                          </td></tr>\n",
       "\t<tr><td>156167                       </td><td>560                          </td><td>6685                         </td><td>4417                         </td><td>SAMMY HAGAR                  </td><td>SPRINGFIELD POLICE DEPART ...</td><td>So there I am, in Easter  ...</td><td>so there i am in easter i ...</td><td>110                          </td></tr>\n",
       "\t<tr><td> 27895                       </td><td> 94                          </td><td>1337                         </td><td> 136                         </td><td>James Woods                  </td><td>Kwik-E-Mart                  </td><td>To-Toni, Toni, do-- you'r ...</td><td>to-toni toni do-- youre m ...</td><td>106                          </td></tr>\n",
       "\t<tr><td> 28412                       </td><td> 96                          </td><td> 211                         </td><td>1014                         </td><td>Kent Brockman                </td><td>SIMPSONS' BASE HOUSING LI ...</td><td>Ladies and gentlemen, we' ...</td><td>ladies and gentlemen weve ...</td><td>106                          </td></tr>\n",
       "\t<tr><td>135363                       </td><td>482                          </td><td>5846                         </td><td>3910                         </td><td>Ewell Freestone              </td><td>SPRINGFIELD MAGIC PALACE     </td><td>AND THE YEAR'S FOURTH PEA ...</td><td>and the years fourth peac ...</td><td>105                          </td></tr>\n",
       "\t<tr><td> 15882                       </td><td> 52                          </td><td> 276                         </td><td> 572                         </td><td>Singers                      </td><td>SOFTBALL DIAMOND             </td><td>WELL MR. BURNS HAD DONE I ...</td><td>well mr burns had done it ...</td><td>103                          </td></tr>\n",
       "</tbody>\n",
       "</table>\n"
      ],
      "text/latex": [
       "\\begin{tabular}{r|lllllllll}\n",
       " id & episode\\_id & character\\_id & location\\_id & character & location & text & norm\\_text & word\\_count\\\\\n",
       "\\hline\n",
       "\t  22701                        &  76                           &   31                          &   51                          & Grampa Simpson                & Burns's Office                & One trick is to tell them ... & one trick is to tell them ... & 122                          \\\\\n",
       "\t 134211                        & 478                           & 5807                          & 3869                          & Randy Newman                  & BEVERLY HILTON-TYPE HOTEL     & It was not! Who else in h ... & it was not who else in he ... & 116                          \\\\\n",
       "\t   3069                        &  10                           &    2                          &  171                          & Homer Simpson                 & Sapphire Lounge               & Quiet! I have something t ... & quiet i have something to ... & 114                          \\\\\n",
       "\t  52015                        & 184                           &    2                          &  583                          & Homer Simpson                 & Police Car                    & Scully, you're cut. Ehhh, ... & scully youre cut ehhh bro ... & 111                          \\\\\n",
       "\t  99981                        & 347                           & 4349                          & 2906                          & David Silverman               & FISHING WHARF                 & David Silverman here, Sup ... & david silverman here supe ... & 111                          \\\\\n",
       "\t 156167                        & 560                           & 6685                          & 4417                          & SAMMY HAGAR                   & SPRINGFIELD POLICE DEPART ... & So there I am, in Easter  ... & so there i am in easter i ... & 110                          \\\\\n",
       "\t  27895                        &  94                           & 1337                          &  136                          & James Woods                   & Kwik-E-Mart                   & To-Toni, Toni, do-- you'r ... & to-toni toni do-- youre m ... & 106                          \\\\\n",
       "\t  28412                        &  96                           &  211                          & 1014                          & Kent Brockman                 & SIMPSONS' BASE HOUSING LI ... & Ladies and gentlemen, we' ... & ladies and gentlemen weve ... & 106                          \\\\\n",
       "\t 135363                        & 482                           & 5846                          & 3910                          & Ewell Freestone               & SPRINGFIELD MAGIC PALACE      & AND THE YEAR'S FOURTH PEA ... & and the years fourth peac ... & 105                          \\\\\n",
       "\t  15882                        &  52                           &  276                          &  572                          & Singers                       & SOFTBALL DIAMOND              & WELL MR. BURNS HAD DONE I ... & well mr burns had done it ... & 103                          \\\\\n",
       "\\end{tabular}\n"
      ],
      "text/markdown": [
       "\n",
       "id | episode_id | character_id | location_id | character | location | text | norm_text | word_count | \n",
       "|---|---|---|---|---|---|---|---|---|---|\n",
       "|  22701                        |  76                           |   31                          |   51                          | Grampa Simpson                | Burns's Office                | One trick is to tell them ... | one trick is to tell them ... | 122                           | \n",
       "| 134211                        | 478                           | 5807                          | 3869                          | Randy Newman                  | BEVERLY HILTON-TYPE HOTEL     | It was not! Who else in h ... | it was not who else in he ... | 116                           | \n",
       "|   3069                        |  10                           |    2                          |  171                          | Homer Simpson                 | Sapphire Lounge               | Quiet! I have something t ... | quiet i have something to ... | 114                           | \n",
       "|  52015                        | 184                           |    2                          |  583                          | Homer Simpson                 | Police Car                    | Scully, you're cut. Ehhh, ... | scully youre cut ehhh bro ... | 111                           | \n",
       "|  99981                        | 347                           | 4349                          | 2906                          | David Silverman               | FISHING WHARF                 | David Silverman here, Sup ... | david silverman here supe ... | 111                           | \n",
       "| 156167                        | 560                           | 6685                          | 4417                          | SAMMY HAGAR                   | SPRINGFIELD POLICE DEPART ... | So there I am, in Easter  ... | so there i am in easter i ... | 110                           | \n",
       "|  27895                        |  94                           | 1337                          |  136                          | James Woods                   | Kwik-E-Mart                   | To-Toni, Toni, do-- you'r ... | to-toni toni do-- youre m ... | 106                           | \n",
       "|  28412                        |  96                           |  211                          | 1014                          | Kent Brockman                 | SIMPSONS' BASE HOUSING LI ... | Ladies and gentlemen, we' ... | ladies and gentlemen weve ... | 106                           | \n",
       "| 135363                        | 482                           | 5846                          | 3910                          | Ewell Freestone               | SPRINGFIELD MAGIC PALACE      | AND THE YEAR'S FOURTH PEA ... | and the years fourth peac ... | 105                           | \n",
       "|  15882                        |  52                           |  276                          |  572                          | Singers                       | SOFTBALL DIAMOND              | WELL MR. BURNS HAD DONE I ... | well mr burns had done it ... | 103                           | \n",
       "\n",
       "\n"
      ],
      "text/plain": [
       "   id     episode_id character_id location_id character      \n",
       "1   22701  76          31           51        Grampa Simpson \n",
       "2  134211 478        5807         3869        Randy Newman   \n",
       "3    3069  10           2          171        Homer Simpson  \n",
       "4   52015 184           2          583        Homer Simpson  \n",
       "5   99981 347        4349         2906        David Silverman\n",
       "6  156167 560        6685         4417        SAMMY HAGAR    \n",
       "7   27895  94        1337          136        James Woods    \n",
       "8   28412  96         211         1014        Kent Brockman  \n",
       "9  135363 482        5846         3910        Ewell Freestone\n",
       "10  15882  52         276          572        Singers        \n",
       "   location                      text                         \n",
       "1  Burns's Office                One trick is to tell them ...\n",
       "2  BEVERLY HILTON-TYPE HOTEL     It was not! Who else in h ...\n",
       "3  Sapphire Lounge               Quiet! I have something t ...\n",
       "4  Police Car                    Scully, you're cut. Ehhh, ...\n",
       "5  FISHING WHARF                 David Silverman here, Sup ...\n",
       "6  SPRINGFIELD POLICE DEPART ... So there I am, in Easter  ...\n",
       "7  Kwik-E-Mart                   To-Toni, Toni, do-- you'r ...\n",
       "8  SIMPSONS' BASE HOUSING LI ... Ladies and gentlemen, we' ...\n",
       "9  SPRINGFIELD MAGIC PALACE      AND THE YEAR'S FOURTH PEA ...\n",
       "10 SOFTBALL DIAMOND              WELL MR. BURNS HAD DONE I ...\n",
       "   norm_text                     word_count\n",
       "1  one trick is to tell them ... 122       \n",
       "2  it was not who else in he ... 116       \n",
       "3  quiet i have something to ... 114       \n",
       "4  scully youre cut ehhh bro ... 111       \n",
       "5  david silverman here supe ... 111       \n",
       "6  so there i am in easter i ... 110       \n",
       "7  to-toni toni do-- youre m ... 106       \n",
       "8  ladies and gentlemen weve ... 106       \n",
       "9  and the years fourth peac ... 105       \n",
       "10 well mr burns had done it ... 103       "
      ]
     },
     "metadata": {},
     "output_type": "display_data"
    }
   ],
   "source": [
    "printable(head(df %>% arrange(desc(word_count)),10))"
   ]
  },
  {
   "cell_type": "markdown",
   "metadata": {},
   "source": [
    "This looks SO much better.  We're ready to look at some averages!"
   ]
  },
  {
   "cell_type": "code",
   "execution_count": 100,
   "metadata": {},
   "outputs": [
    {
     "data": {
      "text/html": [
       "<table>\n",
       "<thead><tr><th scope=col>character</th><th scope=col>avg_wordsperline</th></tr></thead>\n",
       "<tbody>\n",
       "\t<tr><td>NRBQ           </td><td>82.00          </td></tr>\n",
       "\t<tr><td>SIR MIX-A-LOT  </td><td>72.00          </td></tr>\n",
       "\t<tr><td>Johnny Bobby   </td><td>69.00          </td></tr>\n",
       "\t<tr><td>Jack Black     </td><td>64.00          </td></tr>\n",
       "\t<tr><td>David Silverman</td><td>61.00          </td></tr>\n",
       "\t<tr><td>Randy Jackson  </td><td>59.00          </td></tr>\n",
       "\t<tr><td>Ellen DeGeneres</td><td>58.00          </td></tr>\n",
       "\t<tr><td>Randy Newman   </td><td>57.75          </td></tr>\n",
       "\t<tr><td>SAMMY HAGAR    </td><td>52.00          </td></tr>\n",
       "\t<tr><td>TRUONG         </td><td>52.00          </td></tr>\n",
       "</tbody>\n",
       "</table>\n"
      ],
      "text/latex": [
       "\\begin{tabular}{r|ll}\n",
       " character & avg\\_wordsperline\\\\\n",
       "\\hline\n",
       "\t NRBQ            & 82.00          \\\\\n",
       "\t SIR MIX-A-LOT   & 72.00          \\\\\n",
       "\t Johnny Bobby    & 69.00          \\\\\n",
       "\t Jack Black      & 64.00          \\\\\n",
       "\t David Silverman & 61.00          \\\\\n",
       "\t Randy Jackson   & 59.00          \\\\\n",
       "\t Ellen DeGeneres & 58.00          \\\\\n",
       "\t Randy Newman    & 57.75          \\\\\n",
       "\t SAMMY HAGAR     & 52.00          \\\\\n",
       "\t TRUONG          & 52.00          \\\\\n",
       "\\end{tabular}\n"
      ],
      "text/markdown": [
       "\n",
       "character | avg_wordsperline | \n",
       "|---|---|---|---|---|---|---|---|---|---|\n",
       "| NRBQ            | 82.00           | \n",
       "| SIR MIX-A-LOT   | 72.00           | \n",
       "| Johnny Bobby    | 69.00           | \n",
       "| Jack Black      | 64.00           | \n",
       "| David Silverman | 61.00           | \n",
       "| Randy Jackson   | 59.00           | \n",
       "| Ellen DeGeneres | 58.00           | \n",
       "| Randy Newman    | 57.75           | \n",
       "| SAMMY HAGAR     | 52.00           | \n",
       "| TRUONG          | 52.00           | \n",
       "\n",
       "\n"
      ],
      "text/plain": [
       "   character       avg_wordsperline\n",
       "1  NRBQ            82.00           \n",
       "2  SIR MIX-A-LOT   72.00           \n",
       "3  Johnny Bobby    69.00           \n",
       "4  Jack Black      64.00           \n",
       "5  David Silverman 61.00           \n",
       "6  Randy Jackson   59.00           \n",
       "7  Ellen DeGeneres 58.00           \n",
       "8  Randy Newman    57.75           \n",
       "9  SAMMY HAGAR     52.00           \n",
       "10 TRUONG          52.00           "
      ]
     },
     "metadata": {},
     "output_type": "display_data"
    }
   ],
   "source": [
    "head(\n",
    "    \n",
    "    (df %>% \n",
    "        filter( character != '') %>% \n",
    "        group_by(character) %>%\n",
    "        summarise(avg_wordsperline=mean(word_count, na.rm = TRUE )) %>%\n",
    "        arrange(desc(avg_wordsperline))),\n",
    "10)"
   ]
  },
  {
   "cell_type": "markdown",
   "metadata": {},
   "source": [
    "It makes sense that celebrities characters have the longest lines.  Writer's probably to squeeze the most dialog out of their short cameos"
   ]
  },
  {
   "cell_type": "markdown",
   "metadata": {},
   "source": [
    "Now back to the *original question*: what does this mean for our main characters?"
   ]
  },
  {
   "cell_type": "code",
   "execution_count": 101,
   "metadata": {},
   "outputs": [],
   "source": [
    "line_counts <- \n",
    "\n",
    "head(\n",
    "    \n",
    "    (df %>% \n",
    "        filter((character != '') & (word_count!= '')) %>% \n",
    "        group_by(character) %>% \n",
    "        summarise(total_words = sum(word_count)) %>% \n",
    "        arrange(desc(total_words))),\n",
    " \n",
    " n=10)"
   ]
  },
  {
   "cell_type": "code",
   "execution_count": 102,
   "metadata": {},
   "outputs": [
    {
     "data": {},
     "metadata": {},
     "output_type": "display_data"
    },
    {
     "data": {
      "image/png": "[encoded data removed]",
      "text/plain": [
       "plot without title"
      ]
     },
     "metadata": {},
     "output_type": "display_data"
    }
   ],
   "source": [
    "theme_set(theme_bw())\n",
    "\n",
    "ggplot(data=line_counts, aes(x=reorder(character,-total_words), y=total_words)) +\n",
    "\n",
    "    geom_bar(stat=\"identity\", \n",
    "             width=.5, \n",
    "             fill=\"tomato3\")+\n",
    "\n",
    "    labs(x=\"Character\", \n",
    "         y=\"Number of lines\", \n",
    "         title=\"Simpsons Character Importance\",\n",
    "         subtitle=\"(By total words in all lines)\") +\n",
    "\n",
    "    theme(axis.text.x = element_text(angle=65, vjust=0.5)) +\n",
    "\n",
    "    theme(aspect.ratio=.5)"
   ]
  },
  {
   "cell_type": "markdown",
   "metadata": {},
   "source": [
    "Doesn't change much for our top 8 characters, however we have an appearance of 2 new characters: *Krusty* and *Chief Wiggum*.  Maybe they have longer lines than the characters they replaced (Grandpa and Millhouse)"
   ]
  },
  {
   "cell_type": "code",
   "execution_count": 103,
   "metadata": {},
   "outputs": [
    {
     "data": {
      "text/html": [
       "<table>\n",
       "<thead><tr><th scope=col>character</th><th scope=col>avg_wordsperline</th></tr></thead>\n",
       "<tbody>\n",
       "\t<tr><td>Krusty the Clown   </td><td>12.146154          </td></tr>\n",
       "\t<tr><td>Chief Wiggum       </td><td>11.162192          </td></tr>\n",
       "\t<tr><td>Grampa Simpson     </td><td>10.801111          </td></tr>\n",
       "\t<tr><td>Milhouse Van Houten</td><td> 8.285879          </td></tr>\n",
       "</tbody>\n",
       "</table>\n"
      ],
      "text/latex": [
       "\\begin{tabular}{r|ll}\n",
       " character & avg\\_wordsperline\\\\\n",
       "\\hline\n",
       "\t Krusty the Clown    & 12.146154          \\\\\n",
       "\t Chief Wiggum        & 11.162192          \\\\\n",
       "\t Grampa Simpson      & 10.801111          \\\\\n",
       "\t Milhouse Van Houten &  8.285879          \\\\\n",
       "\\end{tabular}\n"
      ],
      "text/markdown": [
       "\n",
       "character | avg_wordsperline | \n",
       "|---|---|---|---|\n",
       "| Krusty the Clown    | 12.146154           | \n",
       "| Chief Wiggum        | 11.162192           | \n",
       "| Grampa Simpson      | 10.801111           | \n",
       "| Milhouse Van Houten |  8.285879           | \n",
       "\n",
       "\n"
      ],
      "text/plain": [
       "  character           avg_wordsperline\n",
       "1 Krusty the Clown    12.146154       \n",
       "2 Chief Wiggum        11.162192       \n",
       "3 Grampa Simpson      10.801111       \n",
       "4 Milhouse Van Houten  8.285879       "
      ]
     },
     "metadata": {},
     "output_type": "display_data"
    }
   ],
   "source": [
    "df %>% \n",
    "    filter( character == \"Krusty the Clown\"| \n",
    "           character == \"Chief Wiggum\" | \n",
    "           character == \"Grampa Simpson\" | \n",
    "           character == 'Milhouse Van Houten' ) %>% \n",
    "    group_by(character) %>%\n",
    "    summarise(avg_wordsperline=mean(word_count, na.rm = TRUE )) %>%\n",
    "    arrange(desc(avg_wordsperline))\n"
   ]
  },
  {
   "cell_type": "markdown",
   "metadata": {},
   "source": [
    "We we're right!  Although you would think the longest line in the whole show belonging to Grampa would help is average a little more."
   ]
  },
  {
   "cell_type": "markdown",
   "metadata": {},
   "source": [
    "https://www.youtube.com/watch?v=5Rzao52ndNA"
   ]
  },
  {
   "cell_type": "markdown",
   "metadata": {},
   "source": [
    "This makes me wonder about Grandpa's distribution vs the other's"
   ]
  },
  {
   "cell_type": "code",
   "execution_count": 104,
   "metadata": {},
   "outputs": [],
   "source": [
    "plot1 <- df %>% filter( character == \"Grampa Simpson\" & word_count != '' & id != 22701 ) #rid of longest line\n",
    "plot2 <- df %>% filter( character == \"Krusty the Clown\" & word_count != '')\n",
    "plot3 <- df %>% filter( character == \"Milhouse Van Houten\" & word_count != '')\n",
    "plot4 <- df %>% filter( character == \"Chief Wiggum\" & word_count != '')"
   ]
  },
  {
   "cell_type": "code",
   "execution_count": 105,
   "metadata": {},
   "outputs": [
    {
     "data": {
      "image/png": "[encoded data removed]",
      "text/plain": [
       "plot without title"
      ]
     },
     "metadata": {},
     "output_type": "display_data"
    }
   ],
   "source": [
    "require(gridExtra)\n",
    "\n",
    "theme_set(theme_bw())\n",
    "\n",
    "p1 <- ggplot(data=plot1, aes(x=word_count))+\n",
    "    geom_histogram(binwidth=1, fill=\"steelblue\")+\n",
    "    labs(x=\"Number of Words\", \n",
    "         y=\"Frequency\", \n",
    "         title=\"Grampa Simpson\",\n",
    "         subtitle=\"(Frequency of line length > 20)\") +\n",
    "    scale_y_continuous(limits=c(0,35),\n",
    "                       breaks=(5*(0:7)))+\n",
    "    scale_x_continuous(limits=c(20,75),\n",
    "                       breaks=(5*(4:15)))+\n",
    "    theme(aspect.ratio=.7)\n",
    "\n",
    "p2 <- ggplot(data=plot2, aes(x=word_count))+\n",
    "    geom_histogram(binwidth=1, fill=\"steelblue\")+\n",
    "    labs(x=\"Number of Words\", \n",
    "         y=\"Frequency\", \n",
    "         title=\"Krusty the Clown\",\n",
    "         subtitle=\"(Frequency of line length > 20)\") +\n",
    "    scale_y_continuous(limits=c(0,35),\n",
    "                       breaks=(5*(0:7)))+\n",
    "    scale_x_continuous(limits=c(20,75),\n",
    "                       breaks=(5*(4:15)))+\n",
    "    theme(aspect.ratio=.7)\n",
    "\n",
    "p3 <- ggplot(data=plot3, aes(x=word_count))+\n",
    "    geom_histogram(binwidth=1, fill=\"steelblue\")+\n",
    "    labs(x=\"Number of Words\", \n",
    "         y=\"Frequency\", \n",
    "         title=\"Milhouse Van Houten\",\n",
    "         subtitle=\"(Frequency of line length > 20)\") +\n",
    "    scale_y_continuous(limits=c(0,35),\n",
    "                       breaks=(5*(0:7)))+\n",
    "    scale_x_continuous(limits=c(20,75),\n",
    "                       breaks=(5*(4:15)))+\n",
    "    theme(aspect.ratio=.7)\n",
    "\n",
    "p4 <- ggplot(data=plot4, aes(x=word_count))+\n",
    "    geom_histogram(binwidth=1, fill=\"steelblue\")+\n",
    "    labs(x=\"Number of Words\", \n",
    "         y=\"Frequency\", \n",
    "         title=\"Chief Wiggum\",\n",
    "         subtitle=\"(Frequency of line length > 20)\") +\n",
    "    scale_y_continuous(limits=c(0,35),\n",
    "                       breaks=(5*(0:7)))+\n",
    "    scale_x_continuous(limits=c(20,75),\n",
    "                       breaks=(5*(4:15)))+\n",
    "    theme(aspect.ratio=.7)\n",
    "\n",
    "grid.arrange(p1,p2,p3,p4)"
   ]
  },
  {
   "cell_type": "code",
   "execution_count": null,
   "metadata": {},
   "outputs": [],
   "source": []
  },
  {
   "cell_type": "code",
   "execution_count": null,
   "metadata": {},
   "outputs": [],
   "source": []
  },
  {
   "cell_type": "code",
   "execution_count": null,
   "metadata": {},
   "outputs": [],
   "source": []
  }
 ],
 "metadata": {
  "kernelspec": {
   "display_name": "R",
   "language": "R",
   "name": "ir"
  },
  "language_info": {
   "codemirror_mode": "r",
   "file_extension": ".r",
   "mimetype": "text/x-r-source",
   "name": "R",
   "pygments_lexer": "r",
   "version": "3.4.4"
  }
 },
 "nbformat": 4,
 "nbformat_minor": 2
}
